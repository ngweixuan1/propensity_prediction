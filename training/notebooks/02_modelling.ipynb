{
 "cells": [
  {
   "cell_type": "markdown",
   "id": "e759197e",
   "metadata": {},
   "source": [
    "# Feature Transformation and Selection"
   ]
  },
  {
   "cell_type": "code",
   "execution_count": 1,
   "id": "2bdd4b0b",
   "metadata": {},
   "outputs": [],
   "source": [
    "import pandas as pd\n",
    "import numpy as np"
   ]
  },
  {
   "cell_type": "code",
   "execution_count": 2,
   "id": "e371b740",
   "metadata": {},
   "outputs": [
    {
     "name": "stdout",
     "output_type": "stream",
     "text": [
      "Shape of soc_dem: (1615, 4)\n",
      "Shape of products: (1615, 13)\n",
      "Shape of inflow_outflow: (1587, 15)\n",
      "Shape of sales_revenue: (969, 7)\n",
      "(969, 36)\n",
      "Duplicated:  0\n"
     ]
    },
    {
     "data": {
      "text/html": [
       "<div>\n",
       "<style scoped>\n",
       "    .dataframe tbody tr th:only-of-type {\n",
       "        vertical-align: middle;\n",
       "    }\n",
       "\n",
       "    .dataframe tbody tr th {\n",
       "        vertical-align: top;\n",
       "    }\n",
       "\n",
       "    .dataframe thead th {\n",
       "        text-align: right;\n",
       "    }\n",
       "</style>\n",
       "<table border=\"1\" class=\"dataframe\">\n",
       "  <thead>\n",
       "    <tr style=\"text-align: right;\">\n",
       "      <th></th>\n",
       "      <th>Client</th>\n",
       "      <th>Sale_MF</th>\n",
       "      <th>Sale_CC</th>\n",
       "      <th>Sale_CL</th>\n",
       "      <th>Revenue_MF</th>\n",
       "      <th>Revenue_CC</th>\n",
       "      <th>Revenue_CL</th>\n",
       "      <th>Count_CA</th>\n",
       "      <th>Count_SA</th>\n",
       "      <th>Count_MF</th>\n",
       "      <th>...</th>\n",
       "      <th>VolumeDebCashless_Card</th>\n",
       "      <th>VolumeDeb_PaymentOrder</th>\n",
       "      <th>TransactionsDeb</th>\n",
       "      <th>TransactionsDeb_CA</th>\n",
       "      <th>TransactionsDebCash_Card</th>\n",
       "      <th>TransactionsDebCashless_Card</th>\n",
       "      <th>TransactionsDeb_PaymentOrder</th>\n",
       "      <th>Sex</th>\n",
       "      <th>Age</th>\n",
       "      <th>Tenure</th>\n",
       "    </tr>\n",
       "  </thead>\n",
       "  <tbody>\n",
       "    <tr>\n",
       "      <th>0</th>\n",
       "      <td>1094</td>\n",
       "      <td>0</td>\n",
       "      <td>1</td>\n",
       "      <td>0</td>\n",
       "      <td>0.000000</td>\n",
       "      <td>5.138571</td>\n",
       "      <td>0.0000</td>\n",
       "      <td>1</td>\n",
       "      <td>NaN</td>\n",
       "      <td>NaN</td>\n",
       "      <td>...</td>\n",
       "      <td>351.950357</td>\n",
       "      <td>891.327857</td>\n",
       "      <td>31.0</td>\n",
       "      <td>31.0</td>\n",
       "      <td>1.0</td>\n",
       "      <td>21.0</td>\n",
       "      <td>4.0</td>\n",
       "      <td>M</td>\n",
       "      <td>25</td>\n",
       "      <td>8</td>\n",
       "    </tr>\n",
       "    <tr>\n",
       "      <th>1</th>\n",
       "      <td>1484</td>\n",
       "      <td>1</td>\n",
       "      <td>0</td>\n",
       "      <td>1</td>\n",
       "      <td>25.609107</td>\n",
       "      <td>0.000000</td>\n",
       "      <td>8.7225</td>\n",
       "      <td>1</td>\n",
       "      <td>NaN</td>\n",
       "      <td>NaN</td>\n",
       "      <td>...</td>\n",
       "      <td>302.446429</td>\n",
       "      <td>357.785714</td>\n",
       "      <td>23.0</td>\n",
       "      <td>23.0</td>\n",
       "      <td>1.0</td>\n",
       "      <td>16.0</td>\n",
       "      <td>5.0</td>\n",
       "      <td>M</td>\n",
       "      <td>39</td>\n",
       "      <td>0</td>\n",
       "    </tr>\n",
       "    <tr>\n",
       "      <th>2</th>\n",
       "      <td>20</td>\n",
       "      <td>0</td>\n",
       "      <td>1</td>\n",
       "      <td>0</td>\n",
       "      <td>0.000000</td>\n",
       "      <td>3.822500</td>\n",
       "      <td>0.0000</td>\n",
       "      <td>1</td>\n",
       "      <td>1.0</td>\n",
       "      <td>NaN</td>\n",
       "      <td>...</td>\n",
       "      <td>10.714286</td>\n",
       "      <td>103.571429</td>\n",
       "      <td>7.0</td>\n",
       "      <td>7.0</td>\n",
       "      <td>3.0</td>\n",
       "      <td>1.0</td>\n",
       "      <td>3.0</td>\n",
       "      <td>M</td>\n",
       "      <td>27</td>\n",
       "      <td>181</td>\n",
       "    </tr>\n",
       "    <tr>\n",
       "      <th>3</th>\n",
       "      <td>1193</td>\n",
       "      <td>0</td>\n",
       "      <td>0</td>\n",
       "      <td>0</td>\n",
       "      <td>0.000000</td>\n",
       "      <td>0.000000</td>\n",
       "      <td>0.0000</td>\n",
       "      <td>2</td>\n",
       "      <td>NaN</td>\n",
       "      <td>NaN</td>\n",
       "      <td>...</td>\n",
       "      <td>331.150000</td>\n",
       "      <td>75.178571</td>\n",
       "      <td>55.0</td>\n",
       "      <td>36.0</td>\n",
       "      <td>6.0</td>\n",
       "      <td>21.0</td>\n",
       "      <td>2.0</td>\n",
       "      <td>M</td>\n",
       "      <td>48</td>\n",
       "      <td>16</td>\n",
       "    </tr>\n",
       "    <tr>\n",
       "      <th>4</th>\n",
       "      <td>142</td>\n",
       "      <td>0</td>\n",
       "      <td>0</td>\n",
       "      <td>0</td>\n",
       "      <td>0.000000</td>\n",
       "      <td>0.000000</td>\n",
       "      <td>0.0000</td>\n",
       "      <td>1</td>\n",
       "      <td>NaN</td>\n",
       "      <td>NaN</td>\n",
       "      <td>...</td>\n",
       "      <td>0.000000</td>\n",
       "      <td>725.928571</td>\n",
       "      <td>2.0</td>\n",
       "      <td>2.0</td>\n",
       "      <td>0.0</td>\n",
       "      <td>0.0</td>\n",
       "      <td>1.0</td>\n",
       "      <td>F</td>\n",
       "      <td>27</td>\n",
       "      <td>183</td>\n",
       "    </tr>\n",
       "  </tbody>\n",
       "</table>\n",
       "<p>5 rows × 36 columns</p>\n",
       "</div>"
      ],
      "text/plain": [
       "   Client  Sale_MF  Sale_CC  Sale_CL  Revenue_MF  Revenue_CC  Revenue_CL  \\\n",
       "0    1094        0        1        0    0.000000    5.138571      0.0000   \n",
       "1    1484        1        0        1   25.609107    0.000000      8.7225   \n",
       "2      20        0        1        0    0.000000    3.822500      0.0000   \n",
       "3    1193        0        0        0    0.000000    0.000000      0.0000   \n",
       "4     142        0        0        0    0.000000    0.000000      0.0000   \n",
       "\n",
       "   Count_CA  Count_SA  Count_MF  ...  VolumeDebCashless_Card  \\\n",
       "0         1       NaN       NaN  ...              351.950357   \n",
       "1         1       NaN       NaN  ...              302.446429   \n",
       "2         1       1.0       NaN  ...               10.714286   \n",
       "3         2       NaN       NaN  ...              331.150000   \n",
       "4         1       NaN       NaN  ...                0.000000   \n",
       "\n",
       "   VolumeDeb_PaymentOrder  TransactionsDeb  TransactionsDeb_CA  \\\n",
       "0              891.327857             31.0                31.0   \n",
       "1              357.785714             23.0                23.0   \n",
       "2              103.571429              7.0                 7.0   \n",
       "3               75.178571             55.0                36.0   \n",
       "4              725.928571              2.0                 2.0   \n",
       "\n",
       "   TransactionsDebCash_Card  TransactionsDebCashless_Card  \\\n",
       "0                       1.0                          21.0   \n",
       "1                       1.0                          16.0   \n",
       "2                       3.0                           1.0   \n",
       "3                       6.0                          21.0   \n",
       "4                       0.0                           0.0   \n",
       "\n",
       "   TransactionsDeb_PaymentOrder  Sex  Age  Tenure  \n",
       "0                           4.0    M   25       8  \n",
       "1                           5.0    M   39       0  \n",
       "2                           3.0    M   27     181  \n",
       "3                           2.0    M   48      16  \n",
       "4                           1.0    F   27     183  \n",
       "\n",
       "[5 rows x 36 columns]"
      ]
     },
     "execution_count": 2,
     "metadata": {},
     "output_type": "execute_result"
    }
   ],
   "source": [
    "# Load all sheets from the Excel file\n",
    "file_path = '../data/DataScientist_CaseStudy_Dataset.xlsx'\n",
    "\n",
    "# Load sheets\n",
    "soc_dem = pd.read_excel(file_path, sheet_name='Soc_Dem')\n",
    "print(f\"Shape of soc_dem: {soc_dem.shape}\")\n",
    "products = pd.read_excel(file_path, sheet_name='Products_ActBalance')\n",
    "print(f\"Shape of products: {products.shape}\")\n",
    "inflow_outflow = pd.read_excel(file_path, sheet_name='Inflow_Outflow')\n",
    "print(f\"Shape of inflow_outflow: {inflow_outflow.shape}\")\n",
    "sales_revenue = pd.read_excel(file_path, sheet_name='Sales_Revenues')\n",
    "print(f\"Shape of sales_revenue: {sales_revenue.shape}\")\n",
    "df = sales_revenue.merge(products, on='Client', how='left')\\\n",
    "            .merge(inflow_outflow, on='Client', how='left')\\\n",
    "               .merge(soc_dem, on='Client', how='left')\n",
    "\n",
    "print(df.shape)\n",
    "print(\"Duplicated: \", df.duplicated(subset= \"Client\").sum())\n",
    "label_col = ['Sale_MF', 'Sale_CC', 'Sale_CL', 'Revenue_MF', 'Revenue_CC', 'Revenue_CL']\n",
    "feature_col = [col for col in df.columns if col not in label_col + ['Client']]\n",
    "\n",
    "df.head()\n"
   ]
  },
  {
   "cell_type": "code",
   "execution_count": 3,
   "id": "527b61e3",
   "metadata": {},
   "outputs": [
    {
     "data": {
      "text/plain": [
       "count     110.000000\n",
       "mean      280.908494\n",
       "std       376.194964\n",
       "min       -15.479286\n",
       "25%         0.767857\n",
       "50%        37.125000\n",
       "75%       491.310179\n",
       "max      1767.785357\n",
       "Name: ActBal_CC, dtype: float64"
      ]
     },
     "execution_count": 3,
     "metadata": {},
     "output_type": "execute_result"
    }
   ],
   "source": [
    "df[\"ActBal_CC\"].describe()"
   ]
  },
  {
   "cell_type": "code",
   "execution_count": 4,
   "id": "e23a7327",
   "metadata": {},
   "outputs": [
    {
     "data": {
      "text/plain": [
       "['Count_CA',\n",
       " 'Count_SA',\n",
       " 'Count_MF',\n",
       " 'Count_OVD',\n",
       " 'Count_CC',\n",
       " 'Count_CL',\n",
       " 'ActBal_CA',\n",
       " 'ActBal_SA',\n",
       " 'ActBal_MF',\n",
       " 'ActBal_OVD',\n",
       " 'ActBal_CC',\n",
       " 'ActBal_CL',\n",
       " 'VolumeCred',\n",
       " 'VolumeCred_CA',\n",
       " 'TransactionsCred',\n",
       " 'TransactionsCred_CA',\n",
       " 'VolumeDeb',\n",
       " 'VolumeDeb_CA',\n",
       " 'VolumeDebCash_Card',\n",
       " 'VolumeDebCashless_Card',\n",
       " 'VolumeDeb_PaymentOrder',\n",
       " 'TransactionsDeb',\n",
       " 'TransactionsDeb_CA',\n",
       " 'TransactionsDebCash_Card',\n",
       " 'TransactionsDebCashless_Card',\n",
       " 'TransactionsDeb_PaymentOrder',\n",
       " 'Sex',\n",
       " 'Age',\n",
       " 'Tenure']"
      ]
     },
     "execution_count": 4,
     "metadata": {},
     "output_type": "execute_result"
    }
   ],
   "source": [
    "feature_col"
   ]
  },
  {
   "cell_type": "code",
   "execution_count": 5,
   "id": "8e685b36",
   "metadata": {},
   "outputs": [
    {
     "data": {
      "text/plain": [
       "Client                          0\n",
       "Sale_MF                         0\n",
       "Sale_CC                         0\n",
       "Sale_CL                         0\n",
       "Revenue_MF                      0\n",
       "Revenue_CC                      0\n",
       "Revenue_CL                      0\n",
       "Count_CA                        0\n",
       "Count_SA                        0\n",
       "Count_MF                        0\n",
       "Count_OVD                       0\n",
       "Count_CC                        0\n",
       "Count_CL                        0\n",
       "ActBal_CA                       0\n",
       "ActBal_SA                       0\n",
       "ActBal_MF                       0\n",
       "ActBal_OVD                      0\n",
       "ActBal_CC                       0\n",
       "ActBal_CL                       0\n",
       "VolumeCred                      0\n",
       "VolumeCred_CA                   0\n",
       "TransactionsCred                0\n",
       "TransactionsCred_CA             0\n",
       "VolumeDeb                       0\n",
       "VolumeDeb_CA                    0\n",
       "VolumeDebCash_Card              0\n",
       "VolumeDebCashless_Card          0\n",
       "VolumeDeb_PaymentOrder          0\n",
       "TransactionsDeb                 0\n",
       "TransactionsDeb_CA              0\n",
       "TransactionsDebCash_Card        0\n",
       "TransactionsDebCashless_Card    0\n",
       "TransactionsDeb_PaymentOrder    0\n",
       "Sex                             0\n",
       "Age                             0\n",
       "Tenure                          0\n",
       "dtype: int64"
      ]
     },
     "execution_count": 5,
     "metadata": {},
     "output_type": "execute_result"
    }
   ],
   "source": [
    "# Fill missing\n",
    "col_exclude = 'Sex'\n",
    "\n",
    "df[df.columns.difference([col_exclude])] = df[df.columns.difference([col_exclude])].fillna(0)\n",
    "df = df.dropna() # Dropna\n",
    "df.isnull().sum()"
   ]
  },
  {
   "cell_type": "code",
   "execution_count": 6,
   "id": "8fb135bb",
   "metadata": {},
   "outputs": [
    {
     "name": "stdout",
     "output_type": "stream",
     "text": [
      "Pre-filtered shape: 967\n",
      "Post-filtered shape: 933\n"
     ]
    }
   ],
   "source": [
    "# Filter erroneous tenure\n",
    "print(f\"Pre-filtered shape: {len(df)}\")\n",
    "df =  df[df['Tenure']/12 <= df['Age']]\n",
    "print(f\"Post-filtered shape: {len(df)}\")"
   ]
  },
  {
   "cell_type": "code",
   "execution_count": 7,
   "id": "00e3aa0e",
   "metadata": {},
   "outputs": [],
   "source": [
    "# Create Dummy Columns\n",
    "dummies = pd.get_dummies(df['Sex'], prefix='Sex', drop_first=True).astype(int)\n",
    "df = df.drop('Sex', axis=1).join(dummies)"
   ]
  },
  {
   "cell_type": "code",
   "execution_count": 8,
   "id": "25c7696c",
   "metadata": {},
   "outputs": [
    {
     "data": {
      "text/html": [
       "<div>\n",
       "<style scoped>\n",
       "    .dataframe tbody tr th:only-of-type {\n",
       "        vertical-align: middle;\n",
       "    }\n",
       "\n",
       "    .dataframe tbody tr th {\n",
       "        vertical-align: top;\n",
       "    }\n",
       "\n",
       "    .dataframe thead th {\n",
       "        text-align: right;\n",
       "    }\n",
       "</style>\n",
       "<table border=\"1\" class=\"dataframe\">\n",
       "  <thead>\n",
       "    <tr style=\"text-align: right;\">\n",
       "      <th></th>\n",
       "      <th>Client</th>\n",
       "      <th>Sale_MF</th>\n",
       "      <th>Sale_CC</th>\n",
       "      <th>Sale_CL</th>\n",
       "      <th>Revenue_MF</th>\n",
       "      <th>Revenue_CC</th>\n",
       "      <th>Revenue_CL</th>\n",
       "      <th>Count_CA</th>\n",
       "      <th>Count_SA</th>\n",
       "      <th>Count_MF</th>\n",
       "      <th>...</th>\n",
       "      <th>VolumeDebCashless_Card</th>\n",
       "      <th>VolumeDeb_PaymentOrder</th>\n",
       "      <th>TransactionsDeb</th>\n",
       "      <th>TransactionsDeb_CA</th>\n",
       "      <th>TransactionsDebCash_Card</th>\n",
       "      <th>TransactionsDebCashless_Card</th>\n",
       "      <th>TransactionsDeb_PaymentOrder</th>\n",
       "      <th>Age</th>\n",
       "      <th>Tenure</th>\n",
       "      <th>Sex_M</th>\n",
       "    </tr>\n",
       "  </thead>\n",
       "  <tbody>\n",
       "  </tbody>\n",
       "</table>\n",
       "<p>0 rows × 36 columns</p>\n",
       "</div>"
      ],
      "text/plain": [
       "Empty DataFrame\n",
       "Columns: [Client, Sale_MF, Sale_CC, Sale_CL, Revenue_MF, Revenue_CC, Revenue_CL, Count_CA, Count_SA, Count_MF, Count_OVD, Count_CC, Count_CL, ActBal_CA, ActBal_SA, ActBal_MF, ActBal_OVD, ActBal_CC, ActBal_CL, VolumeCred, VolumeCred_CA, TransactionsCred, TransactionsCred_CA, VolumeDeb, VolumeDeb_CA, VolumeDebCash_Card, VolumeDebCashless_Card, VolumeDeb_PaymentOrder, TransactionsDeb, TransactionsDeb_CA, TransactionsDebCash_Card, TransactionsDebCashless_Card, TransactionsDeb_PaymentOrder, Age, Tenure, Sex_M]\n",
       "Index: []\n",
       "\n",
       "[0 rows x 36 columns]"
      ]
     },
     "execution_count": 8,
     "metadata": {},
     "output_type": "execute_result"
    }
   ],
   "source": [
    "df[df.isna().any(axis=1)]"
   ]
  },
  {
   "cell_type": "code",
   "execution_count": 9,
   "id": "92da8750",
   "metadata": {},
   "outputs": [
    {
     "data": {
      "text/html": [
       "<div>\n",
       "<style scoped>\n",
       "    .dataframe tbody tr th:only-of-type {\n",
       "        vertical-align: middle;\n",
       "    }\n",
       "\n",
       "    .dataframe tbody tr th {\n",
       "        vertical-align: top;\n",
       "    }\n",
       "\n",
       "    .dataframe thead th {\n",
       "        text-align: right;\n",
       "    }\n",
       "</style>\n",
       "<table border=\"1\" class=\"dataframe\">\n",
       "  <thead>\n",
       "    <tr style=\"text-align: right;\">\n",
       "      <th></th>\n",
       "      <th>Client</th>\n",
       "      <th>Sale_MF</th>\n",
       "      <th>Sale_CC</th>\n",
       "      <th>Sale_CL</th>\n",
       "      <th>Revenue_MF</th>\n",
       "      <th>Revenue_CC</th>\n",
       "      <th>Revenue_CL</th>\n",
       "      <th>Count_CA</th>\n",
       "      <th>Count_SA</th>\n",
       "      <th>Count_MF</th>\n",
       "      <th>...</th>\n",
       "      <th>VolumeDebCashless_Card</th>\n",
       "      <th>VolumeDeb_PaymentOrder</th>\n",
       "      <th>TransactionsDeb</th>\n",
       "      <th>TransactionsDeb_CA</th>\n",
       "      <th>TransactionsDebCash_Card</th>\n",
       "      <th>TransactionsDebCashless_Card</th>\n",
       "      <th>TransactionsDeb_PaymentOrder</th>\n",
       "      <th>Age</th>\n",
       "      <th>Tenure</th>\n",
       "      <th>Sex_M</th>\n",
       "    </tr>\n",
       "  </thead>\n",
       "  <tbody>\n",
       "    <tr>\n",
       "      <th>count</th>\n",
       "      <td>933.000000</td>\n",
       "      <td>933.000000</td>\n",
       "      <td>933.000000</td>\n",
       "      <td>933.000000</td>\n",
       "      <td>933.000000</td>\n",
       "      <td>933.000000</td>\n",
       "      <td>933.000000</td>\n",
       "      <td>933.000000</td>\n",
       "      <td>933.000000</td>\n",
       "      <td>933.000000</td>\n",
       "      <td>...</td>\n",
       "      <td>933.000000</td>\n",
       "      <td>933.000000</td>\n",
       "      <td>933.000000</td>\n",
       "      <td>933.000000</td>\n",
       "      <td>933.000000</td>\n",
       "      <td>933.000000</td>\n",
       "      <td>933.000000</td>\n",
       "      <td>933.000000</td>\n",
       "      <td>933.000000</td>\n",
       "      <td>933.000000</td>\n",
       "    </tr>\n",
       "    <tr>\n",
       "      <th>mean</th>\n",
       "      <td>809.939979</td>\n",
       "      <td>0.202572</td>\n",
       "      <td>0.250804</td>\n",
       "      <td>0.286174</td>\n",
       "      <td>1.984476</td>\n",
       "      <td>2.783249</td>\n",
       "      <td>3.388565</td>\n",
       "      <td>1.077170</td>\n",
       "      <td>0.319400</td>\n",
       "      <td>0.926045</td>\n",
       "      <td>...</td>\n",
       "      <td>2.751526</td>\n",
       "      <td>4.164421</td>\n",
       "      <td>2.357480</td>\n",
       "      <td>2.247337</td>\n",
       "      <td>0.790142</td>\n",
       "      <td>1.117071</td>\n",
       "      <td>1.280376</td>\n",
       "      <td>44.314041</td>\n",
       "      <td>98.518757</td>\n",
       "      <td>0.535906</td>\n",
       "    </tr>\n",
       "    <tr>\n",
       "      <th>std</th>\n",
       "      <td>463.643784</td>\n",
       "      <td>0.402132</td>\n",
       "      <td>0.433708</td>\n",
       "      <td>0.452214</td>\n",
       "      <td>10.123181</td>\n",
       "      <td>18.021070</td>\n",
       "      <td>7.554915</td>\n",
       "      <td>0.328287</td>\n",
       "      <td>0.577492</td>\n",
       "      <td>4.124133</td>\n",
       "      <td>...</td>\n",
       "      <td>2.627080</td>\n",
       "      <td>2.804534</td>\n",
       "      <td>1.082752</td>\n",
       "      <td>1.030170</td>\n",
       "      <td>0.759141</td>\n",
       "      <td>1.177716</td>\n",
       "      <td>0.971236</td>\n",
       "      <td>17.526956</td>\n",
       "      <td>64.766458</td>\n",
       "      <td>0.498977</td>\n",
       "    </tr>\n",
       "    <tr>\n",
       "      <th>min</th>\n",
       "      <td>1.000000</td>\n",
       "      <td>0.000000</td>\n",
       "      <td>0.000000</td>\n",
       "      <td>0.000000</td>\n",
       "      <td>0.000000</td>\n",
       "      <td>0.000000</td>\n",
       "      <td>0.000000</td>\n",
       "      <td>1.000000</td>\n",
       "      <td>0.000000</td>\n",
       "      <td>0.000000</td>\n",
       "      <td>...</td>\n",
       "      <td>0.000000</td>\n",
       "      <td>0.000000</td>\n",
       "      <td>0.000000</td>\n",
       "      <td>0.000000</td>\n",
       "      <td>0.000000</td>\n",
       "      <td>0.000000</td>\n",
       "      <td>0.000000</td>\n",
       "      <td>2.000000</td>\n",
       "      <td>0.000000</td>\n",
       "      <td>0.000000</td>\n",
       "    </tr>\n",
       "    <tr>\n",
       "      <th>25%</th>\n",
       "      <td>420.000000</td>\n",
       "      <td>0.000000</td>\n",
       "      <td>0.000000</td>\n",
       "      <td>0.000000</td>\n",
       "      <td>0.000000</td>\n",
       "      <td>0.000000</td>\n",
       "      <td>0.000000</td>\n",
       "      <td>1.000000</td>\n",
       "      <td>0.000000</td>\n",
       "      <td>0.000000</td>\n",
       "      <td>...</td>\n",
       "      <td>0.000000</td>\n",
       "      <td>0.000000</td>\n",
       "      <td>1.609438</td>\n",
       "      <td>1.609438</td>\n",
       "      <td>0.000000</td>\n",
       "      <td>0.000000</td>\n",
       "      <td>0.000000</td>\n",
       "      <td>30.000000</td>\n",
       "      <td>40.000000</td>\n",
       "      <td>0.000000</td>\n",
       "    </tr>\n",
       "    <tr>\n",
       "      <th>50%</th>\n",
       "      <td>810.000000</td>\n",
       "      <td>0.000000</td>\n",
       "      <td>0.000000</td>\n",
       "      <td>0.000000</td>\n",
       "      <td>0.000000</td>\n",
       "      <td>0.000000</td>\n",
       "      <td>0.000000</td>\n",
       "      <td>1.000000</td>\n",
       "      <td>0.000000</td>\n",
       "      <td>0.000000</td>\n",
       "      <td>...</td>\n",
       "      <td>3.241476</td>\n",
       "      <td>5.162539</td>\n",
       "      <td>2.564949</td>\n",
       "      <td>2.397895</td>\n",
       "      <td>0.693147</td>\n",
       "      <td>0.693147</td>\n",
       "      <td>1.386294</td>\n",
       "      <td>42.000000</td>\n",
       "      <td>92.000000</td>\n",
       "      <td>1.000000</td>\n",
       "    </tr>\n",
       "    <tr>\n",
       "      <th>75%</th>\n",
       "      <td>1212.000000</td>\n",
       "      <td>0.000000</td>\n",
       "      <td>1.000000</td>\n",
       "      <td>1.000000</td>\n",
       "      <td>0.000000</td>\n",
       "      <td>0.071429</td>\n",
       "      <td>4.214286</td>\n",
       "      <td>1.000000</td>\n",
       "      <td>1.000000</td>\n",
       "      <td>0.000000</td>\n",
       "      <td>...</td>\n",
       "      <td>5.200303</td>\n",
       "      <td>6.196953</td>\n",
       "      <td>3.135494</td>\n",
       "      <td>2.995732</td>\n",
       "      <td>1.386294</td>\n",
       "      <td>2.079442</td>\n",
       "      <td>2.079442</td>\n",
       "      <td>58.000000</td>\n",
       "      <td>151.000000</td>\n",
       "      <td>1.000000</td>\n",
       "    </tr>\n",
       "    <tr>\n",
       "      <th>max</th>\n",
       "      <td>1613.000000</td>\n",
       "      <td>1.000000</td>\n",
       "      <td>1.000000</td>\n",
       "      <td>1.000000</td>\n",
       "      <td>220.488214</td>\n",
       "      <td>407.962500</td>\n",
       "      <td>133.275357</td>\n",
       "      <td>4.000000</td>\n",
       "      <td>3.000000</td>\n",
       "      <td>79.000000</td>\n",
       "      <td>...</td>\n",
       "      <td>8.199359</td>\n",
       "      <td>11.034181</td>\n",
       "      <td>4.634729</td>\n",
       "      <td>4.430817</td>\n",
       "      <td>3.258097</td>\n",
       "      <td>4.110874</td>\n",
       "      <td>3.555348</td>\n",
       "      <td>90.000000</td>\n",
       "      <td>271.000000</td>\n",
       "      <td>1.000000</td>\n",
       "    </tr>\n",
       "  </tbody>\n",
       "</table>\n",
       "<p>8 rows × 36 columns</p>\n",
       "</div>"
      ],
      "text/plain": [
       "            Client     Sale_MF     Sale_CC     Sale_CL  Revenue_MF  \\\n",
       "count   933.000000  933.000000  933.000000  933.000000  933.000000   \n",
       "mean    809.939979    0.202572    0.250804    0.286174    1.984476   \n",
       "std     463.643784    0.402132    0.433708    0.452214   10.123181   \n",
       "min       1.000000    0.000000    0.000000    0.000000    0.000000   \n",
       "25%     420.000000    0.000000    0.000000    0.000000    0.000000   \n",
       "50%     810.000000    0.000000    0.000000    0.000000    0.000000   \n",
       "75%    1212.000000    0.000000    1.000000    1.000000    0.000000   \n",
       "max    1613.000000    1.000000    1.000000    1.000000  220.488214   \n",
       "\n",
       "       Revenue_CC  Revenue_CL    Count_CA    Count_SA    Count_MF  ...  \\\n",
       "count  933.000000  933.000000  933.000000  933.000000  933.000000  ...   \n",
       "mean     2.783249    3.388565    1.077170    0.319400    0.926045  ...   \n",
       "std     18.021070    7.554915    0.328287    0.577492    4.124133  ...   \n",
       "min      0.000000    0.000000    1.000000    0.000000    0.000000  ...   \n",
       "25%      0.000000    0.000000    1.000000    0.000000    0.000000  ...   \n",
       "50%      0.000000    0.000000    1.000000    0.000000    0.000000  ...   \n",
       "75%      0.071429    4.214286    1.000000    1.000000    0.000000  ...   \n",
       "max    407.962500  133.275357    4.000000    3.000000   79.000000  ...   \n",
       "\n",
       "       VolumeDebCashless_Card  VolumeDeb_PaymentOrder  TransactionsDeb  \\\n",
       "count              933.000000              933.000000       933.000000   \n",
       "mean                 2.751526                4.164421         2.357480   \n",
       "std                  2.627080                2.804534         1.082752   \n",
       "min                  0.000000                0.000000         0.000000   \n",
       "25%                  0.000000                0.000000         1.609438   \n",
       "50%                  3.241476                5.162539         2.564949   \n",
       "75%                  5.200303                6.196953         3.135494   \n",
       "max                  8.199359               11.034181         4.634729   \n",
       "\n",
       "       TransactionsDeb_CA  TransactionsDebCash_Card  \\\n",
       "count          933.000000                933.000000   \n",
       "mean             2.247337                  0.790142   \n",
       "std              1.030170                  0.759141   \n",
       "min              0.000000                  0.000000   \n",
       "25%              1.609438                  0.000000   \n",
       "50%              2.397895                  0.693147   \n",
       "75%              2.995732                  1.386294   \n",
       "max              4.430817                  3.258097   \n",
       "\n",
       "       TransactionsDebCashless_Card  TransactionsDeb_PaymentOrder         Age  \\\n",
       "count                    933.000000                    933.000000  933.000000   \n",
       "mean                       1.117071                      1.280376   44.314041   \n",
       "std                        1.177716                      0.971236   17.526956   \n",
       "min                        0.000000                      0.000000    2.000000   \n",
       "25%                        0.000000                      0.000000   30.000000   \n",
       "50%                        0.693147                      1.386294   42.000000   \n",
       "75%                        2.079442                      2.079442   58.000000   \n",
       "max                        4.110874                      3.555348   90.000000   \n",
       "\n",
       "           Tenure       Sex_M  \n",
       "count  933.000000  933.000000  \n",
       "mean    98.518757    0.535906  \n",
       "std     64.766458    0.498977  \n",
       "min      0.000000    0.000000  \n",
       "25%     40.000000    0.000000  \n",
       "50%     92.000000    1.000000  \n",
       "75%    151.000000    1.000000  \n",
       "max    271.000000    1.000000  \n",
       "\n",
       "[8 rows x 36 columns]"
      ]
     },
     "execution_count": 9,
     "metadata": {},
     "output_type": "execute_result"
    }
   ],
   "source": [
    "# Log transform\n",
    "col_to_transform = [col for col in df.columns if (col.startswith('Volume') or col.startswith('Transactions'))]\n",
    "df[col_to_transform] = df[col_to_transform].apply(lambda x: np.log1p(x))\n",
    "df.describe()"
   ]
  },
  {
   "cell_type": "markdown",
   "id": "5cba5d21",
   "metadata": {},
   "source": [
    "# Train Test Split"
   ]
  },
  {
   "cell_type": "code",
   "execution_count": 10,
   "id": "cb761905",
   "metadata": {},
   "outputs": [
    {
     "name": "stdout",
     "output_type": "stream",
     "text": [
      "(745, 33) (94, 33) (94, 33)\n"
     ]
    },
    {
     "data": {
      "text/html": [
       "<div>\n",
       "<style scoped>\n",
       "    .dataframe tbody tr th:only-of-type {\n",
       "        vertical-align: middle;\n",
       "    }\n",
       "\n",
       "    .dataframe tbody tr th {\n",
       "        vertical-align: top;\n",
       "    }\n",
       "\n",
       "    .dataframe thead th {\n",
       "        text-align: right;\n",
       "    }\n",
       "</style>\n",
       "<table border=\"1\" class=\"dataframe\">\n",
       "  <thead>\n",
       "    <tr style=\"text-align: right;\">\n",
       "      <th></th>\n",
       "      <th>Client</th>\n",
       "      <th>Revenue_MF</th>\n",
       "      <th>Revenue_CC</th>\n",
       "      <th>Revenue_CL</th>\n",
       "      <th>Count_CA</th>\n",
       "      <th>Count_SA</th>\n",
       "      <th>Count_MF</th>\n",
       "      <th>Count_OVD</th>\n",
       "      <th>Count_CC</th>\n",
       "      <th>Count_CL</th>\n",
       "      <th>...</th>\n",
       "      <th>VolumeDebCashless_Card</th>\n",
       "      <th>VolumeDeb_PaymentOrder</th>\n",
       "      <th>TransactionsDeb</th>\n",
       "      <th>TransactionsDeb_CA</th>\n",
       "      <th>TransactionsDebCash_Card</th>\n",
       "      <th>TransactionsDebCashless_Card</th>\n",
       "      <th>TransactionsDeb_PaymentOrder</th>\n",
       "      <th>Age</th>\n",
       "      <th>Tenure</th>\n",
       "      <th>Sex_M</th>\n",
       "    </tr>\n",
       "  </thead>\n",
       "  <tbody>\n",
       "    <tr>\n",
       "      <th>194</th>\n",
       "      <td>721</td>\n",
       "      <td>0.0</td>\n",
       "      <td>4.464286</td>\n",
       "      <td>0.000000</td>\n",
       "      <td>1</td>\n",
       "      <td>1.0</td>\n",
       "      <td>0.0</td>\n",
       "      <td>1.0</td>\n",
       "      <td>0.0</td>\n",
       "      <td>0.0</td>\n",
       "      <td>...</td>\n",
       "      <td>5.030134</td>\n",
       "      <td>6.703035</td>\n",
       "      <td>2.890372</td>\n",
       "      <td>2.890372</td>\n",
       "      <td>0.693147</td>\n",
       "      <td>1.609438</td>\n",
       "      <td>2.484907</td>\n",
       "      <td>67</td>\n",
       "      <td>82</td>\n",
       "      <td>0</td>\n",
       "    </tr>\n",
       "    <tr>\n",
       "      <th>120</th>\n",
       "      <td>1456</td>\n",
       "      <td>0.0</td>\n",
       "      <td>3.607143</td>\n",
       "      <td>0.000000</td>\n",
       "      <td>1</td>\n",
       "      <td>1.0</td>\n",
       "      <td>0.0</td>\n",
       "      <td>0.0</td>\n",
       "      <td>0.0</td>\n",
       "      <td>0.0</td>\n",
       "      <td>...</td>\n",
       "      <td>6.211492</td>\n",
       "      <td>5.559169</td>\n",
       "      <td>3.367296</td>\n",
       "      <td>3.367296</td>\n",
       "      <td>0.693147</td>\n",
       "      <td>3.044522</td>\n",
       "      <td>1.791759</td>\n",
       "      <td>61</td>\n",
       "      <td>149</td>\n",
       "      <td>0</td>\n",
       "    </tr>\n",
       "    <tr>\n",
       "      <th>859</th>\n",
       "      <td>1579</td>\n",
       "      <td>0.0</td>\n",
       "      <td>0.000000</td>\n",
       "      <td>4.388929</td>\n",
       "      <td>1</td>\n",
       "      <td>1.0</td>\n",
       "      <td>3.0</td>\n",
       "      <td>0.0</td>\n",
       "      <td>0.0</td>\n",
       "      <td>0.0</td>\n",
       "      <td>...</td>\n",
       "      <td>6.819962</td>\n",
       "      <td>6.669770</td>\n",
       "      <td>3.258097</td>\n",
       "      <td>3.258097</td>\n",
       "      <td>1.791759</td>\n",
       "      <td>2.397895</td>\n",
       "      <td>2.197225</td>\n",
       "      <td>50</td>\n",
       "      <td>0</td>\n",
       "      <td>1</td>\n",
       "    </tr>\n",
       "    <tr>\n",
       "      <th>705</th>\n",
       "      <td>1272</td>\n",
       "      <td>0.0</td>\n",
       "      <td>0.000000</td>\n",
       "      <td>0.000000</td>\n",
       "      <td>1</td>\n",
       "      <td>0.0</td>\n",
       "      <td>1.0</td>\n",
       "      <td>0.0</td>\n",
       "      <td>0.0</td>\n",
       "      <td>0.0</td>\n",
       "      <td>...</td>\n",
       "      <td>5.667504</td>\n",
       "      <td>6.830141</td>\n",
       "      <td>2.944439</td>\n",
       "      <td>2.944439</td>\n",
       "      <td>1.386294</td>\n",
       "      <td>1.609438</td>\n",
       "      <td>2.302585</td>\n",
       "      <td>35</td>\n",
       "      <td>96</td>\n",
       "      <td>1</td>\n",
       "    </tr>\n",
       "    <tr>\n",
       "      <th>762</th>\n",
       "      <td>123</td>\n",
       "      <td>0.0</td>\n",
       "      <td>0.000000</td>\n",
       "      <td>10.461071</td>\n",
       "      <td>2</td>\n",
       "      <td>0.0</td>\n",
       "      <td>0.0</td>\n",
       "      <td>0.0</td>\n",
       "      <td>0.0</td>\n",
       "      <td>0.0</td>\n",
       "      <td>...</td>\n",
       "      <td>3.553305</td>\n",
       "      <td>0.000000</td>\n",
       "      <td>1.098612</td>\n",
       "      <td>1.098612</td>\n",
       "      <td>0.000000</td>\n",
       "      <td>0.693147</td>\n",
       "      <td>0.000000</td>\n",
       "      <td>22</td>\n",
       "      <td>40</td>\n",
       "      <td>0</td>\n",
       "    </tr>\n",
       "  </tbody>\n",
       "</table>\n",
       "<p>5 rows × 33 columns</p>\n",
       "</div>"
      ],
      "text/plain": [
       "     Client  Revenue_MF  Revenue_CC  Revenue_CL  Count_CA  Count_SA  Count_MF  \\\n",
       "194     721         0.0    4.464286    0.000000         1       1.0       0.0   \n",
       "120    1456         0.0    3.607143    0.000000         1       1.0       0.0   \n",
       "859    1579         0.0    0.000000    4.388929         1       1.0       3.0   \n",
       "705    1272         0.0    0.000000    0.000000         1       0.0       1.0   \n",
       "762     123         0.0    0.000000   10.461071         2       0.0       0.0   \n",
       "\n",
       "     Count_OVD  Count_CC  Count_CL  ...  VolumeDebCashless_Card  \\\n",
       "194        1.0       0.0       0.0  ...                5.030134   \n",
       "120        0.0       0.0       0.0  ...                6.211492   \n",
       "859        0.0       0.0       0.0  ...                6.819962   \n",
       "705        0.0       0.0       0.0  ...                5.667504   \n",
       "762        0.0       0.0       0.0  ...                3.553305   \n",
       "\n",
       "     VolumeDeb_PaymentOrder  TransactionsDeb  TransactionsDeb_CA  \\\n",
       "194                6.703035         2.890372            2.890372   \n",
       "120                5.559169         3.367296            3.367296   \n",
       "859                6.669770         3.258097            3.258097   \n",
       "705                6.830141         2.944439            2.944439   \n",
       "762                0.000000         1.098612            1.098612   \n",
       "\n",
       "     TransactionsDebCash_Card  TransactionsDebCashless_Card  \\\n",
       "194                  0.693147                      1.609438   \n",
       "120                  0.693147                      3.044522   \n",
       "859                  1.791759                      2.397895   \n",
       "705                  1.386294                      1.609438   \n",
       "762                  0.000000                      0.693147   \n",
       "\n",
       "     TransactionsDeb_PaymentOrder  Age  Tenure  Sex_M  \n",
       "194                      2.484907   67      82      0  \n",
       "120                      1.791759   61     149      0  \n",
       "859                      2.197225   50       0      1  \n",
       "705                      2.302585   35      96      1  \n",
       "762                      0.000000   22      40      0  \n",
       "\n",
       "[5 rows x 33 columns]"
      ]
     },
     "execution_count": 10,
     "metadata": {},
     "output_type": "execute_result"
    }
   ],
   "source": [
    "from sklearn.model_selection import train_test_split\n",
    "\n",
    "def split_df(df, label_cols, test_size=0.1, val_size=0.1, random_state=None, shuffle=True):\n",
    "    \"\"\"\n",
    "    Split a DataFrame into train, validation, and test sets with stratification\n",
    "    based on the combination of multiple label columns.\n",
    "\n",
    "    Parameters:\n",
    "    - df: pandas DataFrame\n",
    "    - label_cols: list of str, column names for labels (for stratification)\n",
    "    - test_size: float, fraction of data for test set (default 0.2)\n",
    "    - val_size: float, fraction of data for validation set (default 0.1)\n",
    "    - random_state: int or None, for reproducibility\n",
    "    - shuffle: bool, whether to shuffle before splitting (default True)\n",
    "\n",
    "    Returns:\n",
    "    - X_train, X_val, X_test, y_train, y_val, y_test as DataFrames\n",
    "    \"\"\"\n",
    "    if not isinstance(label_cols, list):\n",
    "        raise ValueError(\"label_cols must be a list of column names\")\n",
    "\n",
    "    # Create stratification key by combining label columns as a tuple of string\n",
    "    stratify_key = df[label_cols].astype(str).agg('_'.join, axis=1)\n",
    "\n",
    "    X = df.drop(columns=label_cols)\n",
    "    y = df[label_cols]\n",
    "\n",
    "    # First split: train+val and test with stratification\n",
    "    X_train_val, X_test, y_train_val, y_test, strat_train_val, strat_test = train_test_split(\n",
    "        X, y, stratify_key, test_size=test_size, random_state=random_state, shuffle=shuffle\n",
    "    )\n",
    "\n",
    "    # Adjust val_size relative to remaining train_val set\n",
    "    val_adjusted = val_size / (1 - test_size)\n",
    "\n",
    "    # Second split: train and val with stratification\n",
    "    X_train, X_val, y_train, y_val = train_test_split(\n",
    "        X_train_val, y_train_val, test_size=val_adjusted,\n",
    "        stratify=strat_train_val,\n",
    "        random_state=random_state, shuffle=shuffle\n",
    "    )\n",
    "\n",
    "    return X_train, X_val, X_test, y_train, y_val, y_test\n",
    "\n",
    "X_train, X_val, X_test, y_train, y_val, y_test = split_df(\n",
    "    df, label_cols=['Sale_MF', 'Sale_CC', 'Sale_CL'], test_size=0.1, val_size=0.1, random_state=42\n",
    ")\n",
    "print(X_train.shape, X_test.shape, X_val.shape)\n",
    "X_train.head()"
   ]
  },
  {
   "cell_type": "code",
   "execution_count": 11,
   "id": "473f49d9",
   "metadata": {},
   "outputs": [
    {
     "data": {
      "text/html": [
       "<div>\n",
       "<style scoped>\n",
       "    .dataframe tbody tr th:only-of-type {\n",
       "        vertical-align: middle;\n",
       "    }\n",
       "\n",
       "    .dataframe tbody tr th {\n",
       "        vertical-align: top;\n",
       "    }\n",
       "\n",
       "    .dataframe thead th {\n",
       "        text-align: right;\n",
       "    }\n",
       "</style>\n",
       "<table border=\"1\" class=\"dataframe\">\n",
       "  <thead>\n",
       "    <tr style=\"text-align: right;\">\n",
       "      <th></th>\n",
       "      <th>ActBal_CA</th>\n",
       "      <th>ActBal_SA</th>\n",
       "      <th>ActBal_MF</th>\n",
       "      <th>ActBal_OVD</th>\n",
       "      <th>ActBal_CC</th>\n",
       "      <th>ActBal_CL</th>\n",
       "    </tr>\n",
       "  </thead>\n",
       "  <tbody>\n",
       "    <tr>\n",
       "      <th>194</th>\n",
       "      <td>-0.374023</td>\n",
       "      <td>1.237147</td>\n",
       "      <td>-0.128290</td>\n",
       "      <td>3.170964</td>\n",
       "      <td>-0.199778</td>\n",
       "      <td>-0.197907</td>\n",
       "    </tr>\n",
       "    <tr>\n",
       "      <th>120</th>\n",
       "      <td>-0.409403</td>\n",
       "      <td>-0.208348</td>\n",
       "      <td>-0.128290</td>\n",
       "      <td>-0.225288</td>\n",
       "      <td>-0.199778</td>\n",
       "      <td>-0.197907</td>\n",
       "    </tr>\n",
       "    <tr>\n",
       "      <th>859</th>\n",
       "      <td>-0.340294</td>\n",
       "      <td>0.236943</td>\n",
       "      <td>-0.128290</td>\n",
       "      <td>-0.225288</td>\n",
       "      <td>-0.199778</td>\n",
       "      <td>-0.197907</td>\n",
       "    </tr>\n",
       "    <tr>\n",
       "      <th>705</th>\n",
       "      <td>0.526686</td>\n",
       "      <td>-0.208348</td>\n",
       "      <td>0.101744</td>\n",
       "      <td>-0.225288</td>\n",
       "      <td>-0.199778</td>\n",
       "      <td>-0.197907</td>\n",
       "    </tr>\n",
       "    <tr>\n",
       "      <th>762</th>\n",
       "      <td>1.027840</td>\n",
       "      <td>-0.208348</td>\n",
       "      <td>-0.128290</td>\n",
       "      <td>-0.225288</td>\n",
       "      <td>-0.199778</td>\n",
       "      <td>-0.197907</td>\n",
       "    </tr>\n",
       "    <tr>\n",
       "      <th>...</th>\n",
       "      <td>...</td>\n",
       "      <td>...</td>\n",
       "      <td>...</td>\n",
       "      <td>...</td>\n",
       "      <td>...</td>\n",
       "      <td>...</td>\n",
       "    </tr>\n",
       "    <tr>\n",
       "      <th>827</th>\n",
       "      <td>-0.403149</td>\n",
       "      <td>-0.208348</td>\n",
       "      <td>-0.128290</td>\n",
       "      <td>-0.225288</td>\n",
       "      <td>-0.199778</td>\n",
       "      <td>-0.197907</td>\n",
       "    </tr>\n",
       "    <tr>\n",
       "      <th>799</th>\n",
       "      <td>1.073454</td>\n",
       "      <td>-0.208348</td>\n",
       "      <td>-0.128290</td>\n",
       "      <td>4.308952</td>\n",
       "      <td>-0.199778</td>\n",
       "      <td>-0.197907</td>\n",
       "    </tr>\n",
       "    <tr>\n",
       "      <th>589</th>\n",
       "      <td>-0.368576</td>\n",
       "      <td>-0.208348</td>\n",
       "      <td>-0.128290</td>\n",
       "      <td>-0.225288</td>\n",
       "      <td>-0.199778</td>\n",
       "      <td>0.001056</td>\n",
       "    </tr>\n",
       "    <tr>\n",
       "      <th>222</th>\n",
       "      <td>4.733903</td>\n",
       "      <td>0.445606</td>\n",
       "      <td>-0.128290</td>\n",
       "      <td>-0.225288</td>\n",
       "      <td>-0.199778</td>\n",
       "      <td>-0.197907</td>\n",
       "    </tr>\n",
       "    <tr>\n",
       "      <th>842</th>\n",
       "      <td>-0.370984</td>\n",
       "      <td>-0.208348</td>\n",
       "      <td>-0.128290</td>\n",
       "      <td>-0.225288</td>\n",
       "      <td>-0.199778</td>\n",
       "      <td>4.642581</td>\n",
       "    </tr>\n",
       "  </tbody>\n",
       "</table>\n",
       "<p>745 rows × 6 columns</p>\n",
       "</div>"
      ],
      "text/plain": [
       "     ActBal_CA  ActBal_SA  ActBal_MF  ActBal_OVD  ActBal_CC  ActBal_CL\n",
       "194  -0.374023   1.237147  -0.128290    3.170964  -0.199778  -0.197907\n",
       "120  -0.409403  -0.208348  -0.128290   -0.225288  -0.199778  -0.197907\n",
       "859  -0.340294   0.236943  -0.128290   -0.225288  -0.199778  -0.197907\n",
       "705   0.526686  -0.208348   0.101744   -0.225288  -0.199778  -0.197907\n",
       "762   1.027840  -0.208348  -0.128290   -0.225288  -0.199778  -0.197907\n",
       "..         ...        ...        ...         ...        ...        ...\n",
       "827  -0.403149  -0.208348  -0.128290   -0.225288  -0.199778  -0.197907\n",
       "799   1.073454  -0.208348  -0.128290    4.308952  -0.199778  -0.197907\n",
       "589  -0.368576  -0.208348  -0.128290   -0.225288  -0.199778   0.001056\n",
       "222   4.733903   0.445606  -0.128290   -0.225288  -0.199778  -0.197907\n",
       "842  -0.370984  -0.208348  -0.128290   -0.225288  -0.199778   4.642581\n",
       "\n",
       "[745 rows x 6 columns]"
      ]
     },
     "execution_count": 11,
     "metadata": {},
     "output_type": "execute_result"
    }
   ],
   "source": [
    "from sklearn.preprocessing import StandardScaler\n",
    "\n",
    "col_trans = [col for col in X_train.columns if col.startswith('Act')]\n",
    "\n",
    "scaler = StandardScaler()\n",
    "X_train_scaled = X_train.copy()\n",
    "X_test_scaled = X_test.copy()\n",
    "X_val_scaled = X_val.copy()\n",
    "\n",
    "# Fit scaler on X_train only \n",
    "scaler.fit(X_train_scaled[col_trans])\n",
    "\n",
    "# Transform all sets with the fitted scaler\n",
    "X_train_scaled[col_trans] = scaler.transform(X_train_scaled[col_trans])\n",
    "X_test_scaled[col_trans] = scaler.transform(X_test_scaled[col_trans])\n",
    "X_val_scaled[col_trans] = scaler.transform(X_val_scaled[col_trans])\n",
    "X_train_scaled[col_trans]"
   ]
  },
  {
   "cell_type": "markdown",
   "id": "14c4bdd9",
   "metadata": {},
   "source": [
    "# Modelling and Analysis"
   ]
  },
  {
   "cell_type": "code",
   "execution_count": null,
   "id": "ea8ccd0b",
   "metadata": {},
   "outputs": [],
   "source": [
    "import numpy as np\n",
    "import pandas as pd\n",
    "import yaml\n",
    "from typing import List, Optional, Dict, Any, Union\n",
    "from pydantic import BaseModel, Field\n",
    "from sklearn.ensemble import RandomForestClassifier\n",
    "from xgboost import XGBClassifier\n",
    "from sklearn.metrics import (\n",
    "    f1_score, precision_score, recall_score, roc_auc_score, roc_curve,  brier_score_loss\n",
    ")\n",
    "from sklearn.calibration import calibration_curve\n",
    "\n",
    "from sklearn.model_selection import GridSearchCV\n",
    "import wandb\n",
    "import warnings\n",
    "import os\n",
    "import joblib\n",
    "import itertools\n",
    "import matplotlib.pyplot as plt\n",
    "\n",
    "warnings.filterwarnings(\"ignore\")\n",
    "\n",
    "class ModelHyperparams(BaseModel):\n",
    "    random_forest: dict = Field(default_factory=dict)\n",
    "    xgboost: dict = Field(default_factory=dict)\n",
    "\n",
    "\n",
    "class WandbConfig(BaseModel):\n",
    "    project_name: str\n",
    "    run_name: str = None\n",
    "    hyperparameters: ModelHyperparams\n",
    "\n",
    "\n",
    "def load_wandb_config(yaml_path: str) -> WandbConfig:\n",
    "    with open(yaml_path, \"r\") as f:\n",
    "        cfg = yaml.safe_load(f)\n",
    "    return WandbConfig.parse_obj(cfg)\n",
    "\n",
    "\n",
    "class ClassifierTrainer:\n",
    "    def __init__(\n",
    "        self,\n",
    "        model_name: str,\n",
    "        config: ModelHyperparams,\n",
    "        feature_cols: List[str],\n",
    "        label_col: str,\n",
    "        wandb_config: WandbConfig,\n",
    "    ):\n",
    "        self.model_name = model_name\n",
    "        self.config = config\n",
    "        self.feature_cols = feature_cols\n",
    "        self.label_col = label_col\n",
    "        self.best_threshold = 0.5\n",
    "        self.model = self._init_model()\n",
    "\n",
    "        self.wandb_run = wandb.init(\n",
    "            project=wandb_config.project_name,\n",
    "            name=wandb_config.run_name,\n",
    "            config=config.dict(),\n",
    "        )\n",
    "        wandb.config.update({\"model_name\": model_name})\n",
    "\n",
    "    def _init_model(self):\n",
    "        if self.model_name == \"random_forest\":\n",
    "            return RandomForestClassifier(random_state=42)\n",
    "        elif self.model_name == \"xgboost\":\n",
    "            return XGBClassifier(\n",
    "                use_label_encoder=False,\n",
    "                eval_metric=\"logloss\",\n",
    "                random_state=42,\n",
    "                n_estimators=80,\n",
    "                learning_rate=0.001,\n",
    "            )\n",
    "        else:\n",
    "            raise ValueError(f\"Unsupported model_name: {self.model_name}\")\n",
    "    def top_15_metrics(self, probs: np.ndarray, y_true: Union[pd.Series, np.ndarray]) -> tuple:\n",
    "        top_k_percent = 0.15\n",
    "        n_top = int(len(probs) * top_k_percent)\n",
    "        sorted_indices = probs.argsort()[::-1]\n",
    "\n",
    "        top_indices = sorted_indices[:n_top]\n",
    "        if isinstance(y_true, pd.Series):\n",
    "            top_y = y_true.iloc[top_indices].values\n",
    "            total_positives = y_true.sum()\n",
    "        else:\n",
    "            top_y = y_true[top_indices]\n",
    "            total_positives = y_true.sum()\n",
    "\n",
    "        positives_in_top = top_y.sum()\n",
    "        top15_precision = positives_in_top / n_top if n_top > 0 else 0.0\n",
    "        top15_recall = positives_in_top / total_positives if total_positives > 0 else 0.0\n",
    "        baseline_positive_rate = total_positives / len(y_true) if len(y_true) > 0 else 0.0\n",
    "        lift = (top15_precision / baseline_positive_rate) if baseline_positive_rate > 0 else 0.0\n",
    "        return top15_precision, top15_recall, lift\n",
    "\n",
    "    def expected_calibration_error(self, y_true, probs, n_bins=10):\n",
    "        prob_true, prob_pred = calibration_curve(y_true, probs, n_bins=n_bins, strategy='uniform')\n",
    "\n",
    "        # Create uniform bin edges between 0 and 1 (same as calibration_curve)\n",
    "        bin_edges = np.linspace(0, 1, n_bins + 1)\n",
    "        \n",
    "        # Find bin index for each probability\n",
    "        bin_indices = np.digitize(probs, bins=bin_edges, right=True) - 1\n",
    "\n",
    "        # Get unique bins where samples actually fall\n",
    "        unique_bins = np.unique(bin_indices)\n",
    "        \n",
    "        # Count samples per unique bin (these correspond to prob_true and prob_pred)\n",
    "        bin_counts = np.array([np.sum(bin_indices == b) for b in unique_bins])\n",
    "\n",
    "        # Normalize weights to sum to 1\n",
    "        weights = bin_counts / bin_counts.sum() if bin_counts.sum() > 0 else np.ones_like(bin_counts) / len(bin_counts)\n",
    "\n",
    "        # Calculate weighted average of calibration error\n",
    "        ece = np.sum(weights * np.abs(prob_true - prob_pred))\n",
    "\n",
    "        return float(ece)\n",
    "    \n",
    "    def compute_all_metrics(self, y_true: Union[pd.Series, np.ndarray], probs: np.ndarray) -> Dict[str, float]:\n",
    "        preds = (probs >= self.best_threshold).astype(int)\n",
    "\n",
    "        f1 = f1_score(y_true, preds)\n",
    "        precision = precision_score(y_true, preds, zero_division=0)\n",
    "        recall = recall_score(y_true, preds)\n",
    "        auc = roc_auc_score(y_true, probs)\n",
    "        brier = brier_score_loss(y_true, probs)\n",
    "        ece = self.expected_calibration_error(y_true, probs)\n",
    "        top15_precision, top15_recall, top15_lift = self.top_15_metrics(probs, y_true)\n",
    "\n",
    "        return {\n",
    "            \"f1\": f1,\n",
    "            \"precision\": precision,\n",
    "            \"recall\": recall,\n",
    "            \"auc\": auc,\n",
    "            \"brier\": brier,\n",
    "            \"ece\": ece,\n",
    "            \"top15_precision\": top15_precision,\n",
    "            \"top15_recall\": top15_recall,\n",
    "            \"top15_lift\": top15_lift,\n",
    "        }\n",
    "\n",
    "    def tune_hyperparameters(\n",
    "        self,\n",
    "        X_train: pd.DataFrame,\n",
    "        y_train: Union[pd.Series, np.ndarray],\n",
    "        X_val: pd.DataFrame,\n",
    "        y_val: Union[pd.Series, np.ndarray],\n",
    "    ):\n",
    "        X_train_filtered = X_train[self.feature_cols]\n",
    "        X_val_filtered = X_val[self.feature_cols]\n",
    "        y_train = y_train[self.label_col]\n",
    "        y_val = y_val[self.label_col]\n",
    "\n",
    "        param_grid = getattr(self.config, self.model_name, {})\n",
    "        if not param_grid:\n",
    "            raise ValueError(f\"No hyperparameter grid provided for {self.model_name}.\")\n",
    "\n",
    "        best_f1 = -1\n",
    "        best_params = None\n",
    "        best_model = None\n",
    "        best_threshold = 0.5\n",
    "\n",
    "        keys, values = zip(*param_grid.items())\n",
    "        for v in itertools.product(*values):\n",
    "            params = dict(zip(keys, v))\n",
    "            model = self.model.__class__(**params)\n",
    "            model.fit(X_train_filtered, y_train)\n",
    "\n",
    "            val_probs = model.predict_proba(X_val_filtered)[:, 1]\n",
    "            threshold = self._tune_threshold(np.array(y_val), val_probs)\n",
    "            val_preds = (val_probs >= threshold).astype(int)\n",
    "\n",
    "            f1 = f1_score(y_val, val_preds)\n",
    "            if f1 > best_f1:\n",
    "                best_f1 = f1\n",
    "                best_params = params\n",
    "                best_model = model\n",
    "                best_threshold = threshold\n",
    "\n",
    "        # Save best model and threshold\n",
    "        self.model = best_model\n",
    "        self.best_threshold = best_threshold\n",
    "\n",
    "        print(f\"\\nBest hyperparameters for {self.model_name}: {best_params}\")\n",
    "        print(f\"Best threshold tuned on validation set: {best_threshold:.3f}\")\n",
    "        print(f\"Best validation F1: {best_f1:.4f}\\n\")\n",
    "\n",
    "        # Compute metrics on train and val\n",
    "        train_probs = best_model.predict_proba(X_train_filtered)[:, 1]\n",
    "        val_probs = best_model.predict_proba(X_val_filtered)[:, 1]\n",
    "\n",
    "        train_metrics = self.compute_all_metrics(y_train, train_probs)\n",
    "        val_metrics = self.compute_all_metrics(y_val, val_probs)\n",
    "\n",
    "        print(\"Metrics using Best Model BEFORE Retraining:\")\n",
    "        print(f\"Train F1: {train_metrics['f1']:.4f} | Precision: {train_metrics['precision']:.4f} | Recall: {train_metrics['recall']:.4f} | ROC AUC: {train_metrics['auc']:.4f}\")\n",
    "        print(f\"Train Brier: {train_metrics['brier']:.4f} | ECE: {train_metrics['ece']:.4f}\")\n",
    "        print(f\"Train Top15% Precision: {train_metrics['top15_precision']:.4f} | Recall: {train_metrics['top15_recall']:.4f} | Lift: {train_metrics['top15_lift']:.4f}\")\n",
    "\n",
    "        print(f\"Val   F1: {val_metrics['f1']:.4f} | Precision: {val_metrics['precision']:.4f} | Recall: {val_metrics['recall']:.4f} | ROC AUC: {val_metrics['auc']:.4f}\")\n",
    "        print(f\"Val   Brier: {val_metrics['brier']:.4f} | ECE: {val_metrics['ece']:.4f}\")\n",
    "        print(f\"Val   Top15% Precision: {val_metrics['top15_precision']:.4f} | Recall: {val_metrics['top15_recall']:.4f} | Lift: {val_metrics['top15_lift']:.4f}\\n\")\n",
    "\n",
    "        wandb.log({\n",
    "            \"best_hyperparameters\": best_params,\n",
    "            \"best_threshold\": self.best_threshold,\n",
    "            **{f\"train_{k}\": v for k, v in train_metrics.items()},\n",
    "            **{f\"val_{k}\": v for k, v in val_metrics.items()},\n",
    "        })\n",
    "\n",
    "        # Retrain on combined\n",
    "        X_combined = pd.concat([X_train_filtered, X_val_filtered], axis=0)\n",
    "        y_combined = pd.concat([y_train, y_val], axis=0)\n",
    "\n",
    "        final_model = self.model.__class__(**best_params)\n",
    "        final_model.fit(X_combined, y_combined)\n",
    "        self.model = final_model\n",
    "    def _tune_threshold(self, y_true: np.ndarray, y_probs: np.ndarray) -> float:\n",
    "        thresholds = np.linspace(0.1, 0.9, 81)\n",
    "        f1_scores = [(f1_score(y_true, (y_probs >= t).astype(int))) for t in thresholds]\n",
    "        return thresholds[np.argmax(f1_scores)]\n",
    "    def evaluate(\n",
    "        self,\n",
    "        X_test: pd.DataFrame,\n",
    "        y_test: Union[pd.Series, np.ndarray],\n",
    "    ) -> dict:\n",
    "\n",
    "        X_test_filtered = X_test[self.feature_cols]\n",
    "        y_test = y_test[self.label_col]\n",
    "\n",
    "        probs = self.model.predict_proba(X_test_filtered)[:, 1]\n",
    "        preds = (probs >= self.best_threshold).astype(int)\n",
    "\n",
    "        metrics = {\n",
    "            \"f1\": f1_score(y_test, preds),\n",
    "            \"precision\": precision_score(y_test, preds, zero_division=0),\n",
    "            \"recall\": recall_score(y_test, preds),\n",
    "            \"auc\": roc_auc_score(y_test, probs),\n",
    "            \"threshold\": self.best_threshold,\n",
    "        }\n",
    "\n",
    "        # Top 15% targeting logic\n",
    "        top_k_percent = 0.15\n",
    "        n_top = int(len(probs) * top_k_percent)\n",
    "        sorted_indices = probs.argsort()[::-1]\n",
    "\n",
    "        top_indices = sorted_indices[:n_top]\n",
    "        top_y = y_test.iloc[top_indices].values\n",
    "\n",
    "        positives_in_top = top_y.sum()\n",
    "        total_positives = y_test.sum()\n",
    "\n",
    "        top15_precision = positives_in_top / n_top if n_top > 0 else 0\n",
    "        top15_recall = positives_in_top / total_positives if total_positives > 0 else 0\n",
    "        baseline_positive_rate = total_positives / len(y_test) if len(y_test) > 0 else 0\n",
    "        lift = (top15_precision / baseline_positive_rate) if baseline_positive_rate > 0 else 0\n",
    "\n",
    "        metrics.update({\n",
    "            \"top15_precision\": top15_precision,\n",
    "            \"top15_recall\": top15_recall,\n",
    "            \"top15_lift\": lift,\n",
    "        })\n",
    "\n",
    "        # Calibration metrics\n",
    "        brier = brier_score_loss(y_test, probs)\n",
    "        prob_true, prob_pred = calibration_curve(y_test, probs, n_bins=10, strategy='uniform')\n",
    "        # Compute bin edges and which bin each prob falls into\n",
    "        bin_edges = np.linspace(0, 1, 11)  # 10 bins → 11 edges\n",
    "        bin_indices = np.digitize(probs, bins=bin_edges, right=True) - 1\n",
    "\n",
    "        # Filter to only bins that exist in calibration output\n",
    "        unique_bins = np.unique(bin_indices)\n",
    "        bin_counts = np.array([np.sum(bin_indices == b) for b in unique_bins])\n",
    "\n",
    "        # Compute weights for non-empty bins (same length as prob_true/prob_pred)\n",
    "        weights = bin_counts / bin_counts.sum() if bin_counts.sum() > 0 else np.ones_like(bin_counts) / len(bin_counts)\n",
    "\n",
    "        # Expected Calibration Error (ECE)\n",
    "        ece = np.sum(weights * np.abs(prob_true - prob_pred))\n",
    "        metrics.update({\n",
    "            \"brier_score\": brier,\n",
    "            \"expected_calibration_error\": ece,\n",
    "        })\n",
    "\n",
    "        # ROC Curve plotting\n",
    "        fpr, tpr, thresholds = roc_curve(y_test, probs)\n",
    "        auc_score = metrics[\"auc\"]\n",
    "\n",
    "        plt.figure(figsize=(6, 6))\n",
    "        plt.plot(fpr, tpr, label=f'ROC Curve (AUC = {auc_score:.4f})')\n",
    "        plt.plot([0, 1], [0, 1], linestyle='--', color='gray')\n",
    "        plt.xlabel('False Positive Rate')\n",
    "        plt.ylabel('True Positive Rate')\n",
    "        plt.title('ROC Curve')\n",
    "        plt.legend()\n",
    "        plt.grid()\n",
    "\n",
    "        # Save plot to file if needed\n",
    "        plt.savefig(\"roc_curve.png\", bbox_inches=\"tight\")\n",
    "        plt.show()\n",
    "\n",
    "        # Optionally log to wandb\n",
    "        wandb.log({\"roc_curve\": wandb.Image(\"roc_curve.png\")})\n",
    "        wandb.log(metrics)\n",
    "\n",
    "        print(\"\\nEvaluation Metrics:\")\n",
    "        for k, v in metrics.items():\n",
    "            print(f\"{k}: {v:.4f}\" if isinstance(v, float) else f\"{k}: {v}\")\n",
    "\n",
    "        return metrics\n",
    "    def predict(\n",
    "        self,\n",
    "        X: pd.DataFrame,\n",
    "    ) -> (np.ndarray, np.ndarray):\n",
    "        X_filtered = X[self.feature_cols]\n",
    "        probs = self.model.predict_proba(X_filtered)[:, 1]\n",
    "        preds = (probs >= self.best_threshold).astype(int)\n",
    "        return preds, probs\n",
    "    \n",
    "    def save_model(self, output_folder: str):\n",
    "        os.makedirs(output_folder, exist_ok=True)\n",
    "        \n",
    "        model_path = os.path.join(output_folder, f\"{self.model_name}_model.joblib\")\n",
    "        threshold_path = os.path.join(output_folder, f\"{self.model_name}_threshold.txt\")\n",
    "        \n",
    "        # Save the model\n",
    "        joblib.dump(self.model, model_path)\n",
    "        \n",
    "        # Save the threshold as a text file\n",
    "        with open(threshold_path, \"w\") as f:\n",
    "            f.write(str(self.best_threshold))\n",
    "        \n",
    "        print(f\"Model saved to {model_path}\")\n",
    "        print(f\"Threshold saved to {threshold_path}\")\n",
    "\n",
    "    def close(self):\n",
    "        wandb.finish()"
   ]
  },
  {
   "cell_type": "code",
   "execution_count": 33,
   "id": "84bf3c1f",
   "metadata": {},
   "outputs": [],
   "source": [
    "def analyze_feature_importance(\n",
    "    model,\n",
    "    X_test: Union[pd.DataFrame, np.ndarray],\n",
    "    feature_names: Optional[List[str]] = None,\n",
    "    top_n: Optional[int] = None,\n",
    "    plot: bool = True,\n",
    ") -> pd.DataFrame:\n",
    "    \"\"\"\n",
    "    Analyze and rank feature importance for Random Forest or XGBoost.\n",
    "\n",
    "    Parameters:\n",
    "    - model: Trained model (RandomForestClassifier or XGBClassifier)\n",
    "    - X_test: Test dataset features (DataFrame or array)\n",
    "    - feature_names: Optional list of feature names (if X_test is array)\n",
    "    - top_n: Show top N most relevant features (None = show all)\n",
    "    - plot: Whether to show bar plot of feature importance\n",
    "\n",
    "    Returns:\n",
    "    - Pandas DataFrame with columns: [\"feature\", \"importance\"], sorted descending\n",
    "    \"\"\"\n",
    "\n",
    "    import matplotlib.pyplot as plt\n",
    "    import seaborn as sns\n",
    "    X_test = X_test[feature_names]\n",
    "    if feature_names is None:\n",
    "        if isinstance(X_test, pd.DataFrame):\n",
    "            feature_names = X_test.columns.tolist()\n",
    "        else:\n",
    "            raise ValueError(\"Provide feature_names if X_test is not a DataFrame\")\n",
    "\n",
    "    # Get importance scores\n",
    "    if hasattr(model, \"feature_importances_\"):\n",
    "        importance = model.feature_importances_\n",
    "    elif hasattr(model, \"get_booster\"):\n",
    "        importance_dict = model.get_booster().get_score(importance_type=\"gain\")\n",
    "        importance = np.array(\n",
    "            [importance_dict.get(f\"f{i}\", 0.0) for i in range(len(feature_names))]\n",
    "        )\n",
    "    else:\n",
    "        raise ValueError(\"Model does not provide feature importance\")\n",
    "\n",
    "    importance_df = (\n",
    "        pd.DataFrame({\"feature\": feature_names, \"importance\": importance})\n",
    "        .sort_values(by=\"importance\", ascending=False)\n",
    "        .reset_index(drop=True)\n",
    "    )\n",
    "\n",
    "    if top_n:\n",
    "        importance_df = importance_df.head(top_n)\n",
    "\n",
    "    if plot:\n",
    "        plt.figure(figsize=(10, max(4, 0.4 * len(importance_df))))\n",
    "        sns.barplot(x=\"importance\", y=\"feature\", data=importance_df, palette=\"viridis\")\n",
    "        plt.title(\"Feature Importance (Most to Least Relevant)\")\n",
    "        plt.show()\n",
    "\n",
    "    return importance_df"
   ]
  },
  {
   "cell_type": "code",
   "execution_count": 34,
   "id": "ed3d95b3",
   "metadata": {},
   "outputs": [],
   "source": [
    "from typing import List, Optional\n",
    "from pydantic import BaseModel, Field\n",
    "import numpy as np\n",
    "import pandas as pd\n",
    "from sklearn.decomposition import PCA\n",
    "from sklearn.preprocessing import StandardScaler\n",
    "import joblib\n",
    "import os\n",
    "\n",
    "class PCATransformer(BaseModel):\n",
    "    cat_columns: List[str] = Field(default_factory=list)\n",
    "    variance_threshold: float = 0.99995\n",
    "    pca: Optional[PCA] = None\n",
    "    scaler: Optional[StandardScaler] = None\n",
    "    non_cat_columns_: Optional[List[str]] = None\n",
    "\n",
    "    model_config = {\"arbitrary_types_allowed\": True}\n",
    "\n",
    "    def fit(self, df: pd.DataFrame):\n",
    "        # Identify non-categorical columns\n",
    "        self.non_cat_columns_ = [col for col in df.columns if col not in self.cat_columns]\n",
    "        numeric_data = df[self.non_cat_columns_].select_dtypes(include=[np.number])\n",
    "\n",
    "        # Fit scaler\n",
    "        self.scaler = StandardScaler()\n",
    "        numeric_data_scaled = self.scaler.fit_transform(numeric_data)\n",
    "\n",
    "        # Fit PCA with full components first\n",
    "        pca_full = PCA(n_components=min(numeric_data_scaled.shape))\n",
    "        pca_full.fit(numeric_data_scaled)\n",
    "\n",
    "        # Determine number of components to meet variance threshold\n",
    "        cumulative_variance = np.cumsum(pca_full.explained_variance_ratio_)\n",
    "        n_components = np.searchsorted(cumulative_variance, self.variance_threshold) + 1\n",
    "\n",
    "        # Fit PCA again with reduced components\n",
    "        self.pca = PCA(n_components=n_components)\n",
    "        self.pca.fit(numeric_data_scaled)\n",
    "        return self\n",
    "\n",
    "    def transform(self, df: pd.DataFrame) -> pd.DataFrame:\n",
    "        if self.pca is None or self.scaler is None or self.non_cat_columns_ is None:\n",
    "            raise RuntimeError(\"PCATransformer must be fitted before calling transform.\")\n",
    "\n",
    "        # Extract categorical and numeric columns\n",
    "        cat_df = df[self.cat_columns].copy()\n",
    "        numeric_df = df[self.non_cat_columns_].select_dtypes(include=[np.number]).copy()\n",
    "\n",
    "        # Standardize numeric data\n",
    "        numeric_data_scaled = self.scaler.transform(numeric_df)\n",
    "\n",
    "        # Apply PCA transformation\n",
    "        pca_components = self.pca.transform(numeric_data_scaled)\n",
    "\n",
    "        # Create dataframe for PCA components\n",
    "        pca_cols = [f\"PC{i+1}\" for i in range(pca_components.shape[1])]\n",
    "        pca_df = pd.DataFrame(pca_components, columns=pca_cols, index=df.index)\n",
    "\n",
    "        # Combine categorical and PCA-transformed columns\n",
    "        transformed_df = pd.concat([cat_df, pca_df], axis=1)\n",
    "        return transformed_df\n",
    "\n",
    "    def fit_transform(self, df: pd.DataFrame) -> pd.DataFrame:\n",
    "        return self.fit(df).transform(df)\n",
    "\n",
    "    def save(self, path: str):\n",
    "        os.makedirs(path, exist_ok=True)\n",
    "        joblib.dump(self.scaler, os.path.join(path, \"scaler.joblib\"))\n",
    "        joblib.dump(self.pca, os.path.join(path, \"pca.joblib\"))\n",
    "        joblib.dump(self.cat_columns, os.path.join(path, \"cat_columns.joblib\"))\n",
    "        joblib.dump(self.non_cat_columns_, os.path.join(path, \"non_cat_columns.joblib\"))\n",
    "\n",
    "    def load(self, path: str):\n",
    "        self.scaler = joblib.load(os.path.join(path, \"scaler.joblib\"))\n",
    "        self.pca = joblib.load(os.path.join(path, \"pca.joblib\"))\n",
    "        self.cat_columns = joblib.load(os.path.join(path, \"cat_columns.joblib\"))\n",
    "        self.non_cat_columns_ = joblib.load(os.path.join(path, \"non_cat_columns.joblib\"))\n",
    "        return self"
   ]
  },
  {
   "cell_type": "code",
   "execution_count": null,
   "id": "2f958612",
   "metadata": {},
   "outputs": [
    {
     "name": "stderr",
     "output_type": "stream",
     "text": [
      "\u001b[34m\u001b[1mwandb\u001b[0m: \u001b[32m\u001b[41mERROR\u001b[0m Failed to detect the name of this notebook. You can set it manually with the WANDB_NOTEBOOK_NAME environment variable to enable code saving.\n",
      "\u001b[34m\u001b[1mwandb\u001b[0m: \u001b[33mWARNING\u001b[0m If you're specifying your api key in code, ensure this code is not shared publicly.\n",
      "\u001b[34m\u001b[1mwandb\u001b[0m: \u001b[33mWARNING\u001b[0m Consider setting the WANDB_API_KEY environment variable, or running `wandb login` from the command line.\n",
      "\u001b[34m\u001b[1mwandb\u001b[0m: Appending key for api.wandb.ai to your netrc file: C:\\Users\\Ng Wei Xuan\\_netrc\n",
      "\u001b[34m\u001b[1mwandb\u001b[0m: Currently logged in as: \u001b[33mweixuan\u001b[0m to \u001b[32mhttps://api.wandb.ai\u001b[0m. Use \u001b[1m`wandb login --relogin`\u001b[0m to force relogin\n"
     ]
    }
   ],
   "source": [
    "import os\n",
    "from dotenv import load_dotenv\n",
    "import wandb\n",
    "\n",
    "# Load .env variables\n",
    "load_dotenv()\n",
    "\n",
    "wandb_api_key = os.getenv(\"WANDB_API_KEY\")\n",
    "if wandb_api_key:\n",
    "    wandb.login(key=wandb_api_key)\n",
    "else:\n",
    "    raise EnvironmentError(\"WANDB_API_KEY not found in .env file\")"
   ]
  },
  {
   "cell_type": "markdown",
   "id": "15a18d83",
   "metadata": {},
   "source": [
    "## Sale_MF"
   ]
  },
  {
   "cell_type": "code",
   "execution_count": 23,
   "id": "75543fae",
   "metadata": {},
   "outputs": [
    {
     "name": "stdout",
     "output_type": "stream",
     "text": [
      "Index(['Client', 'Revenue_MF', 'Revenue_CC', 'Revenue_CL', 'Count_CA',\n",
      "       'Count_SA', 'Count_MF', 'Count_OVD', 'Count_CC', 'Count_CL',\n",
      "       'ActBal_CA', 'ActBal_SA', 'ActBal_MF', 'ActBal_OVD', 'ActBal_CC',\n",
      "       'ActBal_CL', 'VolumeCred', 'VolumeCred_CA', 'TransactionsCred',\n",
      "       'TransactionsCred_CA', 'VolumeDeb', 'VolumeDeb_CA',\n",
      "       'VolumeDebCash_Card', 'VolumeDebCashless_Card',\n",
      "       'VolumeDeb_PaymentOrder', 'TransactionsDeb', 'TransactionsDeb_CA',\n",
      "       'TransactionsDebCash_Card', 'TransactionsDebCashless_Card',\n",
      "       'TransactionsDeb_PaymentOrder', 'Age', 'Tenure', 'Sex_M'],\n",
      "      dtype='object')\n"
     ]
    }
   ],
   "source": [
    "print(X_train.columns)\n",
    "feature_cols = ['ActBal_CA', 'ActBal_SA', 'ActBal_MF', 'ActBal_OVD', 'ActBal_CC',\n",
    "       'ActBal_CL', 'VolumeCred', 'VolumeCred_CA', 'TransactionsCred',\n",
    "       'TransactionsCred_CA', 'VolumeDeb', 'VolumeDeb_CA',\n",
    "       'VolumeDebCash_Card', 'VolumeDebCashless_Card',\n",
    "       'VolumeDeb_PaymentOrder', 'TransactionsDeb', 'TransactionsDeb_CA',\n",
    "       'TransactionsDebCash_Card', 'TransactionsDebCashless_Card',\n",
    "       'TransactionsDeb_PaymentOrder', 'Age', 'Tenure', 'Sex_M']  \n",
    "\n",
    "# X_train_filtered = X_train[feature_cols]\n",
    "# X_test_filtered = X_test[feature_cols]\n",
    "# X_val_filtered = X_val[feature_cols]\n",
    "\n",
    "# y_train_MF, y_test_MF, y_val_MF = y_train[\"Sale_MF\"], y_test[\"Sale_MF\"], y_val[\"Sale_MF\"]\n",
    "# y_train_CC, y_test_CC, y_val_CC = y_train[\"Sale_CC\"], y_test[\"Sale_CC\"], y_val[\"Sale_CC\"]\n",
    "# y_train_CL, y_test_CL, y_val_CL = y_train[\"Sale_CL\"], y_test[\"Sale_CL\"], y_val[\"Sale_CL\"]  "
   ]
  },
  {
   "cell_type": "code",
   "execution_count": null,
   "id": "74e92c3b",
   "metadata": {},
   "outputs": [],
   "source": [
    "wandb_cfg = load_wandb_config(\"../src/configs/config.yaml\")\n",
    "wandb_cfg.run_name = \"sale_mf_rf\""
   ]
  },
  {
   "cell_type": "code",
   "execution_count": 35,
   "id": "5b8965e5",
   "metadata": {},
   "outputs": [
    {
     "data": {
      "text/html": [
       "Finishing previous runs because reinit is set to 'default'."
      ],
      "text/plain": [
       "<IPython.core.display.HTML object>"
      ]
     },
     "metadata": {},
     "output_type": "display_data"
    },
    {
     "data": {
      "text/html": [],
      "text/plain": [
       "<IPython.core.display.HTML object>"
      ]
     },
     "metadata": {},
     "output_type": "display_data"
    },
    {
     "data": {
      "text/html": [
       "<br>    <style><br>        .wandb-row {<br>            display: flex;<br>            flex-direction: row;<br>            flex-wrap: wrap;<br>            justify-content: flex-start;<br>            width: 100%;<br>        }<br>        .wandb-col {<br>            display: flex;<br>            flex-direction: column;<br>            flex-basis: 100%;<br>            flex: 1;<br>            padding: 10px;<br>        }<br>    </style><br><div class=\"wandb-row\"><div class=\"wandb-col\"><h3>Run history:</h3><br/><table class=\"wandb\"><tr><td>best_threshold</td><td>▁</td></tr><tr><td>train_auc</td><td>▁</td></tr><tr><td>train_brier</td><td>▁</td></tr><tr><td>train_ece</td><td>▁</td></tr><tr><td>train_f1</td><td>▁</td></tr><tr><td>train_precision</td><td>▁</td></tr><tr><td>train_recall</td><td>▁</td></tr><tr><td>train_top15_lift</td><td>▁</td></tr><tr><td>train_top15_precision</td><td>▁</td></tr><tr><td>train_top15_recall</td><td>▁</td></tr><tr><td>val_auc</td><td>▁</td></tr><tr><td>val_brier</td><td>▁</td></tr><tr><td>val_ece</td><td>▁</td></tr><tr><td>val_f1</td><td>▁</td></tr><tr><td>val_precision</td><td>▁</td></tr><tr><td>val_recall</td><td>▁</td></tr><tr><td>val_top15_lift</td><td>▁</td></tr><tr><td>val_top15_precision</td><td>▁</td></tr><tr><td>val_top15_recall</td><td>▁</td></tr></table><br/></div><div class=\"wandb-col\"><h3>Run summary:</h3><br/><table class=\"wandb\"><tr><td>best_threshold</td><td>0.24</td></tr><tr><td>train_auc</td><td>0.80142</td></tr><tr><td>train_brier</td><td>0.14014</td></tr><tr><td>train_ece</td><td>0.08629</td></tr><tr><td>train_f1</td><td>0.4537</td></tr><tr><td>train_precision</td><td>0.68056</td></tr><tr><td>train_recall</td><td>0.34028</td></tr><tr><td>train_top15_lift</td><td>2.88976</td></tr><tr><td>train_top15_precision</td><td>0.55856</td></tr><tr><td>train_top15_recall</td><td>0.43056</td></tr><tr><td>val_auc</td><td>0.66447</td></tr><tr><td>val_brier</td><td>0.14617</td></tr><tr><td>val_ece</td><td>0.04648</td></tr><tr><td>val_f1</td><td>0.47059</td></tr><tr><td>val_precision</td><td>0.5</td></tr><tr><td>val_recall</td><td>0.44444</td></tr><tr><td>val_top15_lift</td><td>2.61111</td></tr><tr><td>val_top15_precision</td><td>0.5</td></tr><tr><td>val_top15_recall</td><td>0.38889</td></tr></table><br/></div></div>"
      ],
      "text/plain": [
       "<IPython.core.display.HTML object>"
      ]
     },
     "metadata": {},
     "output_type": "display_data"
    },
    {
     "data": {
      "text/html": [
       " View run <strong style=\"color:#cdcd00\">sale_mf_rf</strong> at: <a href='https://wandb.ai/weixuan/classifcation/runs/vdto9eew' target=\"_blank\">https://wandb.ai/weixuan/classifcation/runs/vdto9eew</a><br> View project at: <a href='https://wandb.ai/weixuan/classifcation' target=\"_blank\">https://wandb.ai/weixuan/classifcation</a><br>Synced 5 W&B file(s), 0 media file(s), 0 artifact file(s) and 0 other file(s)"
      ],
      "text/plain": [
       "<IPython.core.display.HTML object>"
      ]
     },
     "metadata": {},
     "output_type": "display_data"
    },
    {
     "data": {
      "text/html": [
       "Find logs at: <code>.\\wandb\\run-20250708_145923-vdto9eew\\logs</code>"
      ],
      "text/plain": [
       "<IPython.core.display.HTML object>"
      ]
     },
     "metadata": {},
     "output_type": "display_data"
    },
    {
     "data": {
      "text/html": [
       "Tracking run with wandb version 0.21.0"
      ],
      "text/plain": [
       "<IPython.core.display.HTML object>"
      ]
     },
     "metadata": {},
     "output_type": "display_data"
    },
    {
     "data": {
      "text/html": [
       "Run data is saved locally in <code>c:\\Users\\Ng Wei Xuan\\Desktop\\Others\\Singlife\\propensity_prediction\\training\\notebooks\\wandb\\run-20250708_150136-5byhgfuc</code>"
      ],
      "text/plain": [
       "<IPython.core.display.HTML object>"
      ]
     },
     "metadata": {},
     "output_type": "display_data"
    },
    {
     "data": {
      "text/html": [
       "Syncing run <strong><a href='https://wandb.ai/weixuan/classifcation/runs/5byhgfuc' target=\"_blank\">sale_mf_rf</a></strong> to <a href='https://wandb.ai/weixuan/classifcation' target=\"_blank\">Weights & Biases</a> (<a href='https://wandb.me/developer-guide' target=\"_blank\">docs</a>)<br>"
      ],
      "text/plain": [
       "<IPython.core.display.HTML object>"
      ]
     },
     "metadata": {},
     "output_type": "display_data"
    },
    {
     "data": {
      "text/html": [
       " View project at <a href='https://wandb.ai/weixuan/classifcation' target=\"_blank\">https://wandb.ai/weixuan/classifcation</a>"
      ],
      "text/plain": [
       "<IPython.core.display.HTML object>"
      ]
     },
     "metadata": {},
     "output_type": "display_data"
    },
    {
     "data": {
      "text/html": [
       " View run at <a href='https://wandb.ai/weixuan/classifcation/runs/5byhgfuc' target=\"_blank\">https://wandb.ai/weixuan/classifcation/runs/5byhgfuc</a>"
      ],
      "text/plain": [
       "<IPython.core.display.HTML object>"
      ]
     },
     "metadata": {},
     "output_type": "display_data"
    },
    {
     "name": "stdout",
     "output_type": "stream",
     "text": [
      "\n",
      "Best hyperparameters for random_forest: {'max_depth': 3, 'min_samples_split': 5}\n",
      "Best threshold tuned on validation set: 0.220\n",
      "Best validation F1: 0.4737\n",
      "\n",
      "Metrics using Best Model BEFORE Retraining:\n",
      "Train F1: 0.4836 | Precision: 0.5900 | Recall: 0.4097 | ROC AUC: 0.8017\n",
      "Train Brier: 0.1393 | ECE: 0.0727\n",
      "Train Top15% Precision: 0.5676 | Recall: 0.4375 | Lift: 2.9364\n",
      "Val   F1: 0.4737 | Precision: 0.4500 | Recall: 0.5000 | ROC AUC: 0.6689\n",
      "Val   Brier: 0.1465 | ECE: 0.0442\n",
      "Val   Top15% Precision: 0.4286 | Recall: 0.3333 | Lift: 2.2381\n",
      "\n"
     ]
    },
    {
     "data": {
      "image/png": "[encoded data removed]",
      "text/plain": [
       "<Figure size 600x600 with 1 Axes>"
      ]
     },
     "metadata": {},
     "output_type": "display_data"
    },
    {
     "name": "stdout",
     "output_type": "stream",
     "text": [
      "\n",
      "Evaluation Metrics:\n",
      "f1: 0.1778\n",
      "precision: 0.2222\n",
      "recall: 0.1481\n",
      "auc: 0.4605\n",
      "threshold: 0.2200\n",
      "top15_precision: 0.2857\n",
      "top15_recall: 0.1481\n",
      "top15_lift: 0.9947\n",
      "brier_score: 0.2181\n",
      "expected_calibration_error: 0.1117\n",
      "Test Metrics: {'f1': 0.17777777777777778, 'precision': 0.2222222222222222, 'recall': 0.14814814814814814, 'auc': 0.46047540077390825, 'threshold': 0.22, 'top15_precision': 0.2857142857142857, 'top15_recall': 0.14814814814814814, 'top15_lift': 0.9947089947089945, 'brier_score': 0.2180628032123257, 'expected_calibration_error': 0.11173926495341592}\n",
      "Model saved to model/sale_mf/rf/random_forest_model.joblib\n",
      "Threshold saved to model/sale_mf/rf/random_forest_threshold.txt\n"
     ]
    },
    {
     "data": {
      "image/png": "[encoded data removed]",
      "text/plain": [
       "<Figure size 1000x920 with 1 Axes>"
      ]
     },
     "metadata": {},
     "output_type": "display_data"
    },
    {
     "name": "stdout",
     "output_type": "stream",
     "text": [
      "                         feature  importance\n",
      "0   TransactionsDebCashless_Card    0.106935\n",
      "1                  VolumeCred_CA    0.104362\n",
      "2                     VolumeCred    0.092896\n",
      "3                TransactionsDeb    0.069246\n",
      "4                      VolumeDeb    0.061411\n",
      "5                   VolumeDeb_CA    0.061385\n",
      "6                      ActBal_CA    0.058226\n",
      "7                            Age    0.048633\n",
      "8         VolumeDeb_PaymentOrder    0.041794\n",
      "9         VolumeDebCashless_Card    0.040817\n",
      "10                        Tenure    0.040328\n",
      "11            VolumeDebCash_Card    0.038718\n",
      "12           TransactionsCred_CA    0.038512\n",
      "13            TransactionsDeb_CA    0.038203\n",
      "14              TransactionsCred    0.033728\n",
      "15  TransactionsDeb_PaymentOrder    0.029135\n",
      "16                     ActBal_MF    0.022513\n",
      "17                     ActBal_CC    0.020872\n",
      "18                     ActBal_SA    0.018618\n",
      "19                         Sex_M    0.012464\n",
      "20      TransactionsDebCash_Card    0.012063\n",
      "21                     ActBal_CL    0.006093\n",
      "22                    ActBal_OVD    0.003047\n"
     ]
    },
    {
     "data": {
      "text/html": [],
      "text/plain": [
       "<IPython.core.display.HTML object>"
      ]
     },
     "metadata": {},
     "output_type": "display_data"
    },
    {
     "data": {
      "text/html": [
       "<br>    <style><br>        .wandb-row {<br>            display: flex;<br>            flex-direction: row;<br>            flex-wrap: wrap;<br>            justify-content: flex-start;<br>            width: 100%;<br>        }<br>        .wandb-col {<br>            display: flex;<br>            flex-direction: column;<br>            flex-basis: 100%;<br>            flex: 1;<br>            padding: 10px;<br>        }<br>    </style><br><div class=\"wandb-row\"><div class=\"wandb-col\"><h3>Run history:</h3><br/><table class=\"wandb\"><tr><td>auc</td><td>▁</td></tr><tr><td>best_threshold</td><td>▁</td></tr><tr><td>brier_score</td><td>▁</td></tr><tr><td>expected_calibration_error</td><td>▁</td></tr><tr><td>f1</td><td>▁</td></tr><tr><td>precision</td><td>▁</td></tr><tr><td>recall</td><td>▁</td></tr><tr><td>threshold</td><td>▁</td></tr><tr><td>top15_lift</td><td>▁</td></tr><tr><td>top15_precision</td><td>▁</td></tr><tr><td>top15_recall</td><td>▁</td></tr><tr><td>train_auc</td><td>▁</td></tr><tr><td>train_brier</td><td>▁</td></tr><tr><td>train_ece</td><td>▁</td></tr><tr><td>train_f1</td><td>▁</td></tr><tr><td>train_precision</td><td>▁</td></tr><tr><td>train_recall</td><td>▁</td></tr><tr><td>train_top15_lift</td><td>▁</td></tr><tr><td>train_top15_precision</td><td>▁</td></tr><tr><td>train_top15_recall</td><td>▁</td></tr><tr><td>val_auc</td><td>▁</td></tr><tr><td>val_brier</td><td>▁</td></tr><tr><td>val_ece</td><td>▁</td></tr><tr><td>val_f1</td><td>▁</td></tr><tr><td>val_precision</td><td>▁</td></tr><tr><td>val_recall</td><td>▁</td></tr><tr><td>val_top15_lift</td><td>▁</td></tr><tr><td>val_top15_precision</td><td>▁</td></tr><tr><td>val_top15_recall</td><td>▁</td></tr></table><br/></div><div class=\"wandb-col\"><h3>Run summary:</h3><br/><table class=\"wandb\"><tr><td>auc</td><td>0.46048</td></tr><tr><td>best_threshold</td><td>0.22</td></tr><tr><td>brier_score</td><td>0.21806</td></tr><tr><td>expected_calibration_error</td><td>0.11174</td></tr><tr><td>f1</td><td>0.17778</td></tr><tr><td>precision</td><td>0.22222</td></tr><tr><td>recall</td><td>0.14815</td></tr><tr><td>threshold</td><td>0.22</td></tr><tr><td>top15_lift</td><td>0.99471</td></tr><tr><td>top15_precision</td><td>0.28571</td></tr><tr><td>top15_recall</td><td>0.14815</td></tr><tr><td>train_auc</td><td>0.80166</td></tr><tr><td>train_brier</td><td>0.13927</td></tr><tr><td>train_ece</td><td>0.07269</td></tr><tr><td>train_f1</td><td>0.48361</td></tr><tr><td>train_precision</td><td>0.59</td></tr><tr><td>train_recall</td><td>0.40972</td></tr><tr><td>train_top15_lift</td><td>2.93637</td></tr><tr><td>train_top15_precision</td><td>0.56757</td></tr><tr><td>train_top15_recall</td><td>0.4375</td></tr><tr><td>val_auc</td><td>0.66886</td></tr><tr><td>val_brier</td><td>0.14649</td></tr><tr><td>val_ece</td><td>0.04419</td></tr><tr><td>val_f1</td><td>0.47368</td></tr><tr><td>val_precision</td><td>0.45</td></tr><tr><td>val_recall</td><td>0.5</td></tr><tr><td>val_top15_lift</td><td>2.2381</td></tr><tr><td>val_top15_precision</td><td>0.42857</td></tr><tr><td>val_top15_recall</td><td>0.33333</td></tr></table><br/></div></div>"
      ],
      "text/plain": [
       "<IPython.core.display.HTML object>"
      ]
     },
     "metadata": {},
     "output_type": "display_data"
    },
    {
     "data": {
      "text/html": [
       " View run <strong style=\"color:#cdcd00\">sale_mf_rf</strong> at: <a href='https://wandb.ai/weixuan/classifcation/runs/5byhgfuc' target=\"_blank\">https://wandb.ai/weixuan/classifcation/runs/5byhgfuc</a><br> View project at: <a href='https://wandb.ai/weixuan/classifcation' target=\"_blank\">https://wandb.ai/weixuan/classifcation</a><br>Synced 5 W&B file(s), 1 media file(s), 0 artifact file(s) and 0 other file(s)"
      ],
      "text/plain": [
       "<IPython.core.display.HTML object>"
      ]
     },
     "metadata": {},
     "output_type": "display_data"
    },
    {
     "data": {
      "text/html": [
       "Find logs at: <code>.\\wandb\\run-20250708_150136-5byhgfuc\\logs</code>"
      ],
      "text/plain": [
       "<IPython.core.display.HTML object>"
      ]
     },
     "metadata": {},
     "output_type": "display_data"
    }
   ],
   "source": [
    "# Initialize trainer\n",
    "trainer = ClassifierTrainer(\n",
    "    model_name=\"random_forest\",\n",
    "    config=wandb_cfg.hyperparameters,\n",
    "    feature_cols=feature_cols,\n",
    "    label_col = \"Sale_MF\",\n",
    "    wandb_config=wandb_cfg,\n",
    ")\n",
    "\n",
    "# Tune hyperparameters\n",
    "trainer.tune_hyperparameters(X_train_scaled, y_train, X_val_scaled, y_val)\n",
    "\n",
    "# Evaluate on test set\n",
    "metrics = trainer.evaluate(X_test_scaled, y_test)\n",
    "print(\"Test Metrics:\", metrics)\n",
    "\n",
    "trainer.save_model(\"model/sale_mf/rf/\")\n",
    "\n",
    "feature_importance = analyze_feature_importance(\n",
    "    trainer.model,\n",
    "    X_test_scaled,\n",
    "    feature_cols\n",
    ")\n",
    "print(feature_importance)\n",
    "\n",
    "# Close wandb run\n",
    "trainer.close()"
   ]
  },
  {
   "cell_type": "code",
   "execution_count": null,
   "id": "9d9cc0fb",
   "metadata": {},
   "outputs": [
    {
     "data": {
      "text/html": [
       "Tracking run with wandb version 0.21.0"
      ],
      "text/plain": [
       "<IPython.core.display.HTML object>"
      ]
     },
     "metadata": {},
     "output_type": "display_data"
    },
    {
     "data": {
      "text/html": [
       "Run data is saved locally in <code>c:\\Users\\Ng Wei Xuan\\Desktop\\Others\\Singlife\\propensity_prediction\\training\\notebooks\\wandb\\run-20250708_150205-58pal6qt</code>"
      ],
      "text/plain": [
       "<IPython.core.display.HTML object>"
      ]
     },
     "metadata": {},
     "output_type": "display_data"
    },
    {
     "data": {
      "text/html": [
       "Syncing run <strong><a href='https://wandb.ai/weixuan/classifcation/runs/58pal6qt' target=\"_blank\">sale_mf_xgboost</a></strong> to <a href='https://wandb.ai/weixuan/classifcation' target=\"_blank\">Weights & Biases</a> (<a href='https://wandb.me/developer-guide' target=\"_blank\">docs</a>)<br>"
      ],
      "text/plain": [
       "<IPython.core.display.HTML object>"
      ]
     },
     "metadata": {},
     "output_type": "display_data"
    },
    {
     "data": {
      "text/html": [
       " View project at <a href='https://wandb.ai/weixuan/classifcation' target=\"_blank\">https://wandb.ai/weixuan/classifcation</a>"
      ],
      "text/plain": [
       "<IPython.core.display.HTML object>"
      ]
     },
     "metadata": {},
     "output_type": "display_data"
    },
    {
     "data": {
      "text/html": [
       " View run at <a href='https://wandb.ai/weixuan/classifcation/runs/58pal6qt' target=\"_blank\">https://wandb.ai/weixuan/classifcation/runs/58pal6qt</a>"
      ],
      "text/plain": [
       "<IPython.core.display.HTML object>"
      ]
     },
     "metadata": {},
     "output_type": "display_data"
    },
    {
     "name": "stdout",
     "output_type": "stream",
     "text": [
      "\n",
      "Best hyperparameters for xgboost: {'max_depth': 10, 'min_child_weight': 1}\n",
      "Best threshold tuned on validation set: 0.370\n",
      "Best validation F1: 0.4848\n",
      "\n",
      "Metrics using Best Model BEFORE Retraining:\n",
      "Train F1: 1.0000 | Precision: 1.0000 | Recall: 1.0000 | ROC AUC: 1.0000\n",
      "Train Brier: 0.0008 | ECE: 0.0179\n",
      "Train Top15% Precision: 1.0000 | Recall: 0.7708 | Lift: 5.1736\n",
      "Val   F1: 0.4848 | Precision: 0.5333 | Recall: 0.4444 | ROC AUC: 0.6630\n",
      "Val   Brier: 0.1462 | ECE: 0.1336\n",
      "Val   Top15% Precision: 0.5000 | Recall: 0.3889 | Lift: 2.6111\n",
      "\n"
     ]
    },
    {
     "data": {
      "image/png": "[encoded data removed]",
      "text/plain": [
       "<Figure size 600x600 with 1 Axes>"
      ]
     },
     "metadata": {},
     "output_type": "display_data"
    },
    {
     "name": "stdout",
     "output_type": "stream",
     "text": [
      "\n",
      "Evaluation Metrics:\n",
      "f1: 0.0500\n",
      "precision: 0.0769\n",
      "recall: 0.0370\n",
      "auc: 0.4953\n",
      "threshold: 0.3700\n",
      "top15_precision: 0.0714\n",
      "top15_recall: 0.0370\n",
      "top15_lift: 0.2487\n",
      "brier_score: 0.3124\n",
      "expected_calibration_error: 0.3189\n",
      "Test Metrics: {'f1': 0.05, 'precision': 0.07692307692307693, 'recall': 0.037037037037037035, 'auc': 0.49530127142067437, 'threshold': 0.37, 'top15_precision': 0.07142857142857142, 'top15_recall': 0.037037037037037035, 'top15_lift': 0.24867724867724864, 'brier_score': 0.3123584886354502, 'expected_calibration_error': 0.3189060598094155}\n",
      "Model saved to model/sale_mf/xgboost/xgboost_model.joblib\n",
      "Threshold saved to model/sale_mf/xgboost/xgboost_threshold.txt\n"
     ]
    },
    {
     "data": {
      "image/png": "[encoded data removed]",
      "text/plain": [
       "<Figure size 1000x920 with 1 Axes>"
      ]
     },
     "metadata": {},
     "output_type": "display_data"
    },
    {
     "name": "stdout",
     "output_type": "stream",
     "text": [
      "                         feature  importance\n",
      "0                      ActBal_CL    0.104669\n",
      "1                      ActBal_MF    0.064038\n",
      "2   TransactionsDebCashless_Card    0.059561\n",
      "3                   VolumeDeb_CA    0.058345\n",
      "4            TransactionsCred_CA    0.058006\n",
      "5               TransactionsCred    0.052274\n",
      "6                TransactionsDeb    0.050508\n",
      "7             TransactionsDeb_CA    0.043239\n",
      "8                      VolumeDeb    0.042920\n",
      "9             VolumeDebCash_Card    0.042006\n",
      "10        VolumeDebCashless_Card    0.041811\n",
      "11                 VolumeCred_CA    0.041221\n",
      "12  TransactionsDeb_PaymentOrder    0.039823\n",
      "13                         Sex_M    0.039097\n",
      "14                    VolumeCred    0.038449\n",
      "15                           Age    0.035647\n",
      "16        VolumeDeb_PaymentOrder    0.035624\n",
      "17                     ActBal_CA    0.033861\n",
      "18                     ActBal_SA    0.033661\n",
      "19                        Tenure    0.030348\n",
      "20                    ActBal_OVD    0.026395\n",
      "21      TransactionsDebCash_Card    0.021225\n",
      "22                     ActBal_CC    0.007272\n"
     ]
    },
    {
     "data": {
      "text/html": [],
      "text/plain": [
       "<IPython.core.display.HTML object>"
      ]
     },
     "metadata": {},
     "output_type": "display_data"
    },
    {
     "data": {
      "text/html": [
       "<br>    <style><br>        .wandb-row {<br>            display: flex;<br>            flex-direction: row;<br>            flex-wrap: wrap;<br>            justify-content: flex-start;<br>            width: 100%;<br>        }<br>        .wandb-col {<br>            display: flex;<br>            flex-direction: column;<br>            flex-basis: 100%;<br>            flex: 1;<br>            padding: 10px;<br>        }<br>    </style><br><div class=\"wandb-row\"><div class=\"wandb-col\"><h3>Run history:</h3><br/><table class=\"wandb\"><tr><td>auc</td><td>▁</td></tr><tr><td>best_threshold</td><td>▁</td></tr><tr><td>brier_score</td><td>▁</td></tr><tr><td>expected_calibration_error</td><td>▁</td></tr><tr><td>f1</td><td>▁</td></tr><tr><td>precision</td><td>▁</td></tr><tr><td>recall</td><td>▁</td></tr><tr><td>threshold</td><td>▁</td></tr><tr><td>top15_lift</td><td>▁</td></tr><tr><td>top15_precision</td><td>▁</td></tr><tr><td>top15_recall</td><td>▁</td></tr><tr><td>train_auc</td><td>▁</td></tr><tr><td>train_brier</td><td>▁</td></tr><tr><td>train_ece</td><td>▁</td></tr><tr><td>train_f1</td><td>▁</td></tr><tr><td>train_precision</td><td>▁</td></tr><tr><td>train_recall</td><td>▁</td></tr><tr><td>train_top15_lift</td><td>▁</td></tr><tr><td>train_top15_precision</td><td>▁</td></tr><tr><td>train_top15_recall</td><td>▁</td></tr><tr><td>val_auc</td><td>▁</td></tr><tr><td>val_brier</td><td>▁</td></tr><tr><td>val_ece</td><td>▁</td></tr><tr><td>val_f1</td><td>▁</td></tr><tr><td>val_precision</td><td>▁</td></tr><tr><td>val_recall</td><td>▁</td></tr><tr><td>val_top15_lift</td><td>▁</td></tr><tr><td>val_top15_precision</td><td>▁</td></tr><tr><td>val_top15_recall</td><td>▁</td></tr></table><br/></div><div class=\"wandb-col\"><h3>Run summary:</h3><br/><table class=\"wandb\"><tr><td>auc</td><td>0.4953</td></tr><tr><td>best_threshold</td><td>0.37</td></tr><tr><td>brier_score</td><td>0.31236</td></tr><tr><td>expected_calibration_error</td><td>0.31891</td></tr><tr><td>f1</td><td>0.05</td></tr><tr><td>precision</td><td>0.07692</td></tr><tr><td>recall</td><td>0.03704</td></tr><tr><td>threshold</td><td>0.37</td></tr><tr><td>top15_lift</td><td>0.24868</td></tr><tr><td>top15_precision</td><td>0.07143</td></tr><tr><td>top15_recall</td><td>0.03704</td></tr><tr><td>train_auc</td><td>1</td></tr><tr><td>train_brier</td><td>0.00075</td></tr><tr><td>train_ece</td><td>0.01795</td></tr><tr><td>train_f1</td><td>1</td></tr><tr><td>train_precision</td><td>1</td></tr><tr><td>train_recall</td><td>1</td></tr><tr><td>train_top15_lift</td><td>5.17361</td></tr><tr><td>train_top15_precision</td><td>1</td></tr><tr><td>train_top15_recall</td><td>0.77083</td></tr><tr><td>val_auc</td><td>0.66301</td></tr><tr><td>val_brier</td><td>0.1462</td></tr><tr><td>val_ece</td><td>0.13365</td></tr><tr><td>val_f1</td><td>0.48485</td></tr><tr><td>val_precision</td><td>0.53333</td></tr><tr><td>val_recall</td><td>0.44444</td></tr><tr><td>val_top15_lift</td><td>2.61111</td></tr><tr><td>val_top15_precision</td><td>0.5</td></tr><tr><td>val_top15_recall</td><td>0.38889</td></tr></table><br/></div></div>"
      ],
      "text/plain": [
       "<IPython.core.display.HTML object>"
      ]
     },
     "metadata": {},
     "output_type": "display_data"
    },
    {
     "data": {
      "text/html": [
       " View run <strong style=\"color:#cdcd00\">sale_mf_xgboost</strong> at: <a href='https://wandb.ai/weixuan/classifcation/runs/58pal6qt' target=\"_blank\">https://wandb.ai/weixuan/classifcation/runs/58pal6qt</a><br> View project at: <a href='https://wandb.ai/weixuan/classifcation' target=\"_blank\">https://wandb.ai/weixuan/classifcation</a><br>Synced 5 W&B file(s), 1 media file(s), 0 artifact file(s) and 0 other file(s)"
      ],
      "text/plain": [
       "<IPython.core.display.HTML object>"
      ]
     },
     "metadata": {},
     "output_type": "display_data"
    },
    {
     "data": {
      "text/html": [
       "Find logs at: <code>.\\wandb\\run-20250708_150205-58pal6qt\\logs</code>"
      ],
      "text/plain": [
       "<IPython.core.display.HTML object>"
      ]
     },
     "metadata": {},
     "output_type": "display_data"
    }
   ],
   "source": [
    "wandb_cfg = load_wandb_config(\"../src/configs/config.yaml\")\n",
    "wandb_cfg.run_name = \"sale_mf_xgboost\"\n",
    "\n",
    "# Initialize trainer\n",
    "trainer = ClassifierTrainer(\n",
    "    model_name=\"xgboost\",\n",
    "    config=wandb_cfg.hyperparameters,\n",
    "    feature_cols=feature_cols,\n",
    "    label_col = \"Sale_MF\",\n",
    "    wandb_config=wandb_cfg,\n",
    ")\n",
    "\n",
    "# Tune hyperparameters\n",
    "trainer.tune_hyperparameters(X_train_scaled, y_train, X_val_scaled, y_val)\n",
    "\n",
    "# Evaluate on test set\n",
    "metrics = trainer.evaluate(X_test_scaled, y_test)\n",
    "print(\"Test Metrics:\", metrics)\n",
    "\n",
    "trainer.save_model(\"model/sale_mf/xgboost/\")\n",
    "\n",
    "feature_importance = analyze_feature_importance(\n",
    "    trainer.model,\n",
    "    X_test_scaled,\n",
    "    feature_cols\n",
    ")\n",
    "print(feature_importance)\n",
    "\n",
    "# Close wandb run\n",
    "trainer.close()"
   ]
  },
  {
   "cell_type": "code",
   "execution_count": null,
   "id": "1eddd306",
   "metadata": {},
   "outputs": [],
   "source": [
    "categorical_cols = [\"Sex_M\"]\n",
    "\n",
    "pca_transformer = PCATransformer(cat_columns=categorical_cols)\n",
    "\n",
    "X_train_pca = pca_transformer.fit_transform(X_train[feature_cols])\n",
    "\n",
    "X_val_pca = pca_transformer.transform(X_val[feature_cols])\n",
    "X_test_pca = pca_transformer.transform(X_test[feature_cols])\n",
    "pca_transformer.save(\"model/pca/\")"
   ]
  },
  {
   "cell_type": "code",
   "execution_count": null,
   "id": "f217520c",
   "metadata": {},
   "outputs": [
    {
     "data": {
      "text/html": [
       "Tracking run with wandb version 0.21.0"
      ],
      "text/plain": [
       "<IPython.core.display.HTML object>"
      ]
     },
     "metadata": {},
     "output_type": "display_data"
    },
    {
     "data": {
      "text/html": [
       "Run data is saved locally in <code>c:\\Users\\Ng Wei Xuan\\Desktop\\Others\\Singlife\\propensity_prediction\\training\\notebooks\\wandb\\run-20250708_150223-m0iw3yls</code>"
      ],
      "text/plain": [
       "<IPython.core.display.HTML object>"
      ]
     },
     "metadata": {},
     "output_type": "display_data"
    },
    {
     "data": {
      "text/html": [
       "Syncing run <strong><a href='https://wandb.ai/weixuan/classifcation/runs/m0iw3yls' target=\"_blank\">sale_mf_rf_pca</a></strong> to <a href='https://wandb.ai/weixuan/classifcation' target=\"_blank\">Weights & Biases</a> (<a href='https://wandb.me/developer-guide' target=\"_blank\">docs</a>)<br>"
      ],
      "text/plain": [
       "<IPython.core.display.HTML object>"
      ]
     },
     "metadata": {},
     "output_type": "display_data"
    },
    {
     "data": {
      "text/html": [
       " View project at <a href='https://wandb.ai/weixuan/classifcation' target=\"_blank\">https://wandb.ai/weixuan/classifcation</a>"
      ],
      "text/plain": [
       "<IPython.core.display.HTML object>"
      ]
     },
     "metadata": {},
     "output_type": "display_data"
    },
    {
     "data": {
      "text/html": [
       " View run at <a href='https://wandb.ai/weixuan/classifcation/runs/m0iw3yls' target=\"_blank\">https://wandb.ai/weixuan/classifcation/runs/m0iw3yls</a>"
      ],
      "text/plain": [
       "<IPython.core.display.HTML object>"
      ]
     },
     "metadata": {},
     "output_type": "display_data"
    },
    {
     "name": "stdout",
     "output_type": "stream",
     "text": [
      "\n",
      "Best hyperparameters for random_forest: {'max_depth': 3, 'min_samples_split': 8}\n",
      "Best threshold tuned on validation set: 0.160\n",
      "Best validation F1: 0.3333\n",
      "\n",
      "Metrics using Best Model BEFORE Retraining:\n",
      "Train F1: 0.3812 | Precision: 0.2379 | Recall: 0.9583 | ROC AUC: 0.8123\n",
      "Train Brier: 0.1387 | ECE: 0.1126\n",
      "Train Top15% Precision: 0.5766 | Recall: 0.4444 | Lift: 2.9830\n",
      "Val   F1: 0.3333 | Precision: 0.2083 | Recall: 0.8333 | ROC AUC: 0.5373\n",
      "Val   Brier: 0.1569 | ECE: 0.0395\n",
      "Val   Top15% Precision: 0.2857 | Recall: 0.2222 | Lift: 1.4921\n",
      "\n"
     ]
    },
    {
     "data": {
      "image/png": "[encoded data removed]",
      "text/plain": [
       "<Figure size 600x600 with 1 Axes>"
      ]
     },
     "metadata": {},
     "output_type": "display_data"
    },
    {
     "name": "stdout",
     "output_type": "stream",
     "text": [
      "\n",
      "Evaluation Metrics:\n",
      "f1: 0.4151\n",
      "precision: 0.2785\n",
      "recall: 0.8148\n",
      "auc: 0.6108\n",
      "threshold: 0.1600\n",
      "top15_precision: 0.3571\n",
      "top15_recall: 0.1852\n",
      "top15_lift: 1.2434\n",
      "brier_score: 0.2050\n",
      "expected_calibration_error: 0.0887\n",
      "Test Metrics: {'f1': 0.41509433962264153, 'precision': 0.27848101265822783, 'recall': 0.8148148148148148, 'auc': 0.6108347153123272, 'threshold': 0.16, 'top15_precision': 0.35714285714285715, 'top15_recall': 0.18518518518518517, 'top15_lift': 1.2433862433862433, 'brier_score': 0.2050470366506198, 'expected_calibration_error': 0.08870906888504626}\n",
      "Model saved to model/sale_mf/rf/random_forest_model.joblib\n",
      "Threshold saved to model/sale_mf/rf/random_forest_threshold.txt\n"
     ]
    },
    {
     "data": {
      "text/html": [],
      "text/plain": [
       "<IPython.core.display.HTML object>"
      ]
     },
     "metadata": {},
     "output_type": "display_data"
    },
    {
     "data": {
      "text/html": [
       "<br>    <style><br>        .wandb-row {<br>            display: flex;<br>            flex-direction: row;<br>            flex-wrap: wrap;<br>            justify-content: flex-start;<br>            width: 100%;<br>        }<br>        .wandb-col {<br>            display: flex;<br>            flex-direction: column;<br>            flex-basis: 100%;<br>            flex: 1;<br>            padding: 10px;<br>        }<br>    </style><br><div class=\"wandb-row\"><div class=\"wandb-col\"><h3>Run history:</h3><br/><table class=\"wandb\"><tr><td>auc</td><td>▁</td></tr><tr><td>best_threshold</td><td>▁</td></tr><tr><td>brier_score</td><td>▁</td></tr><tr><td>expected_calibration_error</td><td>▁</td></tr><tr><td>f1</td><td>▁</td></tr><tr><td>precision</td><td>▁</td></tr><tr><td>recall</td><td>▁</td></tr><tr><td>threshold</td><td>▁</td></tr><tr><td>top15_lift</td><td>▁</td></tr><tr><td>top15_precision</td><td>▁</td></tr><tr><td>top15_recall</td><td>▁</td></tr><tr><td>train_auc</td><td>▁</td></tr><tr><td>train_brier</td><td>▁</td></tr><tr><td>train_ece</td><td>▁</td></tr><tr><td>train_f1</td><td>▁</td></tr><tr><td>train_precision</td><td>▁</td></tr><tr><td>train_recall</td><td>▁</td></tr><tr><td>train_top15_lift</td><td>▁</td></tr><tr><td>train_top15_precision</td><td>▁</td></tr><tr><td>train_top15_recall</td><td>▁</td></tr><tr><td>val_auc</td><td>▁</td></tr><tr><td>val_brier</td><td>▁</td></tr><tr><td>val_ece</td><td>▁</td></tr><tr><td>val_f1</td><td>▁</td></tr><tr><td>val_precision</td><td>▁</td></tr><tr><td>val_recall</td><td>▁</td></tr><tr><td>val_top15_lift</td><td>▁</td></tr><tr><td>val_top15_precision</td><td>▁</td></tr><tr><td>val_top15_recall</td><td>▁</td></tr></table><br/></div><div class=\"wandb-col\"><h3>Run summary:</h3><br/><table class=\"wandb\"><tr><td>auc</td><td>0.61083</td></tr><tr><td>best_threshold</td><td>0.16</td></tr><tr><td>brier_score</td><td>0.20505</td></tr><tr><td>expected_calibration_error</td><td>0.08871</td></tr><tr><td>f1</td><td>0.41509</td></tr><tr><td>precision</td><td>0.27848</td></tr><tr><td>recall</td><td>0.81481</td></tr><tr><td>threshold</td><td>0.16</td></tr><tr><td>top15_lift</td><td>1.24339</td></tr><tr><td>top15_precision</td><td>0.35714</td></tr><tr><td>top15_recall</td><td>0.18519</td></tr><tr><td>train_auc</td><td>0.81232</td></tr><tr><td>train_brier</td><td>0.13866</td></tr><tr><td>train_ece</td><td>0.11256</td></tr><tr><td>train_f1</td><td>0.38122</td></tr><tr><td>train_precision</td><td>0.23793</td></tr><tr><td>train_recall</td><td>0.95833</td></tr><tr><td>train_top15_lift</td><td>2.98298</td></tr><tr><td>train_top15_precision</td><td>0.57658</td></tr><tr><td>train_top15_recall</td><td>0.44444</td></tr><tr><td>val_auc</td><td>0.53728</td></tr><tr><td>val_brier</td><td>0.15686</td></tr><tr><td>val_ece</td><td>0.03951</td></tr><tr><td>val_f1</td><td>0.33333</td></tr><tr><td>val_precision</td><td>0.20833</td></tr><tr><td>val_recall</td><td>0.83333</td></tr><tr><td>val_top15_lift</td><td>1.49206</td></tr><tr><td>val_top15_precision</td><td>0.28571</td></tr><tr><td>val_top15_recall</td><td>0.22222</td></tr></table><br/></div></div>"
      ],
      "text/plain": [
       "<IPython.core.display.HTML object>"
      ]
     },
     "metadata": {},
     "output_type": "display_data"
    },
    {
     "data": {
      "text/html": [
       " View run <strong style=\"color:#cdcd00\">sale_mf_rf_pca</strong> at: <a href='https://wandb.ai/weixuan/classifcation/runs/m0iw3yls' target=\"_blank\">https://wandb.ai/weixuan/classifcation/runs/m0iw3yls</a><br> View project at: <a href='https://wandb.ai/weixuan/classifcation' target=\"_blank\">https://wandb.ai/weixuan/classifcation</a><br>Synced 5 W&B file(s), 1 media file(s), 0 artifact file(s) and 0 other file(s)"
      ],
      "text/plain": [
       "<IPython.core.display.HTML object>"
      ]
     },
     "metadata": {},
     "output_type": "display_data"
    },
    {
     "data": {
      "text/html": [
       "Find logs at: <code>.\\wandb\\run-20250708_150223-m0iw3yls\\logs</code>"
      ],
      "text/plain": [
       "<IPython.core.display.HTML object>"
      ]
     },
     "metadata": {},
     "output_type": "display_data"
    }
   ],
   "source": [
    "wandb_cfg = load_wandb_config(\"../src/configs/config.yaml\")\n",
    "wandb_cfg.run_name = \"sale_mf_rf_pca\"\n",
    "\n",
    "# Initialize trainer\n",
    "trainer = ClassifierTrainer(\n",
    "    model_name=\"random_forest\",\n",
    "    config=wandb_cfg.hyperparameters,\n",
    "    feature_cols=X_train_pca.columns,\n",
    "    label_col = \"Sale_MF\",\n",
    "    wandb_config=wandb_cfg,\n",
    ")\n",
    "\n",
    "# Tune hyperparameters\n",
    "trainer.tune_hyperparameters(X_train_pca, y_train, X_val_pca, y_val)\n",
    "\n",
    "# Evaluate on test set\n",
    "metrics = trainer.evaluate(X_test_pca, y_test)\n",
    "print(\"Test Metrics:\", metrics)\n",
    "\n",
    "trainer.save_model(\"model/sale_mf/rf/\")\n",
    "\n",
    "\n",
    "# Close wandb run\n",
    "trainer.close()"
   ]
  },
  {
   "cell_type": "code",
   "execution_count": null,
   "id": "3dda025c",
   "metadata": {},
   "outputs": [
    {
     "data": {
      "text/html": [
       "Tracking run with wandb version 0.21.0"
      ],
      "text/plain": [
       "<IPython.core.display.HTML object>"
      ]
     },
     "metadata": {},
     "output_type": "display_data"
    },
    {
     "data": {
      "text/html": [
       "Run data is saved locally in <code>c:\\Users\\Ng Wei Xuan\\Desktop\\Others\\Singlife\\propensity_prediction\\training\\notebooks\\wandb\\run-20250708_150244-6xj53svs</code>"
      ],
      "text/plain": [
       "<IPython.core.display.HTML object>"
      ]
     },
     "metadata": {},
     "output_type": "display_data"
    },
    {
     "data": {
      "text/html": [
       "Syncing run <strong><a href='https://wandb.ai/weixuan/classifcation/runs/6xj53svs' target=\"_blank\">sale_mf_xgboost_pca</a></strong> to <a href='https://wandb.ai/weixuan/classifcation' target=\"_blank\">Weights & Biases</a> (<a href='https://wandb.me/developer-guide' target=\"_blank\">docs</a>)<br>"
      ],
      "text/plain": [
       "<IPython.core.display.HTML object>"
      ]
     },
     "metadata": {},
     "output_type": "display_data"
    },
    {
     "data": {
      "text/html": [
       " View project at <a href='https://wandb.ai/weixuan/classifcation' target=\"_blank\">https://wandb.ai/weixuan/classifcation</a>"
      ],
      "text/plain": [
       "<IPython.core.display.HTML object>"
      ]
     },
     "metadata": {},
     "output_type": "display_data"
    },
    {
     "data": {
      "text/html": [
       " View run at <a href='https://wandb.ai/weixuan/classifcation/runs/6xj53svs' target=\"_blank\">https://wandb.ai/weixuan/classifcation/runs/6xj53svs</a>"
      ],
      "text/plain": [
       "<IPython.core.display.HTML object>"
      ]
     },
     "metadata": {},
     "output_type": "display_data"
    },
    {
     "name": "stdout",
     "output_type": "stream",
     "text": [
      "\n",
      "Best hyperparameters for xgboost: {'max_depth': 3, 'min_child_weight': 3}\n",
      "Best threshold tuned on validation set: 0.100\n",
      "Best validation F1: 0.2951\n",
      "\n",
      "Metrics using Best Model BEFORE Retraining:\n",
      "Train F1: 0.7619 | Precision: 0.6154 | Recall: 1.0000 | ROC AUC: 1.0000\n",
      "Train Brier: 0.0151 | ECE: 0.0849\n",
      "Train Top15% Precision: 1.0000 | Recall: 0.7708 | Lift: 5.1736\n",
      "Val   F1: 0.2951 | Precision: 0.2093 | Recall: 0.5000 | ROC AUC: 0.4803\n",
      "Val   Brier: 0.2006 | ECE: 0.2004\n",
      "Val   Top15% Precision: 0.2143 | Recall: 0.1667 | Lift: 1.1190\n",
      "\n"
     ]
    },
    {
     "data": {
      "image/png": "[encoded data removed]",
      "text/plain": [
       "<Figure size 600x600 with 1 Axes>"
      ]
     },
     "metadata": {},
     "output_type": "display_data"
    },
    {
     "name": "stdout",
     "output_type": "stream",
     "text": [
      "\n",
      "Evaluation Metrics:\n",
      "f1: 0.4688\n",
      "precision: 0.4054\n",
      "recall: 0.5556\n",
      "auc: 0.6639\n",
      "threshold: 0.1000\n",
      "top15_precision: 0.4286\n",
      "top15_recall: 0.2222\n",
      "top15_lift: 1.4921\n",
      "brier_score: 0.2256\n",
      "expected_calibration_error: 0.1754\n",
      "Test Metrics: {'f1': 0.46875, 'precision': 0.40540540540540543, 'recall': 0.5555555555555556, 'auc': 0.6639027086788281, 'threshold': 0.1, 'top15_precision': 0.42857142857142855, 'top15_recall': 0.2222222222222222, 'top15_lift': 1.4920634920634919, 'brier_score': 0.22556221895503029, 'expected_calibration_error': 0.17543857527817497}\n",
      "Model saved to model/sale_mf/xgboost/xgboost_model.joblib\n",
      "Threshold saved to model/sale_mf/xgboost/xgboost_threshold.txt\n"
     ]
    },
    {
     "data": {
      "text/html": [],
      "text/plain": [
       "<IPython.core.display.HTML object>"
      ]
     },
     "metadata": {},
     "output_type": "display_data"
    },
    {
     "data": {
      "text/html": [
       "<br>    <style><br>        .wandb-row {<br>            display: flex;<br>            flex-direction: row;<br>            flex-wrap: wrap;<br>            justify-content: flex-start;<br>            width: 100%;<br>        }<br>        .wandb-col {<br>            display: flex;<br>            flex-direction: column;<br>            flex-basis: 100%;<br>            flex: 1;<br>            padding: 10px;<br>        }<br>    </style><br><div class=\"wandb-row\"><div class=\"wandb-col\"><h3>Run history:</h3><br/><table class=\"wandb\"><tr><td>auc</td><td>▁</td></tr><tr><td>best_threshold</td><td>▁</td></tr><tr><td>brier_score</td><td>▁</td></tr><tr><td>expected_calibration_error</td><td>▁</td></tr><tr><td>f1</td><td>▁</td></tr><tr><td>precision</td><td>▁</td></tr><tr><td>recall</td><td>▁</td></tr><tr><td>threshold</td><td>▁</td></tr><tr><td>top15_lift</td><td>▁</td></tr><tr><td>top15_precision</td><td>▁</td></tr><tr><td>top15_recall</td><td>▁</td></tr><tr><td>train_auc</td><td>▁</td></tr><tr><td>train_brier</td><td>▁</td></tr><tr><td>train_ece</td><td>▁</td></tr><tr><td>train_f1</td><td>▁</td></tr><tr><td>train_precision</td><td>▁</td></tr><tr><td>train_recall</td><td>▁</td></tr><tr><td>train_top15_lift</td><td>▁</td></tr><tr><td>train_top15_precision</td><td>▁</td></tr><tr><td>train_top15_recall</td><td>▁</td></tr><tr><td>val_auc</td><td>▁</td></tr><tr><td>val_brier</td><td>▁</td></tr><tr><td>val_ece</td><td>▁</td></tr><tr><td>val_f1</td><td>▁</td></tr><tr><td>val_precision</td><td>▁</td></tr><tr><td>val_recall</td><td>▁</td></tr><tr><td>val_top15_lift</td><td>▁</td></tr><tr><td>val_top15_precision</td><td>▁</td></tr><tr><td>val_top15_recall</td><td>▁</td></tr></table><br/></div><div class=\"wandb-col\"><h3>Run summary:</h3><br/><table class=\"wandb\"><tr><td>auc</td><td>0.6639</td></tr><tr><td>best_threshold</td><td>0.1</td></tr><tr><td>brier_score</td><td>0.22556</td></tr><tr><td>expected_calibration_error</td><td>0.17544</td></tr><tr><td>f1</td><td>0.46875</td></tr><tr><td>precision</td><td>0.40541</td></tr><tr><td>recall</td><td>0.55556</td></tr><tr><td>threshold</td><td>0.1</td></tr><tr><td>top15_lift</td><td>1.49206</td></tr><tr><td>top15_precision</td><td>0.42857</td></tr><tr><td>top15_recall</td><td>0.22222</td></tr><tr><td>train_auc</td><td>1</td></tr><tr><td>train_brier</td><td>0.01505</td></tr><tr><td>train_ece</td><td>0.08493</td></tr><tr><td>train_f1</td><td>0.7619</td></tr><tr><td>train_precision</td><td>0.61538</td></tr><tr><td>train_recall</td><td>1</td></tr><tr><td>train_top15_lift</td><td>5.17361</td></tr><tr><td>train_top15_precision</td><td>1</td></tr><tr><td>train_top15_recall</td><td>0.77083</td></tr><tr><td>val_auc</td><td>0.48026</td></tr><tr><td>val_brier</td><td>0.20064</td></tr><tr><td>val_ece</td><td>0.20036</td></tr><tr><td>val_f1</td><td>0.29508</td></tr><tr><td>val_precision</td><td>0.2093</td></tr><tr><td>val_recall</td><td>0.5</td></tr><tr><td>val_top15_lift</td><td>1.11905</td></tr><tr><td>val_top15_precision</td><td>0.21429</td></tr><tr><td>val_top15_recall</td><td>0.16667</td></tr></table><br/></div></div>"
      ],
      "text/plain": [
       "<IPython.core.display.HTML object>"
      ]
     },
     "metadata": {},
     "output_type": "display_data"
    },
    {
     "data": {
      "text/html": [
       " View run <strong style=\"color:#cdcd00\">sale_mf_xgboost_pca</strong> at: <a href='https://wandb.ai/weixuan/classifcation/runs/6xj53svs' target=\"_blank\">https://wandb.ai/weixuan/classifcation/runs/6xj53svs</a><br> View project at: <a href='https://wandb.ai/weixuan/classifcation' target=\"_blank\">https://wandb.ai/weixuan/classifcation</a><br>Synced 5 W&B file(s), 1 media file(s), 0 artifact file(s) and 0 other file(s)"
      ],
      "text/plain": [
       "<IPython.core.display.HTML object>"
      ]
     },
     "metadata": {},
     "output_type": "display_data"
    },
    {
     "data": {
      "text/html": [
       "Find logs at: <code>.\\wandb\\run-20250708_150244-6xj53svs\\logs</code>"
      ],
      "text/plain": [
       "<IPython.core.display.HTML object>"
      ]
     },
     "metadata": {},
     "output_type": "display_data"
    }
   ],
   "source": [
    "wandb_cfg = load_wandb_config(\"../src/configs/config.yaml\")\n",
    "wandb_cfg.run_name = \"sale_mf_xgboost_pca\"\n",
    "\n",
    "# Initialize trainer\n",
    "trainer = ClassifierTrainer(\n",
    "    model_name=\"xgboost\",\n",
    "    config=wandb_cfg.hyperparameters,\n",
    "    feature_cols=X_train_pca.columns,\n",
    "    label_col = \"Sale_MF\",\n",
    "    wandb_config=wandb_cfg,\n",
    ")\n",
    "\n",
    "# Tune hyperparameters\n",
    "trainer.tune_hyperparameters(X_train_pca, y_train, X_val_pca, y_val)\n",
    "\n",
    "# Evaluate on test set\n",
    "metrics = trainer.evaluate(X_test_pca, y_test)\n",
    "print(\"Test Metrics:\", metrics)\n",
    "\n",
    "trainer.save_model(\"model/sale_mf/xgboost/\")\n",
    "\n",
    "\n",
    "# Close wandb run\n",
    "trainer.close()"
   ]
  },
  {
   "cell_type": "markdown",
   "id": "3dd6bdc8",
   "metadata": {},
   "source": [
    "## Sale_CC"
   ]
  },
  {
   "cell_type": "code",
   "execution_count": null,
   "id": "fa400e0b",
   "metadata": {},
   "outputs": [
    {
     "data": {
      "text/html": [
       "Tracking run with wandb version 0.21.0"
      ],
      "text/plain": [
       "<IPython.core.display.HTML object>"
      ]
     },
     "metadata": {},
     "output_type": "display_data"
    },
    {
     "data": {
      "text/html": [
       "Run data is saved locally in <code>c:\\Users\\Ng Wei Xuan\\Desktop\\Others\\Singlife\\propensity_prediction\\training\\notebooks\\wandb\\run-20250708_150310-32n4g9w6</code>"
      ],
      "text/plain": [
       "<IPython.core.display.HTML object>"
      ]
     },
     "metadata": {},
     "output_type": "display_data"
    },
    {
     "data": {
      "text/html": [
       "Syncing run <strong><a href='https://wandb.ai/weixuan/classifcation/runs/32n4g9w6' target=\"_blank\">sale_mf_cc_pca</a></strong> to <a href='https://wandb.ai/weixuan/classifcation' target=\"_blank\">Weights & Biases</a> (<a href='https://wandb.me/developer-guide' target=\"_blank\">docs</a>)<br>"
      ],
      "text/plain": [
       "<IPython.core.display.HTML object>"
      ]
     },
     "metadata": {},
     "output_type": "display_data"
    },
    {
     "data": {
      "text/html": [
       " View project at <a href='https://wandb.ai/weixuan/classifcation' target=\"_blank\">https://wandb.ai/weixuan/classifcation</a>"
      ],
      "text/plain": [
       "<IPython.core.display.HTML object>"
      ]
     },
     "metadata": {},
     "output_type": "display_data"
    },
    {
     "data": {
      "text/html": [
       " View run at <a href='https://wandb.ai/weixuan/classifcation/runs/32n4g9w6' target=\"_blank\">https://wandb.ai/weixuan/classifcation/runs/32n4g9w6</a>"
      ],
      "text/plain": [
       "<IPython.core.display.HTML object>"
      ]
     },
     "metadata": {},
     "output_type": "display_data"
    },
    {
     "name": "stdout",
     "output_type": "stream",
     "text": [
      "\n",
      "Best hyperparameters for random_forest: {'max_depth': 7, 'min_samples_split': 5}\n",
      "Best threshold tuned on validation set: 0.390\n",
      "Best validation F1: 0.4118\n",
      "\n",
      "Metrics using Best Model BEFORE Retraining:\n",
      "Train F1: 0.7532 | Precision: 0.9915 | Recall: 0.6073 | ROC AUC: 0.9708\n",
      "Train Brier: 0.1044 | ECE: 0.1788\n",
      "Train Top15% Precision: 1.0000 | Recall: 0.5812 | Lift: 3.9005\n",
      "Val   F1: 0.4118 | Precision: 0.6364 | Recall: 0.3043 | ROC AUC: 0.5628\n",
      "Val   Brier: 0.1797 | ECE: 0.1149\n",
      "Val   Top15% Precision: 0.5000 | Recall: 0.3043 | Lift: 2.0435\n",
      "\n"
     ]
    },
    {
     "data": {
      "image/png": "[encoded data removed]",
      "text/plain": [
       "<Figure size 600x600 with 1 Axes>"
      ]
     },
     "metadata": {},
     "output_type": "display_data"
    },
    {
     "name": "stdout",
     "output_type": "stream",
     "text": [
      "\n",
      "Evaluation Metrics:\n",
      "f1: 0.2400\n",
      "precision: 0.6000\n",
      "recall: 0.1500\n",
      "auc: 0.6007\n",
      "threshold: 0.3900\n",
      "top15_precision: 0.3571\n",
      "top15_recall: 0.2500\n",
      "top15_lift: 1.6786\n",
      "brier_score: 0.1592\n",
      "expected_calibration_error: 0.0780\n",
      "Test Metrics: {'f1': 0.24, 'precision': 0.6, 'recall': 0.15, 'auc': 0.6006756756756757, 'threshold': 0.39, 'top15_precision': 0.35714285714285715, 'top15_recall': 0.25, 'top15_lift': 1.6785714285714286, 'brier_score': 0.15915978840501527, 'expected_calibration_error': 0.07800092359995027}\n",
      "Model saved to model/sale_cc/rf/random_forest_model.joblib\n",
      "Threshold saved to model/sale_cc/rf/random_forest_threshold.txt\n"
     ]
    },
    {
     "data": {
      "text/html": [],
      "text/plain": [
       "<IPython.core.display.HTML object>"
      ]
     },
     "metadata": {},
     "output_type": "display_data"
    },
    {
     "data": {
      "text/html": [
       "<br>    <style><br>        .wandb-row {<br>            display: flex;<br>            flex-direction: row;<br>            flex-wrap: wrap;<br>            justify-content: flex-start;<br>            width: 100%;<br>        }<br>        .wandb-col {<br>            display: flex;<br>            flex-direction: column;<br>            flex-basis: 100%;<br>            flex: 1;<br>            padding: 10px;<br>        }<br>    </style><br><div class=\"wandb-row\"><div class=\"wandb-col\"><h3>Run history:</h3><br/><table class=\"wandb\"><tr><td>auc</td><td>▁</td></tr><tr><td>best_threshold</td><td>▁</td></tr><tr><td>brier_score</td><td>▁</td></tr><tr><td>expected_calibration_error</td><td>▁</td></tr><tr><td>f1</td><td>▁</td></tr><tr><td>precision</td><td>▁</td></tr><tr><td>recall</td><td>▁</td></tr><tr><td>threshold</td><td>▁</td></tr><tr><td>top15_lift</td><td>▁</td></tr><tr><td>top15_precision</td><td>▁</td></tr><tr><td>top15_recall</td><td>▁</td></tr><tr><td>train_auc</td><td>▁</td></tr><tr><td>train_brier</td><td>▁</td></tr><tr><td>train_ece</td><td>▁</td></tr><tr><td>train_f1</td><td>▁</td></tr><tr><td>train_precision</td><td>▁</td></tr><tr><td>train_recall</td><td>▁</td></tr><tr><td>train_top15_lift</td><td>▁</td></tr><tr><td>train_top15_precision</td><td>▁</td></tr><tr><td>train_top15_recall</td><td>▁</td></tr><tr><td>val_auc</td><td>▁</td></tr><tr><td>val_brier</td><td>▁</td></tr><tr><td>val_ece</td><td>▁</td></tr><tr><td>val_f1</td><td>▁</td></tr><tr><td>val_precision</td><td>▁</td></tr><tr><td>val_recall</td><td>▁</td></tr><tr><td>val_top15_lift</td><td>▁</td></tr><tr><td>val_top15_precision</td><td>▁</td></tr><tr><td>val_top15_recall</td><td>▁</td></tr></table><br/></div><div class=\"wandb-col\"><h3>Run summary:</h3><br/><table class=\"wandb\"><tr><td>auc</td><td>0.60068</td></tr><tr><td>best_threshold</td><td>0.39</td></tr><tr><td>brier_score</td><td>0.15916</td></tr><tr><td>expected_calibration_error</td><td>0.078</td></tr><tr><td>f1</td><td>0.24</td></tr><tr><td>precision</td><td>0.6</td></tr><tr><td>recall</td><td>0.15</td></tr><tr><td>threshold</td><td>0.39</td></tr><tr><td>top15_lift</td><td>1.67857</td></tr><tr><td>top15_precision</td><td>0.35714</td></tr><tr><td>top15_recall</td><td>0.25</td></tr><tr><td>train_auc</td><td>0.97078</td></tr><tr><td>train_brier</td><td>0.10442</td></tr><tr><td>train_ece</td><td>0.17878</td></tr><tr><td>train_f1</td><td>0.75325</td></tr><tr><td>train_precision</td><td>0.99145</td></tr><tr><td>train_recall</td><td>0.60733</td></tr><tr><td>train_top15_lift</td><td>3.90052</td></tr><tr><td>train_top15_precision</td><td>1</td></tr><tr><td>train_top15_recall</td><td>0.58115</td></tr><tr><td>val_auc</td><td>0.56277</td></tr><tr><td>val_brier</td><td>0.17966</td></tr><tr><td>val_ece</td><td>0.1149</td></tr><tr><td>val_f1</td><td>0.41176</td></tr><tr><td>val_precision</td><td>0.63636</td></tr><tr><td>val_recall</td><td>0.30435</td></tr><tr><td>val_top15_lift</td><td>2.04348</td></tr><tr><td>val_top15_precision</td><td>0.5</td></tr><tr><td>val_top15_recall</td><td>0.30435</td></tr></table><br/></div></div>"
      ],
      "text/plain": [
       "<IPython.core.display.HTML object>"
      ]
     },
     "metadata": {},
     "output_type": "display_data"
    },
    {
     "data": {
      "text/html": [
       " View run <strong style=\"color:#cdcd00\">sale_mf_cc_pca</strong> at: <a href='https://wandb.ai/weixuan/classifcation/runs/32n4g9w6' target=\"_blank\">https://wandb.ai/weixuan/classifcation/runs/32n4g9w6</a><br> View project at: <a href='https://wandb.ai/weixuan/classifcation' target=\"_blank\">https://wandb.ai/weixuan/classifcation</a><br>Synced 5 W&B file(s), 1 media file(s), 0 artifact file(s) and 0 other file(s)"
      ],
      "text/plain": [
       "<IPython.core.display.HTML object>"
      ]
     },
     "metadata": {},
     "output_type": "display_data"
    },
    {
     "data": {
      "text/html": [
       "Find logs at: <code>.\\wandb\\run-20250708_150310-32n4g9w6\\logs</code>"
      ],
      "text/plain": [
       "<IPython.core.display.HTML object>"
      ]
     },
     "metadata": {},
     "output_type": "display_data"
    }
   ],
   "source": [
    "wandb_cfg = load_wandb_config(\"../src/configs/config.yaml\")\n",
    "wandb_cfg.run_name = \"sale_mf_cc_pca\"\n",
    "\n",
    "# Initialize trainer\n",
    "trainer = ClassifierTrainer(\n",
    "    model_name=\"random_forest\",\n",
    "    config=wandb_cfg.hyperparameters,\n",
    "    feature_cols=X_train_pca.columns,\n",
    "    label_col = \"Sale_CC\",\n",
    "    wandb_config=wandb_cfg,\n",
    ")\n",
    "\n",
    "# Tune hyperparameters\n",
    "trainer.tune_hyperparameters(X_train_pca, y_train, X_val_pca, y_val)\n",
    "\n",
    "# Evaluate on test set\n",
    "metrics = trainer.evaluate(X_test_pca, y_test)\n",
    "print(\"Test Metrics:\", metrics)\n",
    "\n",
    "trainer.save_model(\"model/sale_cc/rf/\")\n",
    "\n",
    "\n",
    "# Close wandb run\n",
    "trainer.close()"
   ]
  },
  {
   "cell_type": "code",
   "execution_count": null,
   "id": "f68f0ef8",
   "metadata": {},
   "outputs": [
    {
     "data": {
      "text/html": [
       "Tracking run with wandb version 0.21.0"
      ],
      "text/plain": [
       "<IPython.core.display.HTML object>"
      ]
     },
     "metadata": {},
     "output_type": "display_data"
    },
    {
     "data": {
      "text/html": [
       "Run data is saved locally in <code>c:\\Users\\Ng Wei Xuan\\Desktop\\Others\\Singlife\\propensity_prediction\\training\\notebooks\\wandb\\run-20250708_150332-etlvomt1</code>"
      ],
      "text/plain": [
       "<IPython.core.display.HTML object>"
      ]
     },
     "metadata": {},
     "output_type": "display_data"
    },
    {
     "data": {
      "text/html": [
       "Syncing run <strong><a href='https://wandb.ai/weixuan/classifcation/runs/etlvomt1' target=\"_blank\">sale_cc_xgboost_pca</a></strong> to <a href='https://wandb.ai/weixuan/classifcation' target=\"_blank\">Weights & Biases</a> (<a href='https://wandb.me/developer-guide' target=\"_blank\">docs</a>)<br>"
      ],
      "text/plain": [
       "<IPython.core.display.HTML object>"
      ]
     },
     "metadata": {},
     "output_type": "display_data"
    },
    {
     "data": {
      "text/html": [
       " View project at <a href='https://wandb.ai/weixuan/classifcation' target=\"_blank\">https://wandb.ai/weixuan/classifcation</a>"
      ],
      "text/plain": [
       "<IPython.core.display.HTML object>"
      ]
     },
     "metadata": {},
     "output_type": "display_data"
    },
    {
     "data": {
      "text/html": [
       " View run at <a href='https://wandb.ai/weixuan/classifcation/runs/etlvomt1' target=\"_blank\">https://wandb.ai/weixuan/classifcation/runs/etlvomt1</a>"
      ],
      "text/plain": [
       "<IPython.core.display.HTML object>"
      ]
     },
     "metadata": {},
     "output_type": "display_data"
    },
    {
     "name": "stdout",
     "output_type": "stream",
     "text": [
      "\n",
      "Best hyperparameters for xgboost: {'max_depth': 3, 'min_child_weight': 8}\n",
      "Best threshold tuned on validation set: 0.150\n",
      "Best validation F1: 0.4935\n",
      "\n",
      "Metrics using Best Model BEFORE Retraining:\n",
      "Train F1: 0.7909 | Precision: 0.6541 | Recall: 1.0000 | ROC AUC: 0.9997\n",
      "Train Brier: 0.0361 | ECE: 0.1305\n",
      "Train Top15% Precision: 1.0000 | Recall: 0.5812 | Lift: 3.9005\n",
      "Val   F1: 0.4935 | Precision: 0.3519 | Recall: 0.8261 | ROC AUC: 0.6381\n",
      "Val   Brier: 0.1930 | ECE: 0.1056\n",
      "Val   Top15% Precision: 0.4286 | Recall: 0.2609 | Lift: 1.7516\n",
      "\n"
     ]
    },
    {
     "data": {
      "image/png": "[encoded data removed]",
      "text/plain": [
       "<Figure size 600x600 with 1 Axes>"
      ]
     },
     "metadata": {},
     "output_type": "display_data"
    },
    {
     "name": "stdout",
     "output_type": "stream",
     "text": [
      "\n",
      "Evaluation Metrics:\n",
      "f1: 0.3380\n",
      "precision: 0.2353\n",
      "recall: 0.6000\n",
      "auc: 0.5845\n",
      "threshold: 0.1500\n",
      "top15_precision: 0.5000\n",
      "top15_recall: 0.3500\n",
      "top15_lift: 2.3500\n",
      "brier_score: 0.1726\n",
      "expected_calibration_error: 0.1407\n",
      "Test Metrics: {'f1': 0.3380281690140845, 'precision': 0.23529411764705882, 'recall': 0.6, 'auc': 0.5844594594594594, 'threshold': 0.15000000000000002, 'top15_precision': 0.5, 'top15_recall': 0.35, 'top15_lift': 2.35, 'brier_score': 0.17257613053437468, 'expected_calibration_error': 0.14069207578382276}\n",
      "Model saved to model/sale_cc/xgboost/xgboost_model.joblib\n",
      "Threshold saved to model/sale_cc/xgboost/xgboost_threshold.txt\n"
     ]
    },
    {
     "data": {
      "text/html": [],
      "text/plain": [
       "<IPython.core.display.HTML object>"
      ]
     },
     "metadata": {},
     "output_type": "display_data"
    },
    {
     "data": {
      "text/html": [
       "<br>    <style><br>        .wandb-row {<br>            display: flex;<br>            flex-direction: row;<br>            flex-wrap: wrap;<br>            justify-content: flex-start;<br>            width: 100%;<br>        }<br>        .wandb-col {<br>            display: flex;<br>            flex-direction: column;<br>            flex-basis: 100%;<br>            flex: 1;<br>            padding: 10px;<br>        }<br>    </style><br><div class=\"wandb-row\"><div class=\"wandb-col\"><h3>Run history:</h3><br/><table class=\"wandb\"><tr><td>auc</td><td>▁</td></tr><tr><td>best_threshold</td><td>▁</td></tr><tr><td>brier_score</td><td>▁</td></tr><tr><td>expected_calibration_error</td><td>▁</td></tr><tr><td>f1</td><td>▁</td></tr><tr><td>precision</td><td>▁</td></tr><tr><td>recall</td><td>▁</td></tr><tr><td>threshold</td><td>▁</td></tr><tr><td>top15_lift</td><td>▁</td></tr><tr><td>top15_precision</td><td>▁</td></tr><tr><td>top15_recall</td><td>▁</td></tr><tr><td>train_auc</td><td>▁</td></tr><tr><td>train_brier</td><td>▁</td></tr><tr><td>train_ece</td><td>▁</td></tr><tr><td>train_f1</td><td>▁</td></tr><tr><td>train_precision</td><td>▁</td></tr><tr><td>train_recall</td><td>▁</td></tr><tr><td>train_top15_lift</td><td>▁</td></tr><tr><td>train_top15_precision</td><td>▁</td></tr><tr><td>train_top15_recall</td><td>▁</td></tr><tr><td>val_auc</td><td>▁</td></tr><tr><td>val_brier</td><td>▁</td></tr><tr><td>val_ece</td><td>▁</td></tr><tr><td>val_f1</td><td>▁</td></tr><tr><td>val_precision</td><td>▁</td></tr><tr><td>val_recall</td><td>▁</td></tr><tr><td>val_top15_lift</td><td>▁</td></tr><tr><td>val_top15_precision</td><td>▁</td></tr><tr><td>val_top15_recall</td><td>▁</td></tr></table><br/></div><div class=\"wandb-col\"><h3>Run summary:</h3><br/><table class=\"wandb\"><tr><td>auc</td><td>0.58446</td></tr><tr><td>best_threshold</td><td>0.15</td></tr><tr><td>brier_score</td><td>0.17258</td></tr><tr><td>expected_calibration_error</td><td>0.14069</td></tr><tr><td>f1</td><td>0.33803</td></tr><tr><td>precision</td><td>0.23529</td></tr><tr><td>recall</td><td>0.6</td></tr><tr><td>threshold</td><td>0.15</td></tr><tr><td>top15_lift</td><td>2.35</td></tr><tr><td>top15_precision</td><td>0.5</td></tr><tr><td>top15_recall</td><td>0.35</td></tr><tr><td>train_auc</td><td>0.99966</td></tr><tr><td>train_brier</td><td>0.0361</td></tr><tr><td>train_ece</td><td>0.13047</td></tr><tr><td>train_f1</td><td>0.79089</td></tr><tr><td>train_precision</td><td>0.65411</td></tr><tr><td>train_recall</td><td>1</td></tr><tr><td>train_top15_lift</td><td>3.90052</td></tr><tr><td>train_top15_precision</td><td>1</td></tr><tr><td>train_top15_recall</td><td>0.58115</td></tr><tr><td>val_auc</td><td>0.63809</td></tr><tr><td>val_brier</td><td>0.193</td></tr><tr><td>val_ece</td><td>0.10562</td></tr><tr><td>val_f1</td><td>0.49351</td></tr><tr><td>val_precision</td><td>0.35185</td></tr><tr><td>val_recall</td><td>0.82609</td></tr><tr><td>val_top15_lift</td><td>1.75155</td></tr><tr><td>val_top15_precision</td><td>0.42857</td></tr><tr><td>val_top15_recall</td><td>0.26087</td></tr></table><br/></div></div>"
      ],
      "text/plain": [
       "<IPython.core.display.HTML object>"
      ]
     },
     "metadata": {},
     "output_type": "display_data"
    },
    {
     "data": {
      "text/html": [
       " View run <strong style=\"color:#cdcd00\">sale_cc_xgboost_pca</strong> at: <a href='https://wandb.ai/weixuan/classifcation/runs/etlvomt1' target=\"_blank\">https://wandb.ai/weixuan/classifcation/runs/etlvomt1</a><br> View project at: <a href='https://wandb.ai/weixuan/classifcation' target=\"_blank\">https://wandb.ai/weixuan/classifcation</a><br>Synced 5 W&B file(s), 1 media file(s), 0 artifact file(s) and 0 other file(s)"
      ],
      "text/plain": [
       "<IPython.core.display.HTML object>"
      ]
     },
     "metadata": {},
     "output_type": "display_data"
    },
    {
     "data": {
      "text/html": [
       "Find logs at: <code>.\\wandb\\run-20250708_150332-etlvomt1\\logs</code>"
      ],
      "text/plain": [
       "<IPython.core.display.HTML object>"
      ]
     },
     "metadata": {},
     "output_type": "display_data"
    }
   ],
   "source": [
    "wandb_cfg = load_wandb_config(\"../src/configs/config.yaml\")\n",
    "wandb_cfg.run_name = \"sale_cc_xgboost_pca\"\n",
    "\n",
    "# Initialize trainer\n",
    "trainer = ClassifierTrainer(\n",
    "    model_name=\"xgboost\",\n",
    "    config=wandb_cfg.hyperparameters,\n",
    "    feature_cols=X_train_pca.columns,\n",
    "    label_col = \"Sale_CC\",\n",
    "    wandb_config=wandb_cfg,\n",
    ")\n",
    "\n",
    "# Tune hyperparameters\n",
    "trainer.tune_hyperparameters(X_train_pca, y_train, X_val_pca, y_val)\n",
    "\n",
    "# Evaluate on test set\n",
    "metrics = trainer.evaluate(X_test_pca, y_test)\n",
    "print(\"Test Metrics:\", metrics)\n",
    "\n",
    "trainer.save_model(\"model/sale_cc/xgboost/\")\n",
    "\n",
    "\n",
    "# Close wandb run\n",
    "trainer.close()"
   ]
  },
  {
   "cell_type": "markdown",
   "id": "c1521675",
   "metadata": {},
   "source": [
    "## CL"
   ]
  },
  {
   "cell_type": "code",
   "execution_count": null,
   "id": "efd0a67a",
   "metadata": {},
   "outputs": [
    {
     "data": {
      "text/html": [],
      "text/plain": [
       "<IPython.core.display.HTML object>"
      ]
     },
     "metadata": {},
     "output_type": "display_data"
    },
    {
     "data": {
      "text/html": [
       "Tracking run with wandb version 0.21.0"
      ],
      "text/plain": [
       "<IPython.core.display.HTML object>"
      ]
     },
     "metadata": {},
     "output_type": "display_data"
    },
    {
     "data": {
      "text/html": [
       "Run data is saved locally in <code>c:\\Users\\Ng Wei Xuan\\Desktop\\Others\\Singlife\\propensity_prediction\\training\\notebooks\\wandb\\run-20250708_153141-vzatxupl</code>"
      ],
      "text/plain": [
       "<IPython.core.display.HTML object>"
      ]
     },
     "metadata": {},
     "output_type": "display_data"
    },
    {
     "data": {
      "text/html": [
       "Syncing run <strong><a href='https://wandb.ai/weixuan/classifcation/runs/vzatxupl' target=\"_blank\">sale_mf_cl_pca</a></strong> to <a href='https://wandb.ai/weixuan/classifcation' target=\"_blank\">Weights & Biases</a> (<a href='https://wandb.me/developer-guide' target=\"_blank\">docs</a>)<br>"
      ],
      "text/plain": [
       "<IPython.core.display.HTML object>"
      ]
     },
     "metadata": {},
     "output_type": "display_data"
    },
    {
     "data": {
      "text/html": [
       " View project at <a href='https://wandb.ai/weixuan/classifcation' target=\"_blank\">https://wandb.ai/weixuan/classifcation</a>"
      ],
      "text/plain": [
       "<IPython.core.display.HTML object>"
      ]
     },
     "metadata": {},
     "output_type": "display_data"
    },
    {
     "data": {
      "text/html": [
       " View run at <a href='https://wandb.ai/weixuan/classifcation/runs/vzatxupl' target=\"_blank\">https://wandb.ai/weixuan/classifcation/runs/vzatxupl</a>"
      ],
      "text/plain": [
       "<IPython.core.display.HTML object>"
      ]
     },
     "metadata": {},
     "output_type": "display_data"
    },
    {
     "name": "stdout",
     "output_type": "stream",
     "text": [
      "\n",
      "Best hyperparameters for random_forest: {'max_depth': 7, 'min_samples_split': 8}\n",
      "Best threshold tuned on validation set: 0.280\n",
      "Best validation F1: 0.5846\n",
      "\n",
      "Metrics using Best Model BEFORE Retraining:\n",
      "Train F1: 0.8426 | Precision: 0.7734 | Recall: 0.9252 | ROC AUC: 0.9710\n",
      "Train Brier: 0.1206 | ECE: 0.2132\n",
      "Train Top15% Precision: 1.0000 | Recall: 0.5187 | Lift: 3.4813\n",
      "Val   F1: 0.5846 | Precision: 0.5000 | Recall: 0.7037 | ROC AUC: 0.7341\n",
      "Val   Brier: 0.1788 | ECE: 0.0670\n",
      "Val   Top15% Precision: 0.5000 | Recall: 0.2593 | Lift: 1.7407\n",
      "\n"
     ]
    },
    {
     "data": {
      "image/png": "[encoded data removed]",
      "text/plain": [
       "<Figure size 600x600 with 1 Axes>"
      ]
     },
     "metadata": {},
     "output_type": "display_data"
    },
    {
     "name": "stdout",
     "output_type": "stream",
     "text": [
      "\n",
      "Evaluation Metrics:\n",
      "f1: 0.5484\n",
      "precision: 0.4722\n",
      "recall: 0.6538\n",
      "auc: 0.7381\n",
      "threshold: 0.2800\n",
      "top15_precision: 0.5714\n",
      "top15_recall: 0.3077\n",
      "top15_lift: 2.0659\n",
      "brier_score: 0.1730\n",
      "expected_calibration_error: 0.0502\n",
      "Test Metrics: {'f1': 0.5483870967741935, 'precision': 0.4722222222222222, 'recall': 0.6538461538461539, 'auc': 0.7381221719457014, 'threshold': 0.28, 'top15_precision': 0.5714285714285714, 'top15_recall': 0.3076923076923077, 'top15_lift': 2.0659340659340657, 'brier_score': 0.17304631685178049, 'expected_calibration_error': 0.05016519386065969}\n",
      "Model saved to model/sale_cl/rf/random_forest_model.joblib\n",
      "Threshold saved to model/sale_cl/rf/random_forest_threshold.txt\n"
     ]
    },
    {
     "data": {
      "text/html": [],
      "text/plain": [
       "<IPython.core.display.HTML object>"
      ]
     },
     "metadata": {},
     "output_type": "display_data"
    },
    {
     "data": {
      "text/html": [
       "<br>    <style><br>        .wandb-row {<br>            display: flex;<br>            flex-direction: row;<br>            flex-wrap: wrap;<br>            justify-content: flex-start;<br>            width: 100%;<br>        }<br>        .wandb-col {<br>            display: flex;<br>            flex-direction: column;<br>            flex-basis: 100%;<br>            flex: 1;<br>            padding: 10px;<br>        }<br>    </style><br><div class=\"wandb-row\"><div class=\"wandb-col\"><h3>Run history:</h3><br/><table class=\"wandb\"><tr><td>auc</td><td>▁</td></tr><tr><td>best_threshold</td><td>▁</td></tr><tr><td>brier_score</td><td>▁</td></tr><tr><td>expected_calibration_error</td><td>▁</td></tr><tr><td>f1</td><td>▁</td></tr><tr><td>precision</td><td>▁</td></tr><tr><td>recall</td><td>▁</td></tr><tr><td>threshold</td><td>▁</td></tr><tr><td>top15_lift</td><td>▁</td></tr><tr><td>top15_precision</td><td>▁</td></tr><tr><td>top15_recall</td><td>▁</td></tr><tr><td>train_auc</td><td>▁</td></tr><tr><td>train_brier</td><td>▁</td></tr><tr><td>train_ece</td><td>▁</td></tr><tr><td>train_f1</td><td>▁</td></tr><tr><td>train_precision</td><td>▁</td></tr><tr><td>train_recall</td><td>▁</td></tr><tr><td>train_top15_lift</td><td>▁</td></tr><tr><td>train_top15_precision</td><td>▁</td></tr><tr><td>train_top15_recall</td><td>▁</td></tr><tr><td>val_auc</td><td>▁</td></tr><tr><td>val_brier</td><td>▁</td></tr><tr><td>val_ece</td><td>▁</td></tr><tr><td>val_f1</td><td>▁</td></tr><tr><td>val_precision</td><td>▁</td></tr><tr><td>val_recall</td><td>▁</td></tr><tr><td>val_top15_lift</td><td>▁</td></tr><tr><td>val_top15_precision</td><td>▁</td></tr><tr><td>val_top15_recall</td><td>▁</td></tr></table><br/></div><div class=\"wandb-col\"><h3>Run summary:</h3><br/><table class=\"wandb\"><tr><td>auc</td><td>0.73812</td></tr><tr><td>best_threshold</td><td>0.28</td></tr><tr><td>brier_score</td><td>0.17305</td></tr><tr><td>expected_calibration_error</td><td>0.05017</td></tr><tr><td>f1</td><td>0.54839</td></tr><tr><td>precision</td><td>0.47222</td></tr><tr><td>recall</td><td>0.65385</td></tr><tr><td>threshold</td><td>0.28</td></tr><tr><td>top15_lift</td><td>2.06593</td></tr><tr><td>top15_precision</td><td>0.57143</td></tr><tr><td>top15_recall</td><td>0.30769</td></tr><tr><td>train_auc</td><td>0.97104</td></tr><tr><td>train_brier</td><td>0.12058</td></tr><tr><td>train_ece</td><td>0.21324</td></tr><tr><td>train_f1</td><td>0.84255</td></tr><tr><td>train_precision</td><td>0.77344</td></tr><tr><td>train_recall</td><td>0.92523</td></tr><tr><td>train_top15_lift</td><td>3.48131</td></tr><tr><td>train_top15_precision</td><td>1</td></tr><tr><td>train_top15_recall</td><td>0.51869</td></tr><tr><td>val_auc</td><td>0.73411</td></tr><tr><td>val_brier</td><td>0.17877</td></tr><tr><td>val_ece</td><td>0.067</td></tr><tr><td>val_f1</td><td>0.58462</td></tr><tr><td>val_precision</td><td>0.5</td></tr><tr><td>val_recall</td><td>0.7037</td></tr><tr><td>val_top15_lift</td><td>1.74074</td></tr><tr><td>val_top15_precision</td><td>0.5</td></tr><tr><td>val_top15_recall</td><td>0.25926</td></tr></table><br/></div></div>"
      ],
      "text/plain": [
       "<IPython.core.display.HTML object>"
      ]
     },
     "metadata": {},
     "output_type": "display_data"
    },
    {
     "data": {
      "text/html": [
       " View run <strong style=\"color:#cdcd00\">sale_mf_cl_pca</strong> at: <a href='https://wandb.ai/weixuan/classifcation/runs/vzatxupl' target=\"_blank\">https://wandb.ai/weixuan/classifcation/runs/vzatxupl</a><br> View project at: <a href='https://wandb.ai/weixuan/classifcation' target=\"_blank\">https://wandb.ai/weixuan/classifcation</a><br>Synced 5 W&B file(s), 1 media file(s), 0 artifact file(s) and 0 other file(s)"
      ],
      "text/plain": [
       "<IPython.core.display.HTML object>"
      ]
     },
     "metadata": {},
     "output_type": "display_data"
    },
    {
     "data": {
      "text/html": [
       "Find logs at: <code>.\\wandb\\run-20250708_153141-vzatxupl\\logs</code>"
      ],
      "text/plain": [
       "<IPython.core.display.HTML object>"
      ]
     },
     "metadata": {},
     "output_type": "display_data"
    }
   ],
   "source": [
    "wandb_cfg = load_wandb_config(\"../src/configs/config.yaml\")\n",
    "wandb_cfg.run_name = \"sale_mf_cl_pca\"\n",
    "\n",
    "# Initialize trainer\n",
    "trainer = ClassifierTrainer(\n",
    "    model_name=\"random_forest\",\n",
    "    config=wandb_cfg.hyperparameters,\n",
    "    feature_cols=X_train_pca.columns,\n",
    "    label_col = \"Sale_CL\",\n",
    "    wandb_config=wandb_cfg,\n",
    ")\n",
    "\n",
    "# Tune hyperparameters\n",
    "trainer.tune_hyperparameters(X_train_pca, y_train, X_val_pca, y_val)\n",
    "\n",
    "# Evaluate on test set\n",
    "metrics = trainer.evaluate(X_test_pca, y_test)\n",
    "print(\"Test Metrics:\", metrics)\n",
    "\n",
    "trainer.save_model(\"model/sale_cl/rf/\")\n",
    "\n",
    "\n",
    "# Close wandb run\n",
    "trainer.close()"
   ]
  },
  {
   "cell_type": "code",
   "execution_count": null,
   "id": "76e6fac9",
   "metadata": {},
   "outputs": [
    {
     "data": {
      "text/html": [
       "Tracking run with wandb version 0.21.0"
      ],
      "text/plain": [
       "<IPython.core.display.HTML object>"
      ]
     },
     "metadata": {},
     "output_type": "display_data"
    },
    {
     "data": {
      "text/html": [
       "Run data is saved locally in <code>c:\\Users\\Ng Wei Xuan\\Desktop\\Others\\Singlife\\propensity_prediction\\training\\notebooks\\wandb\\run-20250708_153152-6x6vvx5u</code>"
      ],
      "text/plain": [
       "<IPython.core.display.HTML object>"
      ]
     },
     "metadata": {},
     "output_type": "display_data"
    },
    {
     "data": {
      "text/html": [
       "Syncing run <strong><a href='https://wandb.ai/weixuan/classifcation/runs/6x6vvx5u' target=\"_blank\">sale_cl_xgboost_pca</a></strong> to <a href='https://wandb.ai/weixuan/classifcation' target=\"_blank\">Weights & Biases</a> (<a href='https://wandb.me/developer-guide' target=\"_blank\">docs</a>)<br>"
      ],
      "text/plain": [
       "<IPython.core.display.HTML object>"
      ]
     },
     "metadata": {},
     "output_type": "display_data"
    },
    {
     "data": {
      "text/html": [
       " View project at <a href='https://wandb.ai/weixuan/classifcation' target=\"_blank\">https://wandb.ai/weixuan/classifcation</a>"
      ],
      "text/plain": [
       "<IPython.core.display.HTML object>"
      ]
     },
     "metadata": {},
     "output_type": "display_data"
    },
    {
     "data": {
      "text/html": [
       " View run at <a href='https://wandb.ai/weixuan/classifcation/runs/6x6vvx5u' target=\"_blank\">https://wandb.ai/weixuan/classifcation/runs/6x6vvx5u</a>"
      ],
      "text/plain": [
       "<IPython.core.display.HTML object>"
      ]
     },
     "metadata": {},
     "output_type": "display_data"
    },
    {
     "name": "stdout",
     "output_type": "stream",
     "text": [
      "\n",
      "Best hyperparameters for xgboost: {'max_depth': 10, 'min_child_weight': 1}\n",
      "Best threshold tuned on validation set: 0.110\n",
      "Best validation F1: 0.5833\n",
      "\n",
      "Metrics using Best Model BEFORE Retraining:\n",
      "Train F1: 1.0000 | Precision: 1.0000 | Recall: 1.0000 | ROC AUC: 1.0000\n",
      "Train Brier: 0.0004 | ECE: 0.0152\n",
      "Train Top15% Precision: 1.0000 | Recall: 0.5187 | Lift: 3.4813\n",
      "Val   F1: 0.5833 | Precision: 0.4667 | Recall: 0.7778 | ROC AUC: 0.6882\n",
      "Val   Brier: 0.2224 | ECE: 0.1642\n",
      "Val   Top15% Precision: 0.4286 | Recall: 0.2222 | Lift: 1.4921\n",
      "\n"
     ]
    },
    {
     "data": {
      "image/png": "[encoded data removed]",
      "text/plain": [
       "<Figure size 600x600 with 1 Axes>"
      ]
     },
     "metadata": {},
     "output_type": "display_data"
    },
    {
     "name": "stdout",
     "output_type": "stream",
     "text": [
      "\n",
      "Evaluation Metrics:\n",
      "f1: 0.4375\n",
      "precision: 0.3684\n",
      "recall: 0.5385\n",
      "auc: 0.6199\n",
      "threshold: 0.1100\n",
      "top15_precision: 0.5714\n",
      "top15_recall: 0.3077\n",
      "top15_lift: 2.0659\n",
      "brier_score: 0.2233\n",
      "expected_calibration_error: 0.2019\n",
      "Test Metrics: {'f1': 0.4375, 'precision': 0.3684210526315789, 'recall': 0.5384615384615384, 'auc': 0.6199095022624435, 'threshold': 0.11, 'top15_precision': 0.5714285714285714, 'top15_recall': 0.3076923076923077, 'top15_lift': 2.0659340659340657, 'brier_score': 0.22332953642723943, 'expected_calibration_error': 0.20190430167651277}\n",
      "Model saved to model/sale_cl/xgboost/xgboost_model.joblib\n",
      "Threshold saved to model/sale_cl/xgboost/xgboost_threshold.txt\n"
     ]
    },
    {
     "data": {
      "text/html": [],
      "text/plain": [
       "<IPython.core.display.HTML object>"
      ]
     },
     "metadata": {},
     "output_type": "display_data"
    },
    {
     "data": {
      "text/html": [
       "<br>    <style><br>        .wandb-row {<br>            display: flex;<br>            flex-direction: row;<br>            flex-wrap: wrap;<br>            justify-content: flex-start;<br>            width: 100%;<br>        }<br>        .wandb-col {<br>            display: flex;<br>            flex-direction: column;<br>            flex-basis: 100%;<br>            flex: 1;<br>            padding: 10px;<br>        }<br>    </style><br><div class=\"wandb-row\"><div class=\"wandb-col\"><h3>Run history:</h3><br/><table class=\"wandb\"><tr><td>auc</td><td>▁</td></tr><tr><td>best_threshold</td><td>▁</td></tr><tr><td>brier_score</td><td>▁</td></tr><tr><td>expected_calibration_error</td><td>▁</td></tr><tr><td>f1</td><td>▁</td></tr><tr><td>precision</td><td>▁</td></tr><tr><td>recall</td><td>▁</td></tr><tr><td>threshold</td><td>▁</td></tr><tr><td>top15_lift</td><td>▁</td></tr><tr><td>top15_precision</td><td>▁</td></tr><tr><td>top15_recall</td><td>▁</td></tr><tr><td>train_auc</td><td>▁</td></tr><tr><td>train_brier</td><td>▁</td></tr><tr><td>train_ece</td><td>▁</td></tr><tr><td>train_f1</td><td>▁</td></tr><tr><td>train_precision</td><td>▁</td></tr><tr><td>train_recall</td><td>▁</td></tr><tr><td>train_top15_lift</td><td>▁</td></tr><tr><td>train_top15_precision</td><td>▁</td></tr><tr><td>train_top15_recall</td><td>▁</td></tr><tr><td>val_auc</td><td>▁</td></tr><tr><td>val_brier</td><td>▁</td></tr><tr><td>val_ece</td><td>▁</td></tr><tr><td>val_f1</td><td>▁</td></tr><tr><td>val_precision</td><td>▁</td></tr><tr><td>val_recall</td><td>▁</td></tr><tr><td>val_top15_lift</td><td>▁</td></tr><tr><td>val_top15_precision</td><td>▁</td></tr><tr><td>val_top15_recall</td><td>▁</td></tr></table><br/></div><div class=\"wandb-col\"><h3>Run summary:</h3><br/><table class=\"wandb\"><tr><td>auc</td><td>0.61991</td></tr><tr><td>best_threshold</td><td>0.11</td></tr><tr><td>brier_score</td><td>0.22333</td></tr><tr><td>expected_calibration_error</td><td>0.2019</td></tr><tr><td>f1</td><td>0.4375</td></tr><tr><td>precision</td><td>0.36842</td></tr><tr><td>recall</td><td>0.53846</td></tr><tr><td>threshold</td><td>0.11</td></tr><tr><td>top15_lift</td><td>2.06593</td></tr><tr><td>top15_precision</td><td>0.57143</td></tr><tr><td>top15_recall</td><td>0.30769</td></tr><tr><td>train_auc</td><td>1</td></tr><tr><td>train_brier</td><td>0.00037</td></tr><tr><td>train_ece</td><td>0.01516</td></tr><tr><td>train_f1</td><td>1</td></tr><tr><td>train_precision</td><td>1</td></tr><tr><td>train_recall</td><td>1</td></tr><tr><td>train_top15_lift</td><td>3.48131</td></tr><tr><td>train_top15_precision</td><td>1</td></tr><tr><td>train_top15_recall</td><td>0.51869</td></tr><tr><td>val_auc</td><td>0.68823</td></tr><tr><td>val_brier</td><td>0.22241</td></tr><tr><td>val_ece</td><td>0.16418</td></tr><tr><td>val_f1</td><td>0.58333</td></tr><tr><td>val_precision</td><td>0.46667</td></tr><tr><td>val_recall</td><td>0.77778</td></tr><tr><td>val_top15_lift</td><td>1.49206</td></tr><tr><td>val_top15_precision</td><td>0.42857</td></tr><tr><td>val_top15_recall</td><td>0.22222</td></tr></table><br/></div></div>"
      ],
      "text/plain": [
       "<IPython.core.display.HTML object>"
      ]
     },
     "metadata": {},
     "output_type": "display_data"
    },
    {
     "data": {
      "text/html": [
       " View run <strong style=\"color:#cdcd00\">sale_cl_xgboost_pca</strong> at: <a href='https://wandb.ai/weixuan/classifcation/runs/6x6vvx5u' target=\"_blank\">https://wandb.ai/weixuan/classifcation/runs/6x6vvx5u</a><br> View project at: <a href='https://wandb.ai/weixuan/classifcation' target=\"_blank\">https://wandb.ai/weixuan/classifcation</a><br>Synced 5 W&B file(s), 1 media file(s), 0 artifact file(s) and 0 other file(s)"
      ],
      "text/plain": [
       "<IPython.core.display.HTML object>"
      ]
     },
     "metadata": {},
     "output_type": "display_data"
    },
    {
     "data": {
      "text/html": [
       "Find logs at: <code>.\\wandb\\run-20250708_153152-6x6vvx5u\\logs</code>"
      ],
      "text/plain": [
       "<IPython.core.display.HTML object>"
      ]
     },
     "metadata": {},
     "output_type": "display_data"
    }
   ],
   "source": [
    "wandb_cfg = load_wandb_config(\"../src/configs/config.yaml\")\n",
    "wandb_cfg.run_name = \"sale_cl_xgboost_pca\"\n",
    "\n",
    "# Initialize trainer\n",
    "trainer = ClassifierTrainer(\n",
    "    model_name=\"xgboost\",\n",
    "    config=wandb_cfg.hyperparameters,\n",
    "    feature_cols=X_train_pca.columns,\n",
    "    label_col = \"Sale_CL\",\n",
    "    wandb_config=wandb_cfg,\n",
    ")\n",
    "\n",
    "# Tune hyperparameters\n",
    "trainer.tune_hyperparameters(X_train_pca, y_train, X_val_pca, y_val)\n",
    "\n",
    "# Evaluate on test set\n",
    "metrics = trainer.evaluate(X_test_pca, y_test)\n",
    "print(\"Test Metrics:\", metrics)\n",
    "\n",
    "trainer.save_model(\"model/sale_cl/xgboost/\")\n",
    "\n",
    "\n",
    "# Close wandb run\n",
    "trainer.close()"
   ]
  },
  {
   "cell_type": "markdown",
   "id": "b3f13904",
   "metadata": {},
   "source": [
    "# Optimization"
   ]
  },
  {
   "cell_type": "code",
   "execution_count": 44,
   "id": "58486667",
   "metadata": {},
   "outputs": [
    {
     "data": {
      "text/plain": [
       "(933, 23)"
      ]
     },
     "execution_count": 44,
     "metadata": {},
     "output_type": "execute_result"
    }
   ],
   "source": [
    "# Assume you know your categorical columns, e.g.:\n",
    "categorical_cols = [\"Sex_M\"]\n",
    "\n",
    "# Instantiate the transformer\n",
    "pca_transformer = PCATransformer(cat_columns=categorical_cols)\n",
    "\n",
    "# Fit PCA on training data and transform\n",
    "pca_loaded = pca_transformer.load(\"model/pca/\")\n",
    "\n",
    "# Load all data\n",
    "X = df[feature_cols]\n",
    "X_transformed = pca_loaded.transform(X)\n",
    "X_transformed.shape"
   ]
  },
  {
   "cell_type": "code",
   "execution_count": 45,
   "id": "2b7a1ec8",
   "metadata": {},
   "outputs": [],
   "source": [
    "import joblib\n",
    "import os\n",
    "import pandas as pd\n",
    "import numpy as np\n",
    "\n",
    "class ModelPredictor:\n",
    "    def __init__(self, model_name: str, model_folder: str, feature_cols: list):\n",
    "        \"\"\"\n",
    "        Load saved model and threshold from the given folder.\n",
    "        \n",
    "        Args:\n",
    "            model_name (str): Name of the model (e.g., \"random_forest\", \"xgboost\").\n",
    "            model_folder (str): Folder path where model and threshold are saved.\n",
    "            feature_cols (list): List of feature column names expected by the model.\n",
    "        \"\"\"\n",
    "        self.model_name = model_name\n",
    "        self.feature_cols = feature_cols\n",
    "        \n",
    "        model_path = os.path.join(model_folder, f\"{model_name}_model.joblib\")\n",
    "        threshold_path = os.path.join(model_folder, f\"{model_name}_threshold.txt\")\n",
    "        \n",
    "        if not os.path.exists(model_path):\n",
    "            raise FileNotFoundError(f\"Model file not found: {model_path}\")\n",
    "        if not os.path.exists(threshold_path):\n",
    "            raise FileNotFoundError(f\"Threshold file not found: {threshold_path}\")\n",
    "        \n",
    "        self.model = joblib.load(model_path)\n",
    "        \n",
    "        with open(threshold_path, \"r\") as f:\n",
    "            self.best_threshold = float(f.read().strip())\n",
    "        \n",
    "        print(f\"Loaded model from {model_path}\")\n",
    "        print(f\"Loaded threshold: {self.best_threshold:.3f}\")\n",
    "\n",
    "        if hasattr(self.model, \"feature_names_in_\"):\n",
    "            print(f\"Model trained with features: {self.model.feature_names_in_.tolist()}\")\n",
    "\n",
    "    def validate_features(self, X: pd.DataFrame):\n",
    "        \"\"\"\n",
    "        Validate if prediction dataset matches expected features.\n",
    "        Raises clear errors if mismatches found.\n",
    "        \"\"\"\n",
    "        missing = [col for col in self.feature_cols if col not in X.columns]\n",
    "        extra = [col for col in X.columns if col not in self.feature_cols]\n",
    "\n",
    "        if missing:\n",
    "            raise ValueError(f\"Missing columns for prediction: {missing}\")\n",
    "        if extra:\n",
    "            print(f\"Warning: Extra columns present in prediction data (ignored during filtering): {extra}\")\n",
    "\n",
    "    def predict(self, X: pd.DataFrame) -> (np.ndarray, np.ndarray):\n",
    "        \"\"\"\n",
    "        Predict binary labels and probabilities for input features.\n",
    "        \n",
    "        Args:\n",
    "            X (pd.DataFrame): DataFrame containing feature columns.\n",
    "            \n",
    "        Returns:\n",
    "            preds (np.ndarray): Binary predictions based on threshold.\n",
    "            probs (np.ndarray): Predicted probabilities (positive class).\n",
    "        \"\"\"\n",
    "        self.validate_features(X)\n",
    "        \n",
    "        X_filtered = X[self.feature_cols]\n",
    "        \n",
    "        print(f\"Using columns for prediction: {X_filtered.columns.tolist()}\")\n",
    "\n",
    "        probs = self.model.predict_proba(X_filtered)[:, 1]\n",
    "        preds = (probs >= self.best_threshold).astype(int)\n",
    "        \n",
    "        return preds, probs"
   ]
  },
  {
   "cell_type": "code",
   "execution_count": 46,
   "id": "0f8ca0d8",
   "metadata": {},
   "outputs": [
    {
     "name": "stdout",
     "output_type": "stream",
     "text": [
      "Loaded model from model/sale_mf/xgboost/xgboost_model.joblib\n",
      "Loaded threshold: 0.100\n",
      "Model trained with features: ['Sex_M', 'PC1', 'PC2', 'PC3', 'PC4', 'PC5', 'PC6', 'PC7', 'PC8', 'PC9', 'PC10', 'PC11', 'PC12', 'PC13', 'PC14', 'PC15', 'PC16', 'PC17', 'PC18', 'PC19', 'PC20', 'PC21', 'PC22']\n",
      "Using columns for prediction: ['Sex_M', 'PC1', 'PC2', 'PC3', 'PC4', 'PC5', 'PC6', 'PC7', 'PC8', 'PC9', 'PC10', 'PC11', 'PC12', 'PC13', 'PC14', 'PC15', 'PC16', 'PC17', 'PC18', 'PC19', 'PC20', 'PC21', 'PC22']\n"
     ]
    },
    {
     "data": {
      "text/plain": [
       "0      0.032469\n",
       "1      0.905180\n",
       "2      0.127196\n",
       "3      0.094665\n",
       "4      0.043525\n",
       "         ...   \n",
       "964    0.004671\n",
       "965    0.799166\n",
       "966    0.025026\n",
       "967    0.050974\n",
       "968    0.065716\n",
       "Name: prob_mf, Length: 933, dtype: float32"
      ]
     },
     "execution_count": 46,
     "metadata": {},
     "output_type": "execute_result"
    }
   ],
   "source": [
    "# Perform prediction for all clients MF\n",
    "model_name = \"xgboost\"\n",
    "model_folder = \"model/sale_mf/xgboost/\"\n",
    "predictor = ModelPredictor(model_name=model_name, model_folder=model_folder, feature_cols=X_transformed.columns)\n",
    "preds, probs = predictor.predict(X_transformed)\n",
    "df['prob_mf'] = probs\n",
    "df['prob_mf']"
   ]
  },
  {
   "cell_type": "code",
   "execution_count": 47,
   "id": "81a5c60e",
   "metadata": {},
   "outputs": [
    {
     "name": "stdout",
     "output_type": "stream",
     "text": [
      "Loaded model from model/sale_cc/xgboost/xgboost_model.joblib\n",
      "Loaded threshold: 0.150\n",
      "Model trained with features: ['Sex_M', 'PC1', 'PC2', 'PC3', 'PC4', 'PC5', 'PC6', 'PC7', 'PC8', 'PC9', 'PC10', 'PC11', 'PC12', 'PC13', 'PC14', 'PC15', 'PC16', 'PC17', 'PC18', 'PC19', 'PC20', 'PC21', 'PC22']\n",
      "Using columns for prediction: ['Sex_M', 'PC1', 'PC2', 'PC3', 'PC4', 'PC5', 'PC6', 'PC7', 'PC8', 'PC9', 'PC10', 'PC11', 'PC12', 'PC13', 'PC14', 'PC15', 'PC16', 'PC17', 'PC18', 'PC19', 'PC20', 'PC21', 'PC22']\n"
     ]
    },
    {
     "data": {
      "text/plain": [
       "0      0.748186\n",
       "1      0.040196\n",
       "2      0.716770\n",
       "3      0.103319\n",
       "4      0.092902\n",
       "         ...   \n",
       "964    0.030245\n",
       "965    0.674837\n",
       "966    0.849872\n",
       "967    0.238688\n",
       "968    0.072526\n",
       "Name: prob_cc, Length: 933, dtype: float32"
      ]
     },
     "execution_count": 47,
     "metadata": {},
     "output_type": "execute_result"
    }
   ],
   "source": [
    "# Perform prediction for all clients CC\n",
    "model_name = \"xgboost\"\n",
    "model_folder = \"model/sale_cc/xgboost/\"\n",
    "predictor = ModelPredictor(model_name=model_name, model_folder=model_folder, feature_cols=X_transformed.columns)\n",
    "preds, probs = predictor.predict(X_transformed)\n",
    "df['prob_cc'] = probs\n",
    "df['prob_cc']\n"
   ]
  },
  {
   "cell_type": "code",
   "execution_count": 48,
   "id": "8601aaa1",
   "metadata": {},
   "outputs": [
    {
     "name": "stdout",
     "output_type": "stream",
     "text": [
      "Loaded model from model/sale_cl/rf/random_forest_model.joblib\n",
      "Loaded threshold: 0.280\n",
      "Model trained with features: ['Sex_M', 'PC1', 'PC2', 'PC3', 'PC4', 'PC5', 'PC6', 'PC7', 'PC8', 'PC9', 'PC10', 'PC11', 'PC12', 'PC13', 'PC14', 'PC15', 'PC16', 'PC17', 'PC18', 'PC19', 'PC20', 'PC21', 'PC22']\n",
      "Using columns for prediction: ['Sex_M', 'PC1', 'PC2', 'PC3', 'PC4', 'PC5', 'PC6', 'PC7', 'PC8', 'PC9', 'PC10', 'PC11', 'PC12', 'PC13', 'PC14', 'PC15', 'PC16', 'PC17', 'PC18', 'PC19', 'PC20', 'PC21', 'PC22']\n"
     ]
    },
    {
     "data": {
      "text/plain": [
       "0      0.218463\n",
       "1      0.242168\n",
       "2      0.358285\n",
       "3      0.228849\n",
       "4      0.359133\n",
       "         ...   \n",
       "964    0.363165\n",
       "965    0.324108\n",
       "966    0.303669\n",
       "967    0.171102\n",
       "968    0.288246\n",
       "Name: prob_cl, Length: 933, dtype: float64"
      ]
     },
     "execution_count": 48,
     "metadata": {},
     "output_type": "execute_result"
    }
   ],
   "source": [
    "# Perform prediction for all clients CL\n",
    "model_name = \"random_forest\"\n",
    "model_folder = \"model/sale_cl/rf/\"\n",
    "predictor = ModelPredictor(model_name=model_name, model_folder=model_folder, feature_cols=X_transformed.columns)\n",
    "preds, probs = predictor.predict(X_transformed)\n",
    "df['prob_cl'] = probs\n",
    "df['prob_cl']\n"
   ]
  },
  {
   "cell_type": "code",
   "execution_count": null,
   "id": "2f8d6639",
   "metadata": {},
   "outputs": [],
   "source": [
    "# Create Strategy\n",
    "\n",
    "def greedy_selection(df):\n",
    "    # Calculate expected revenue per product\n",
    "    df['exp_rev_mf'] = df['prob_mf'] * df['Revenue_MF']\n",
    "    df['exp_rev_cc'] = df['prob_cc'] * df['Revenue_CC']\n",
    "    df['exp_rev_cl'] = df['prob_cl'] * df['Revenue_CL']\n",
    "\n",
    "    # Find best product per client and its expected revenue\n",
    "    exp_rev_cols = ['exp_rev_mf', 'exp_rev_cc', 'exp_rev_cl']\n",
    "    df['best_exp_rev'] = df[exp_rev_cols].max(axis=1)\n",
    "    df['best_product'] = df[exp_rev_cols].idxmax(axis=1)\n",
    "\n",
    "    # Select top 15% clients by best expected revenue\n",
    "    n_select = int(0.15 * len(df))\n",
    "    df_selected = df.nlargest(n_select, 'best_exp_rev').copy()\n",
    "\n",
    "    # Map product column names to simplified product names\n",
    "    product_map = {\n",
    "        'exp_rev_mf': 'MF',\n",
    "        'exp_rev_cc': 'CC',\n",
    "        'exp_rev_cl': 'CL'\n",
    "    }\n",
    "    df_selected['offer_product'] = df_selected['best_product'].map(product_map)\n",
    "\n",
    "    return df_selected[['Client', 'offer_product', 'best_exp_rev']]\n"
   ]
  },
  {
   "cell_type": "code",
   "execution_count": 50,
   "id": "b1e6724d",
   "metadata": {},
   "outputs": [
    {
     "name": "stdout",
     "output_type": "stream",
     "text": [
      "Total_Revenue: 2976.1267709947087\n"
     ]
    },
    {
     "data": {
      "text/plain": [
       "(139, 3)"
      ]
     },
     "execution_count": 50,
     "metadata": {},
     "output_type": "execute_result"
    }
   ],
   "source": [
    "df_selected = greedy_selection(df)\n",
    "print(f\"Total_Revenue: {sum(df_selected['best_exp_rev'])}\")\n",
    "df_selected.shape"
   ]
  },
  {
   "cell_type": "code",
   "execution_count": null,
   "id": "daf9a8f3",
   "metadata": {},
   "outputs": [],
   "source": [
    "from scipy.optimize import linprog\n",
    "\n",
    "def optimization_selection(df):\n",
    "    n = len(df)\n",
    "    products = ['mf', 'cc', 'cl']\n",
    "\n",
    "    # Prepare expected revenue vector\n",
    "    exp_revs = np.zeros(3 * n)\n",
    "    for i, p in enumerate(products):\n",
    "        exp_revs[i*n:(i+1)*n] = df[f'prob_{p}'] * df[f'Revenue_{p.upper()}']\n",
    "\n",
    "    # Objective: maximize expected revenue\n",
    "    c = -exp_revs\n",
    "\n",
    "    # Constraints:\n",
    "\n",
    "    # Each customer gets at most one offer:\n",
    "    A_ub = np.zeros((n + 1, 3*n))\n",
    "    b_ub = np.zeros(n + 1)\n",
    "\n",
    "    for i in range(n):\n",
    "        # sum of products assigned to customer i <= 1\n",
    "        A_ub[i, i] = 1          # mf variable\n",
    "        A_ub[i, i + n] = 1      # cc variable\n",
    "        A_ub[i, i + 2*n] = 1    # cl variable\n",
    "        b_ub[i] = 1\n",
    "\n",
    "    # Total offers ≤ 15% of all customers\n",
    "    A_ub[n, :] = 1\n",
    "    b_ub[n] = 0.15 * n\n",
    "\n",
    "    # Bounds: variables between 0 and 1 (relaxed)\n",
    "    bounds = [(0, 1)] * (3 * n)\n",
    "\n",
    "    # Solve LP\n",
    "    res = linprog(c, A_ub=A_ub, b_ub=b_ub, bounds=bounds, method='highs')\n",
    "\n",
    "    if not res.success:\n",
    "        raise RuntimeError(\"Optimization failed:\", res.message)\n",
    "\n",
    "    x = res.x\n",
    "\n",
    "    # Post-process results: pick product with max fractional value for each customer\n",
    "    offers = []\n",
    "    for i in range(n):\n",
    "        vals = [x[i], x[i + n], x[i + 2*n]]\n",
    "        max_val = max(vals)\n",
    "        if max_val > 0:\n",
    "            prod_idx = vals.index(max_val)\n",
    "            prod = products[prod_idx].upper()\n",
    "            expected_revenue = exp_revs[prod_idx * n + i]\n",
    "            offers.append({\n",
    "                'Client': df.iloc[i]['Client'], \n",
    "                'Product': prod,\n",
    "                'Expected_Revenue': expected_revenue\n",
    "            })\n",
    "\n",
    "    offers_df = pd.DataFrame(offers)\n",
    "    offers_df = offers_df.sort_values('Expected_Revenue', ascending=False).head(int(0.15 * n)).reset_index(drop=True)\n",
    "\n",
    "    return offers_df\n",
    "\n"
   ]
  },
  {
   "cell_type": "code",
   "execution_count": 52,
   "id": "92046077",
   "metadata": {},
   "outputs": [
    {
     "name": "stdout",
     "output_type": "stream",
     "text": [
      "Total_Revenue: 2976.1267709947087\n"
     ]
    },
    {
     "data": {
      "text/plain": [
       "(139, 3)"
      ]
     },
     "execution_count": 52,
     "metadata": {},
     "output_type": "execute_result"
    }
   ],
   "source": [
    "df_selected = optimization_selection(df)\n",
    "print(f\"Total_Revenue: {sum(df_selected['Expected_Revenue'])}\")\n",
    "df_selected.shape"
   ]
  },
  {
   "cell_type": "code",
   "execution_count": 53,
   "id": "e6a879f5",
   "metadata": {},
   "outputs": [],
   "source": [
    "df_selected[[\"Client\", \"Product\"]].to_csv(\"../results/target_customers.csv\", index=0)"
   ]
  }
 ],
 "metadata": {
  "kernelspec": {
   "display_name": "myenv",
   "language": "python",
   "name": "python3"
  },
  "language_info": {
   "codemirror_mode": {
    "name": "ipython",
    "version": 3
   },
   "file_extension": ".py",
   "mimetype": "text/x-python",
   "name": "python",
   "nbconvert_exporter": "python",
   "pygments_lexer": "ipython3",
   "version": "3.9.16"
  }
 },
 "nbformat": 4,
 "nbformat_minor": 5
}
