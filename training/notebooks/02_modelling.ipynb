{
 "cells": [
  {
   "cell_type": "markdown",
   "id": "e759197e",
   "metadata": {},
   "source": [
    "# Feature Transformation and Selection"
   ]
  },
  {
   "cell_type": "code",
   "execution_count": 1,
   "id": "2bdd4b0b",
   "metadata": {},
   "outputs": [],
   "source": [
    "import pandas as pd\n",
    "import numpy as np"
   ]
  },
  {
   "cell_type": "code",
   "execution_count": 2,
   "id": "e371b740",
   "metadata": {},
   "outputs": [
    {
     "name": "stdout",
     "output_type": "stream",
     "text": [
      "Shape of soc_dem: (1615, 4)\n",
      "Shape of products: (1615, 13)\n",
      "Shape of inflow_outflow: (1587, 15)\n",
      "Shape of sales_revenue: (969, 7)\n",
      "(969, 36)\n",
      "Duplicated:  0\n"
     ]
    },
    {
     "data": {
      "text/html": [
       "<div>\n",
       "<style scoped>\n",
       "    .dataframe tbody tr th:only-of-type {\n",
       "        vertical-align: middle;\n",
       "    }\n",
       "\n",
       "    .dataframe tbody tr th {\n",
       "        vertical-align: top;\n",
       "    }\n",
       "\n",
       "    .dataframe thead th {\n",
       "        text-align: right;\n",
       "    }\n",
       "</style>\n",
       "<table border=\"1\" class=\"dataframe\">\n",
       "  <thead>\n",
       "    <tr style=\"text-align: right;\">\n",
       "      <th></th>\n",
       "      <th>Client</th>\n",
       "      <th>Sale_MF</th>\n",
       "      <th>Sale_CC</th>\n",
       "      <th>Sale_CL</th>\n",
       "      <th>Revenue_MF</th>\n",
       "      <th>Revenue_CC</th>\n",
       "      <th>Revenue_CL</th>\n",
       "      <th>Count_CA</th>\n",
       "      <th>Count_SA</th>\n",
       "      <th>Count_MF</th>\n",
       "      <th>...</th>\n",
       "      <th>VolumeDebCashless_Card</th>\n",
       "      <th>VolumeDeb_PaymentOrder</th>\n",
       "      <th>TransactionsDeb</th>\n",
       "      <th>TransactionsDeb_CA</th>\n",
       "      <th>TransactionsDebCash_Card</th>\n",
       "      <th>TransactionsDebCashless_Card</th>\n",
       "      <th>TransactionsDeb_PaymentOrder</th>\n",
       "      <th>Sex</th>\n",
       "      <th>Age</th>\n",
       "      <th>Tenure</th>\n",
       "    </tr>\n",
       "  </thead>\n",
       "  <tbody>\n",
       "    <tr>\n",
       "      <th>0</th>\n",
       "      <td>1094</td>\n",
       "      <td>0</td>\n",
       "      <td>1</td>\n",
       "      <td>0</td>\n",
       "      <td>0.000000</td>\n",
       "      <td>5.138571</td>\n",
       "      <td>0.0000</td>\n",
       "      <td>1</td>\n",
       "      <td>NaN</td>\n",
       "      <td>NaN</td>\n",
       "      <td>...</td>\n",
       "      <td>351.950357</td>\n",
       "      <td>891.327857</td>\n",
       "      <td>31.0</td>\n",
       "      <td>31.0</td>\n",
       "      <td>1.0</td>\n",
       "      <td>21.0</td>\n",
       "      <td>4.0</td>\n",
       "      <td>M</td>\n",
       "      <td>25</td>\n",
       "      <td>8</td>\n",
       "    </tr>\n",
       "    <tr>\n",
       "      <th>1</th>\n",
       "      <td>1484</td>\n",
       "      <td>1</td>\n",
       "      <td>0</td>\n",
       "      <td>1</td>\n",
       "      <td>25.609107</td>\n",
       "      <td>0.000000</td>\n",
       "      <td>8.7225</td>\n",
       "      <td>1</td>\n",
       "      <td>NaN</td>\n",
       "      <td>NaN</td>\n",
       "      <td>...</td>\n",
       "      <td>302.446429</td>\n",
       "      <td>357.785714</td>\n",
       "      <td>23.0</td>\n",
       "      <td>23.0</td>\n",
       "      <td>1.0</td>\n",
       "      <td>16.0</td>\n",
       "      <td>5.0</td>\n",
       "      <td>M</td>\n",
       "      <td>39</td>\n",
       "      <td>0</td>\n",
       "    </tr>\n",
       "    <tr>\n",
       "      <th>2</th>\n",
       "      <td>20</td>\n",
       "      <td>0</td>\n",
       "      <td>1</td>\n",
       "      <td>0</td>\n",
       "      <td>0.000000</td>\n",
       "      <td>3.822500</td>\n",
       "      <td>0.0000</td>\n",
       "      <td>1</td>\n",
       "      <td>1.0</td>\n",
       "      <td>NaN</td>\n",
       "      <td>...</td>\n",
       "      <td>10.714286</td>\n",
       "      <td>103.571429</td>\n",
       "      <td>7.0</td>\n",
       "      <td>7.0</td>\n",
       "      <td>3.0</td>\n",
       "      <td>1.0</td>\n",
       "      <td>3.0</td>\n",
       "      <td>M</td>\n",
       "      <td>27</td>\n",
       "      <td>181</td>\n",
       "    </tr>\n",
       "    <tr>\n",
       "      <th>3</th>\n",
       "      <td>1193</td>\n",
       "      <td>0</td>\n",
       "      <td>0</td>\n",
       "      <td>0</td>\n",
       "      <td>0.000000</td>\n",
       "      <td>0.000000</td>\n",
       "      <td>0.0000</td>\n",
       "      <td>2</td>\n",
       "      <td>NaN</td>\n",
       "      <td>NaN</td>\n",
       "      <td>...</td>\n",
       "      <td>331.150000</td>\n",
       "      <td>75.178571</td>\n",
       "      <td>55.0</td>\n",
       "      <td>36.0</td>\n",
       "      <td>6.0</td>\n",
       "      <td>21.0</td>\n",
       "      <td>2.0</td>\n",
       "      <td>M</td>\n",
       "      <td>48</td>\n",
       "      <td>16</td>\n",
       "    </tr>\n",
       "    <tr>\n",
       "      <th>4</th>\n",
       "      <td>142</td>\n",
       "      <td>0</td>\n",
       "      <td>0</td>\n",
       "      <td>0</td>\n",
       "      <td>0.000000</td>\n",
       "      <td>0.000000</td>\n",
       "      <td>0.0000</td>\n",
       "      <td>1</td>\n",
       "      <td>NaN</td>\n",
       "      <td>NaN</td>\n",
       "      <td>...</td>\n",
       "      <td>0.000000</td>\n",
       "      <td>725.928571</td>\n",
       "      <td>2.0</td>\n",
       "      <td>2.0</td>\n",
       "      <td>0.0</td>\n",
       "      <td>0.0</td>\n",
       "      <td>1.0</td>\n",
       "      <td>F</td>\n",
       "      <td>27</td>\n",
       "      <td>183</td>\n",
       "    </tr>\n",
       "  </tbody>\n",
       "</table>\n",
       "<p>5 rows × 36 columns</p>\n",
       "</div>"
      ],
      "text/plain": [
       "   Client  Sale_MF  Sale_CC  Sale_CL  Revenue_MF  Revenue_CC  Revenue_CL  \\\n",
       "0    1094        0        1        0    0.000000    5.138571      0.0000   \n",
       "1    1484        1        0        1   25.609107    0.000000      8.7225   \n",
       "2      20        0        1        0    0.000000    3.822500      0.0000   \n",
       "3    1193        0        0        0    0.000000    0.000000      0.0000   \n",
       "4     142        0        0        0    0.000000    0.000000      0.0000   \n",
       "\n",
       "   Count_CA  Count_SA  Count_MF  ...  VolumeDebCashless_Card  \\\n",
       "0         1       NaN       NaN  ...              351.950357   \n",
       "1         1       NaN       NaN  ...              302.446429   \n",
       "2         1       1.0       NaN  ...               10.714286   \n",
       "3         2       NaN       NaN  ...              331.150000   \n",
       "4         1       NaN       NaN  ...                0.000000   \n",
       "\n",
       "   VolumeDeb_PaymentOrder  TransactionsDeb  TransactionsDeb_CA  \\\n",
       "0              891.327857             31.0                31.0   \n",
       "1              357.785714             23.0                23.0   \n",
       "2              103.571429              7.0                 7.0   \n",
       "3               75.178571             55.0                36.0   \n",
       "4              725.928571              2.0                 2.0   \n",
       "\n",
       "   TransactionsDebCash_Card  TransactionsDebCashless_Card  \\\n",
       "0                       1.0                          21.0   \n",
       "1                       1.0                          16.0   \n",
       "2                       3.0                           1.0   \n",
       "3                       6.0                          21.0   \n",
       "4                       0.0                           0.0   \n",
       "\n",
       "   TransactionsDeb_PaymentOrder  Sex  Age  Tenure  \n",
       "0                           4.0    M   25       8  \n",
       "1                           5.0    M   39       0  \n",
       "2                           3.0    M   27     181  \n",
       "3                           2.0    M   48      16  \n",
       "4                           1.0    F   27     183  \n",
       "\n",
       "[5 rows x 36 columns]"
      ]
     },
     "execution_count": 2,
     "metadata": {},
     "output_type": "execute_result"
    }
   ],
   "source": [
    "# Load all sheets from the Excel file\n",
    "file_path = '../data/DataScientist_CaseStudy_Dataset.xlsx'\n",
    "\n",
    "# Load sheets\n",
    "soc_dem = pd.read_excel(file_path, sheet_name='Soc_Dem')\n",
    "print(f\"Shape of soc_dem: {soc_dem.shape}\")\n",
    "products = pd.read_excel(file_path, sheet_name='Products_ActBalance')\n",
    "print(f\"Shape of products: {products.shape}\")\n",
    "inflow_outflow = pd.read_excel(file_path, sheet_name='Inflow_Outflow')\n",
    "print(f\"Shape of inflow_outflow: {inflow_outflow.shape}\")\n",
    "sales_revenue = pd.read_excel(file_path, sheet_name='Sales_Revenues')\n",
    "print(f\"Shape of sales_revenue: {sales_revenue.shape}\")\n",
    "df = sales_revenue.merge(products, on='Client', how='left')\\\n",
    "            .merge(inflow_outflow, on='Client', how='left')\\\n",
    "               .merge(soc_dem, on='Client', how='left')\n",
    "\n",
    "print(df.shape)\n",
    "print(\"Duplicated: \", df.duplicated(subset= \"Client\").sum())\n",
    "label_col = ['Sale_MF', 'Sale_CC', 'Sale_CL', 'Revenue_MF', 'Revenue_CC', 'Revenue_CL']\n",
    "feature_col = [col for col in df.columns if col not in label_col + ['Client']]\n",
    "\n",
    "df.head()\n"
   ]
  },
  {
   "cell_type": "code",
   "execution_count": 3,
   "id": "527b61e3",
   "metadata": {},
   "outputs": [
    {
     "data": {
      "text/plain": [
       "count     110.000000\n",
       "mean      280.908494\n",
       "std       376.194964\n",
       "min       -15.479286\n",
       "25%         0.767857\n",
       "50%        37.125000\n",
       "75%       491.310179\n",
       "max      1767.785357\n",
       "Name: ActBal_CC, dtype: float64"
      ]
     },
     "execution_count": 3,
     "metadata": {},
     "output_type": "execute_result"
    }
   ],
   "source": [
    "df[\"ActBal_CC\"].describe()"
   ]
  },
  {
   "cell_type": "code",
   "execution_count": 4,
   "id": "e23a7327",
   "metadata": {},
   "outputs": [
    {
     "data": {
      "text/plain": [
       "['Count_CA',\n",
       " 'Count_SA',\n",
       " 'Count_MF',\n",
       " 'Count_OVD',\n",
       " 'Count_CC',\n",
       " 'Count_CL',\n",
       " 'ActBal_CA',\n",
       " 'ActBal_SA',\n",
       " 'ActBal_MF',\n",
       " 'ActBal_OVD',\n",
       " 'ActBal_CC',\n",
       " 'ActBal_CL',\n",
       " 'VolumeCred',\n",
       " 'VolumeCred_CA',\n",
       " 'TransactionsCred',\n",
       " 'TransactionsCred_CA',\n",
       " 'VolumeDeb',\n",
       " 'VolumeDeb_CA',\n",
       " 'VolumeDebCash_Card',\n",
       " 'VolumeDebCashless_Card',\n",
       " 'VolumeDeb_PaymentOrder',\n",
       " 'TransactionsDeb',\n",
       " 'TransactionsDeb_CA',\n",
       " 'TransactionsDebCash_Card',\n",
       " 'TransactionsDebCashless_Card',\n",
       " 'TransactionsDeb_PaymentOrder',\n",
       " 'Sex',\n",
       " 'Age',\n",
       " 'Tenure']"
      ]
     },
     "execution_count": 4,
     "metadata": {},
     "output_type": "execute_result"
    }
   ],
   "source": [
    "feature_col"
   ]
  },
  {
   "cell_type": "code",
   "execution_count": 5,
   "id": "8e685b36",
   "metadata": {},
   "outputs": [
    {
     "data": {
      "text/plain": [
       "Client                          0\n",
       "Sale_MF                         0\n",
       "Sale_CC                         0\n",
       "Sale_CL                         0\n",
       "Revenue_MF                      0\n",
       "Revenue_CC                      0\n",
       "Revenue_CL                      0\n",
       "Count_CA                        0\n",
       "Count_SA                        0\n",
       "Count_MF                        0\n",
       "Count_OVD                       0\n",
       "Count_CC                        0\n",
       "Count_CL                        0\n",
       "ActBal_CA                       0\n",
       "ActBal_SA                       0\n",
       "ActBal_MF                       0\n",
       "ActBal_OVD                      0\n",
       "ActBal_CC                       0\n",
       "ActBal_CL                       0\n",
       "VolumeCred                      0\n",
       "VolumeCred_CA                   0\n",
       "TransactionsCred                0\n",
       "TransactionsCred_CA             0\n",
       "VolumeDeb                       0\n",
       "VolumeDeb_CA                    0\n",
       "VolumeDebCash_Card              0\n",
       "VolumeDebCashless_Card          0\n",
       "VolumeDeb_PaymentOrder          0\n",
       "TransactionsDeb                 0\n",
       "TransactionsDeb_CA              0\n",
       "TransactionsDebCash_Card        0\n",
       "TransactionsDebCashless_Card    0\n",
       "TransactionsDeb_PaymentOrder    0\n",
       "Sex                             0\n",
       "Age                             0\n",
       "Tenure                          0\n",
       "dtype: int64"
      ]
     },
     "execution_count": 5,
     "metadata": {},
     "output_type": "execute_result"
    }
   ],
   "source": [
    "# Fill missing\n",
    "col_exclude = 'Sex'\n",
    "\n",
    "df[df.columns.difference([col_exclude])] = df[df.columns.difference([col_exclude])].fillna(0)\n",
    "df = df.dropna() # Dropna\n",
    "df.isnull().sum()"
   ]
  },
  {
   "cell_type": "code",
   "execution_count": 6,
   "id": "8fb135bb",
   "metadata": {},
   "outputs": [
    {
     "name": "stdout",
     "output_type": "stream",
     "text": [
      "Pre-filtered shape: 967\n",
      "Post-filtered shape: 933\n"
     ]
    }
   ],
   "source": [
    "# Filter erroneous tenure\n",
    "print(f\"Pre-filtered shape: {len(df)}\")\n",
    "df =  df[df['Tenure']/12 <= df['Age']]\n",
    "print(f\"Post-filtered shape: {len(df)}\")"
   ]
  },
  {
   "cell_type": "code",
   "execution_count": 7,
   "id": "00e3aa0e",
   "metadata": {},
   "outputs": [],
   "source": [
    "# Create Dummy Columns\n",
    "dummies = pd.get_dummies(df['Sex'], prefix='Sex', drop_first=True).astype(int)\n",
    "df = df.drop('Sex', axis=1).join(dummies)"
   ]
  },
  {
   "cell_type": "code",
   "execution_count": 8,
   "id": "25c7696c",
   "metadata": {},
   "outputs": [
    {
     "data": {
      "text/html": [
       "<div>\n",
       "<style scoped>\n",
       "    .dataframe tbody tr th:only-of-type {\n",
       "        vertical-align: middle;\n",
       "    }\n",
       "\n",
       "    .dataframe tbody tr th {\n",
       "        vertical-align: top;\n",
       "    }\n",
       "\n",
       "    .dataframe thead th {\n",
       "        text-align: right;\n",
       "    }\n",
       "</style>\n",
       "<table border=\"1\" class=\"dataframe\">\n",
       "  <thead>\n",
       "    <tr style=\"text-align: right;\">\n",
       "      <th></th>\n",
       "      <th>Client</th>\n",
       "      <th>Sale_MF</th>\n",
       "      <th>Sale_CC</th>\n",
       "      <th>Sale_CL</th>\n",
       "      <th>Revenue_MF</th>\n",
       "      <th>Revenue_CC</th>\n",
       "      <th>Revenue_CL</th>\n",
       "      <th>Count_CA</th>\n",
       "      <th>Count_SA</th>\n",
       "      <th>Count_MF</th>\n",
       "      <th>...</th>\n",
       "      <th>VolumeDebCashless_Card</th>\n",
       "      <th>VolumeDeb_PaymentOrder</th>\n",
       "      <th>TransactionsDeb</th>\n",
       "      <th>TransactionsDeb_CA</th>\n",
       "      <th>TransactionsDebCash_Card</th>\n",
       "      <th>TransactionsDebCashless_Card</th>\n",
       "      <th>TransactionsDeb_PaymentOrder</th>\n",
       "      <th>Age</th>\n",
       "      <th>Tenure</th>\n",
       "      <th>Sex_M</th>\n",
       "    </tr>\n",
       "  </thead>\n",
       "  <tbody>\n",
       "  </tbody>\n",
       "</table>\n",
       "<p>0 rows × 36 columns</p>\n",
       "</div>"
      ],
      "text/plain": [
       "Empty DataFrame\n",
       "Columns: [Client, Sale_MF, Sale_CC, Sale_CL, Revenue_MF, Revenue_CC, Revenue_CL, Count_CA, Count_SA, Count_MF, Count_OVD, Count_CC, Count_CL, ActBal_CA, ActBal_SA, ActBal_MF, ActBal_OVD, ActBal_CC, ActBal_CL, VolumeCred, VolumeCred_CA, TransactionsCred, TransactionsCred_CA, VolumeDeb, VolumeDeb_CA, VolumeDebCash_Card, VolumeDebCashless_Card, VolumeDeb_PaymentOrder, TransactionsDeb, TransactionsDeb_CA, TransactionsDebCash_Card, TransactionsDebCashless_Card, TransactionsDeb_PaymentOrder, Age, Tenure, Sex_M]\n",
       "Index: []\n",
       "\n",
       "[0 rows x 36 columns]"
      ]
     },
     "execution_count": 8,
     "metadata": {},
     "output_type": "execute_result"
    }
   ],
   "source": [
    "df[df.isna().any(axis=1)]"
   ]
  },
  {
   "cell_type": "code",
   "execution_count": 9,
   "id": "92da8750",
   "metadata": {},
   "outputs": [
    {
     "data": {
      "text/html": [
       "<div>\n",
       "<style scoped>\n",
       "    .dataframe tbody tr th:only-of-type {\n",
       "        vertical-align: middle;\n",
       "    }\n",
       "\n",
       "    .dataframe tbody tr th {\n",
       "        vertical-align: top;\n",
       "    }\n",
       "\n",
       "    .dataframe thead th {\n",
       "        text-align: right;\n",
       "    }\n",
       "</style>\n",
       "<table border=\"1\" class=\"dataframe\">\n",
       "  <thead>\n",
       "    <tr style=\"text-align: right;\">\n",
       "      <th></th>\n",
       "      <th>Client</th>\n",
       "      <th>Sale_MF</th>\n",
       "      <th>Sale_CC</th>\n",
       "      <th>Sale_CL</th>\n",
       "      <th>Revenue_MF</th>\n",
       "      <th>Revenue_CC</th>\n",
       "      <th>Revenue_CL</th>\n",
       "      <th>Count_CA</th>\n",
       "      <th>Count_SA</th>\n",
       "      <th>Count_MF</th>\n",
       "      <th>...</th>\n",
       "      <th>VolumeDebCashless_Card</th>\n",
       "      <th>VolumeDeb_PaymentOrder</th>\n",
       "      <th>TransactionsDeb</th>\n",
       "      <th>TransactionsDeb_CA</th>\n",
       "      <th>TransactionsDebCash_Card</th>\n",
       "      <th>TransactionsDebCashless_Card</th>\n",
       "      <th>TransactionsDeb_PaymentOrder</th>\n",
       "      <th>Age</th>\n",
       "      <th>Tenure</th>\n",
       "      <th>Sex_M</th>\n",
       "    </tr>\n",
       "  </thead>\n",
       "  <tbody>\n",
       "    <tr>\n",
       "      <th>count</th>\n",
       "      <td>933.000000</td>\n",
       "      <td>933.000000</td>\n",
       "      <td>933.000000</td>\n",
       "      <td>933.000000</td>\n",
       "      <td>933.000000</td>\n",
       "      <td>933.000000</td>\n",
       "      <td>933.000000</td>\n",
       "      <td>933.000000</td>\n",
       "      <td>933.000000</td>\n",
       "      <td>933.000000</td>\n",
       "      <td>...</td>\n",
       "      <td>933.000000</td>\n",
       "      <td>933.000000</td>\n",
       "      <td>933.000000</td>\n",
       "      <td>933.000000</td>\n",
       "      <td>933.000000</td>\n",
       "      <td>933.000000</td>\n",
       "      <td>933.000000</td>\n",
       "      <td>933.000000</td>\n",
       "      <td>933.000000</td>\n",
       "      <td>933.000000</td>\n",
       "    </tr>\n",
       "    <tr>\n",
       "      <th>mean</th>\n",
       "      <td>809.939979</td>\n",
       "      <td>0.202572</td>\n",
       "      <td>0.250804</td>\n",
       "      <td>0.286174</td>\n",
       "      <td>1.984476</td>\n",
       "      <td>2.783249</td>\n",
       "      <td>3.388565</td>\n",
       "      <td>1.077170</td>\n",
       "      <td>0.319400</td>\n",
       "      <td>0.926045</td>\n",
       "      <td>...</td>\n",
       "      <td>2.751526</td>\n",
       "      <td>4.164421</td>\n",
       "      <td>2.357480</td>\n",
       "      <td>2.247337</td>\n",
       "      <td>0.790142</td>\n",
       "      <td>1.117071</td>\n",
       "      <td>1.280376</td>\n",
       "      <td>44.314041</td>\n",
       "      <td>98.518757</td>\n",
       "      <td>0.535906</td>\n",
       "    </tr>\n",
       "    <tr>\n",
       "      <th>std</th>\n",
       "      <td>463.643784</td>\n",
       "      <td>0.402132</td>\n",
       "      <td>0.433708</td>\n",
       "      <td>0.452214</td>\n",
       "      <td>10.123181</td>\n",
       "      <td>18.021070</td>\n",
       "      <td>7.554915</td>\n",
       "      <td>0.328287</td>\n",
       "      <td>0.577492</td>\n",
       "      <td>4.124133</td>\n",
       "      <td>...</td>\n",
       "      <td>2.627080</td>\n",
       "      <td>2.804534</td>\n",
       "      <td>1.082752</td>\n",
       "      <td>1.030170</td>\n",
       "      <td>0.759141</td>\n",
       "      <td>1.177716</td>\n",
       "      <td>0.971236</td>\n",
       "      <td>17.526956</td>\n",
       "      <td>64.766458</td>\n",
       "      <td>0.498977</td>\n",
       "    </tr>\n",
       "    <tr>\n",
       "      <th>min</th>\n",
       "      <td>1.000000</td>\n",
       "      <td>0.000000</td>\n",
       "      <td>0.000000</td>\n",
       "      <td>0.000000</td>\n",
       "      <td>0.000000</td>\n",
       "      <td>0.000000</td>\n",
       "      <td>0.000000</td>\n",
       "      <td>1.000000</td>\n",
       "      <td>0.000000</td>\n",
       "      <td>0.000000</td>\n",
       "      <td>...</td>\n",
       "      <td>0.000000</td>\n",
       "      <td>0.000000</td>\n",
       "      <td>0.000000</td>\n",
       "      <td>0.000000</td>\n",
       "      <td>0.000000</td>\n",
       "      <td>0.000000</td>\n",
       "      <td>0.000000</td>\n",
       "      <td>2.000000</td>\n",
       "      <td>0.000000</td>\n",
       "      <td>0.000000</td>\n",
       "    </tr>\n",
       "    <tr>\n",
       "      <th>25%</th>\n",
       "      <td>420.000000</td>\n",
       "      <td>0.000000</td>\n",
       "      <td>0.000000</td>\n",
       "      <td>0.000000</td>\n",
       "      <td>0.000000</td>\n",
       "      <td>0.000000</td>\n",
       "      <td>0.000000</td>\n",
       "      <td>1.000000</td>\n",
       "      <td>0.000000</td>\n",
       "      <td>0.000000</td>\n",
       "      <td>...</td>\n",
       "      <td>0.000000</td>\n",
       "      <td>0.000000</td>\n",
       "      <td>1.609438</td>\n",
       "      <td>1.609438</td>\n",
       "      <td>0.000000</td>\n",
       "      <td>0.000000</td>\n",
       "      <td>0.000000</td>\n",
       "      <td>30.000000</td>\n",
       "      <td>40.000000</td>\n",
       "      <td>0.000000</td>\n",
       "    </tr>\n",
       "    <tr>\n",
       "      <th>50%</th>\n",
       "      <td>810.000000</td>\n",
       "      <td>0.000000</td>\n",
       "      <td>0.000000</td>\n",
       "      <td>0.000000</td>\n",
       "      <td>0.000000</td>\n",
       "      <td>0.000000</td>\n",
       "      <td>0.000000</td>\n",
       "      <td>1.000000</td>\n",
       "      <td>0.000000</td>\n",
       "      <td>0.000000</td>\n",
       "      <td>...</td>\n",
       "      <td>3.241476</td>\n",
       "      <td>5.162539</td>\n",
       "      <td>2.564949</td>\n",
       "      <td>2.397895</td>\n",
       "      <td>0.693147</td>\n",
       "      <td>0.693147</td>\n",
       "      <td>1.386294</td>\n",
       "      <td>42.000000</td>\n",
       "      <td>92.000000</td>\n",
       "      <td>1.000000</td>\n",
       "    </tr>\n",
       "    <tr>\n",
       "      <th>75%</th>\n",
       "      <td>1212.000000</td>\n",
       "      <td>0.000000</td>\n",
       "      <td>1.000000</td>\n",
       "      <td>1.000000</td>\n",
       "      <td>0.000000</td>\n",
       "      <td>0.071429</td>\n",
       "      <td>4.214286</td>\n",
       "      <td>1.000000</td>\n",
       "      <td>1.000000</td>\n",
       "      <td>0.000000</td>\n",
       "      <td>...</td>\n",
       "      <td>5.200303</td>\n",
       "      <td>6.196953</td>\n",
       "      <td>3.135494</td>\n",
       "      <td>2.995732</td>\n",
       "      <td>1.386294</td>\n",
       "      <td>2.079442</td>\n",
       "      <td>2.079442</td>\n",
       "      <td>58.000000</td>\n",
       "      <td>151.000000</td>\n",
       "      <td>1.000000</td>\n",
       "    </tr>\n",
       "    <tr>\n",
       "      <th>max</th>\n",
       "      <td>1613.000000</td>\n",
       "      <td>1.000000</td>\n",
       "      <td>1.000000</td>\n",
       "      <td>1.000000</td>\n",
       "      <td>220.488214</td>\n",
       "      <td>407.962500</td>\n",
       "      <td>133.275357</td>\n",
       "      <td>4.000000</td>\n",
       "      <td>3.000000</td>\n",
       "      <td>79.000000</td>\n",
       "      <td>...</td>\n",
       "      <td>8.199359</td>\n",
       "      <td>11.034181</td>\n",
       "      <td>4.634729</td>\n",
       "      <td>4.430817</td>\n",
       "      <td>3.258097</td>\n",
       "      <td>4.110874</td>\n",
       "      <td>3.555348</td>\n",
       "      <td>90.000000</td>\n",
       "      <td>271.000000</td>\n",
       "      <td>1.000000</td>\n",
       "    </tr>\n",
       "  </tbody>\n",
       "</table>\n",
       "<p>8 rows × 36 columns</p>\n",
       "</div>"
      ],
      "text/plain": [
       "            Client     Sale_MF     Sale_CC     Sale_CL  Revenue_MF  \\\n",
       "count   933.000000  933.000000  933.000000  933.000000  933.000000   \n",
       "mean    809.939979    0.202572    0.250804    0.286174    1.984476   \n",
       "std     463.643784    0.402132    0.433708    0.452214   10.123181   \n",
       "min       1.000000    0.000000    0.000000    0.000000    0.000000   \n",
       "25%     420.000000    0.000000    0.000000    0.000000    0.000000   \n",
       "50%     810.000000    0.000000    0.000000    0.000000    0.000000   \n",
       "75%    1212.000000    0.000000    1.000000    1.000000    0.000000   \n",
       "max    1613.000000    1.000000    1.000000    1.000000  220.488214   \n",
       "\n",
       "       Revenue_CC  Revenue_CL    Count_CA    Count_SA    Count_MF  ...  \\\n",
       "count  933.000000  933.000000  933.000000  933.000000  933.000000  ...   \n",
       "mean     2.783249    3.388565    1.077170    0.319400    0.926045  ...   \n",
       "std     18.021070    7.554915    0.328287    0.577492    4.124133  ...   \n",
       "min      0.000000    0.000000    1.000000    0.000000    0.000000  ...   \n",
       "25%      0.000000    0.000000    1.000000    0.000000    0.000000  ...   \n",
       "50%      0.000000    0.000000    1.000000    0.000000    0.000000  ...   \n",
       "75%      0.071429    4.214286    1.000000    1.000000    0.000000  ...   \n",
       "max    407.962500  133.275357    4.000000    3.000000   79.000000  ...   \n",
       "\n",
       "       VolumeDebCashless_Card  VolumeDeb_PaymentOrder  TransactionsDeb  \\\n",
       "count              933.000000              933.000000       933.000000   \n",
       "mean                 2.751526                4.164421         2.357480   \n",
       "std                  2.627080                2.804534         1.082752   \n",
       "min                  0.000000                0.000000         0.000000   \n",
       "25%                  0.000000                0.000000         1.609438   \n",
       "50%                  3.241476                5.162539         2.564949   \n",
       "75%                  5.200303                6.196953         3.135494   \n",
       "max                  8.199359               11.034181         4.634729   \n",
       "\n",
       "       TransactionsDeb_CA  TransactionsDebCash_Card  \\\n",
       "count          933.000000                933.000000   \n",
       "mean             2.247337                  0.790142   \n",
       "std              1.030170                  0.759141   \n",
       "min              0.000000                  0.000000   \n",
       "25%              1.609438                  0.000000   \n",
       "50%              2.397895                  0.693147   \n",
       "75%              2.995732                  1.386294   \n",
       "max              4.430817                  3.258097   \n",
       "\n",
       "       TransactionsDebCashless_Card  TransactionsDeb_PaymentOrder         Age  \\\n",
       "count                    933.000000                    933.000000  933.000000   \n",
       "mean                       1.117071                      1.280376   44.314041   \n",
       "std                        1.177716                      0.971236   17.526956   \n",
       "min                        0.000000                      0.000000    2.000000   \n",
       "25%                        0.000000                      0.000000   30.000000   \n",
       "50%                        0.693147                      1.386294   42.000000   \n",
       "75%                        2.079442                      2.079442   58.000000   \n",
       "max                        4.110874                      3.555348   90.000000   \n",
       "\n",
       "           Tenure       Sex_M  \n",
       "count  933.000000  933.000000  \n",
       "mean    98.518757    0.535906  \n",
       "std     64.766458    0.498977  \n",
       "min      0.000000    0.000000  \n",
       "25%     40.000000    0.000000  \n",
       "50%     92.000000    1.000000  \n",
       "75%    151.000000    1.000000  \n",
       "max    271.000000    1.000000  \n",
       "\n",
       "[8 rows x 36 columns]"
      ]
     },
     "execution_count": 9,
     "metadata": {},
     "output_type": "execute_result"
    }
   ],
   "source": [
    "# Log transform\n",
    "col_to_transform = [col for col in df.columns if (col.startswith('Volume') or col.startswith('Transactions'))]\n",
    "df[col_to_transform] = df[col_to_transform].apply(lambda x: np.log1p(x))\n",
    "df.describe()"
   ]
  },
  {
   "cell_type": "markdown",
   "id": "5cba5d21",
   "metadata": {},
   "source": [
    "# Train Test Split"
   ]
  },
  {
   "cell_type": "code",
   "execution_count": 10,
   "id": "cb761905",
   "metadata": {},
   "outputs": [
    {
     "name": "stdout",
     "output_type": "stream",
     "text": [
      "(745, 33) (94, 33) (94, 33)\n"
     ]
    },
    {
     "data": {
      "text/html": [
       "<div>\n",
       "<style scoped>\n",
       "    .dataframe tbody tr th:only-of-type {\n",
       "        vertical-align: middle;\n",
       "    }\n",
       "\n",
       "    .dataframe tbody tr th {\n",
       "        vertical-align: top;\n",
       "    }\n",
       "\n",
       "    .dataframe thead th {\n",
       "        text-align: right;\n",
       "    }\n",
       "</style>\n",
       "<table border=\"1\" class=\"dataframe\">\n",
       "  <thead>\n",
       "    <tr style=\"text-align: right;\">\n",
       "      <th></th>\n",
       "      <th>Client</th>\n",
       "      <th>Revenue_MF</th>\n",
       "      <th>Revenue_CC</th>\n",
       "      <th>Revenue_CL</th>\n",
       "      <th>Count_CA</th>\n",
       "      <th>Count_SA</th>\n",
       "      <th>Count_MF</th>\n",
       "      <th>Count_OVD</th>\n",
       "      <th>Count_CC</th>\n",
       "      <th>Count_CL</th>\n",
       "      <th>...</th>\n",
       "      <th>VolumeDebCashless_Card</th>\n",
       "      <th>VolumeDeb_PaymentOrder</th>\n",
       "      <th>TransactionsDeb</th>\n",
       "      <th>TransactionsDeb_CA</th>\n",
       "      <th>TransactionsDebCash_Card</th>\n",
       "      <th>TransactionsDebCashless_Card</th>\n",
       "      <th>TransactionsDeb_PaymentOrder</th>\n",
       "      <th>Age</th>\n",
       "      <th>Tenure</th>\n",
       "      <th>Sex_M</th>\n",
       "    </tr>\n",
       "  </thead>\n",
       "  <tbody>\n",
       "    <tr>\n",
       "      <th>194</th>\n",
       "      <td>721</td>\n",
       "      <td>0.0</td>\n",
       "      <td>4.464286</td>\n",
       "      <td>0.000000</td>\n",
       "      <td>1</td>\n",
       "      <td>1.0</td>\n",
       "      <td>0.0</td>\n",
       "      <td>1.0</td>\n",
       "      <td>0.0</td>\n",
       "      <td>0.0</td>\n",
       "      <td>...</td>\n",
       "      <td>5.030134</td>\n",
       "      <td>6.703035</td>\n",
       "      <td>2.890372</td>\n",
       "      <td>2.890372</td>\n",
       "      <td>0.693147</td>\n",
       "      <td>1.609438</td>\n",
       "      <td>2.484907</td>\n",
       "      <td>67</td>\n",
       "      <td>82</td>\n",
       "      <td>0</td>\n",
       "    </tr>\n",
       "    <tr>\n",
       "      <th>120</th>\n",
       "      <td>1456</td>\n",
       "      <td>0.0</td>\n",
       "      <td>3.607143</td>\n",
       "      <td>0.000000</td>\n",
       "      <td>1</td>\n",
       "      <td>1.0</td>\n",
       "      <td>0.0</td>\n",
       "      <td>0.0</td>\n",
       "      <td>0.0</td>\n",
       "      <td>0.0</td>\n",
       "      <td>...</td>\n",
       "      <td>6.211492</td>\n",
       "      <td>5.559169</td>\n",
       "      <td>3.367296</td>\n",
       "      <td>3.367296</td>\n",
       "      <td>0.693147</td>\n",
       "      <td>3.044522</td>\n",
       "      <td>1.791759</td>\n",
       "      <td>61</td>\n",
       "      <td>149</td>\n",
       "      <td>0</td>\n",
       "    </tr>\n",
       "    <tr>\n",
       "      <th>859</th>\n",
       "      <td>1579</td>\n",
       "      <td>0.0</td>\n",
       "      <td>0.000000</td>\n",
       "      <td>4.388929</td>\n",
       "      <td>1</td>\n",
       "      <td>1.0</td>\n",
       "      <td>3.0</td>\n",
       "      <td>0.0</td>\n",
       "      <td>0.0</td>\n",
       "      <td>0.0</td>\n",
       "      <td>...</td>\n",
       "      <td>6.819962</td>\n",
       "      <td>6.669770</td>\n",
       "      <td>3.258097</td>\n",
       "      <td>3.258097</td>\n",
       "      <td>1.791759</td>\n",
       "      <td>2.397895</td>\n",
       "      <td>2.197225</td>\n",
       "      <td>50</td>\n",
       "      <td>0</td>\n",
       "      <td>1</td>\n",
       "    </tr>\n",
       "    <tr>\n",
       "      <th>705</th>\n",
       "      <td>1272</td>\n",
       "      <td>0.0</td>\n",
       "      <td>0.000000</td>\n",
       "      <td>0.000000</td>\n",
       "      <td>1</td>\n",
       "      <td>0.0</td>\n",
       "      <td>1.0</td>\n",
       "      <td>0.0</td>\n",
       "      <td>0.0</td>\n",
       "      <td>0.0</td>\n",
       "      <td>...</td>\n",
       "      <td>5.667504</td>\n",
       "      <td>6.830141</td>\n",
       "      <td>2.944439</td>\n",
       "      <td>2.944439</td>\n",
       "      <td>1.386294</td>\n",
       "      <td>1.609438</td>\n",
       "      <td>2.302585</td>\n",
       "      <td>35</td>\n",
       "      <td>96</td>\n",
       "      <td>1</td>\n",
       "    </tr>\n",
       "    <tr>\n",
       "      <th>762</th>\n",
       "      <td>123</td>\n",
       "      <td>0.0</td>\n",
       "      <td>0.000000</td>\n",
       "      <td>10.461071</td>\n",
       "      <td>2</td>\n",
       "      <td>0.0</td>\n",
       "      <td>0.0</td>\n",
       "      <td>0.0</td>\n",
       "      <td>0.0</td>\n",
       "      <td>0.0</td>\n",
       "      <td>...</td>\n",
       "      <td>3.553305</td>\n",
       "      <td>0.000000</td>\n",
       "      <td>1.098612</td>\n",
       "      <td>1.098612</td>\n",
       "      <td>0.000000</td>\n",
       "      <td>0.693147</td>\n",
       "      <td>0.000000</td>\n",
       "      <td>22</td>\n",
       "      <td>40</td>\n",
       "      <td>0</td>\n",
       "    </tr>\n",
       "  </tbody>\n",
       "</table>\n",
       "<p>5 rows × 33 columns</p>\n",
       "</div>"
      ],
      "text/plain": [
       "     Client  Revenue_MF  Revenue_CC  Revenue_CL  Count_CA  Count_SA  Count_MF  \\\n",
       "194     721         0.0    4.464286    0.000000         1       1.0       0.0   \n",
       "120    1456         0.0    3.607143    0.000000         1       1.0       0.0   \n",
       "859    1579         0.0    0.000000    4.388929         1       1.0       3.0   \n",
       "705    1272         0.0    0.000000    0.000000         1       0.0       1.0   \n",
       "762     123         0.0    0.000000   10.461071         2       0.0       0.0   \n",
       "\n",
       "     Count_OVD  Count_CC  Count_CL  ...  VolumeDebCashless_Card  \\\n",
       "194        1.0       0.0       0.0  ...                5.030134   \n",
       "120        0.0       0.0       0.0  ...                6.211492   \n",
       "859        0.0       0.0       0.0  ...                6.819962   \n",
       "705        0.0       0.0       0.0  ...                5.667504   \n",
       "762        0.0       0.0       0.0  ...                3.553305   \n",
       "\n",
       "     VolumeDeb_PaymentOrder  TransactionsDeb  TransactionsDeb_CA  \\\n",
       "194                6.703035         2.890372            2.890372   \n",
       "120                5.559169         3.367296            3.367296   \n",
       "859                6.669770         3.258097            3.258097   \n",
       "705                6.830141         2.944439            2.944439   \n",
       "762                0.000000         1.098612            1.098612   \n",
       "\n",
       "     TransactionsDebCash_Card  TransactionsDebCashless_Card  \\\n",
       "194                  0.693147                      1.609438   \n",
       "120                  0.693147                      3.044522   \n",
       "859                  1.791759                      2.397895   \n",
       "705                  1.386294                      1.609438   \n",
       "762                  0.000000                      0.693147   \n",
       "\n",
       "     TransactionsDeb_PaymentOrder  Age  Tenure  Sex_M  \n",
       "194                      2.484907   67      82      0  \n",
       "120                      1.791759   61     149      0  \n",
       "859                      2.197225   50       0      1  \n",
       "705                      2.302585   35      96      1  \n",
       "762                      0.000000   22      40      0  \n",
       "\n",
       "[5 rows x 33 columns]"
      ]
     },
     "execution_count": 10,
     "metadata": {},
     "output_type": "execute_result"
    }
   ],
   "source": [
    "from sklearn.model_selection import train_test_split\n",
    "\n",
    "def split_df(df, label_cols, test_size=0.1, val_size=0.1, random_state=None, shuffle=True):\n",
    "    \"\"\"\n",
    "    Split a DataFrame into train, validation, and test sets with stratification\n",
    "    based on the combination of multiple label columns.\n",
    "\n",
    "    Parameters:\n",
    "    - df: pandas DataFrame\n",
    "    - label_cols: list of str, column names for labels (for stratification)\n",
    "    - test_size: float, fraction of data for test set (default 0.2)\n",
    "    - val_size: float, fraction of data for validation set (default 0.1)\n",
    "    - random_state: int or None, for reproducibility\n",
    "    - shuffle: bool, whether to shuffle before splitting (default True)\n",
    "\n",
    "    Returns:\n",
    "    - X_train, X_val, X_test, y_train, y_val, y_test as DataFrames\n",
    "    \"\"\"\n",
    "    if not isinstance(label_cols, list):\n",
    "        raise ValueError(\"label_cols must be a list of column names\")\n",
    "\n",
    "    # Create stratification key by combining label columns as a tuple of string\n",
    "    stratify_key = df[label_cols].astype(str).agg('_'.join, axis=1)\n",
    "\n",
    "    X = df.drop(columns=label_cols)\n",
    "    y = df[label_cols]\n",
    "\n",
    "    # First split: train+val and test with stratification\n",
    "    X_train_val, X_test, y_train_val, y_test, strat_train_val, strat_test = train_test_split(\n",
    "        X, y, stratify_key, test_size=test_size, random_state=random_state, shuffle=shuffle\n",
    "    )\n",
    "\n",
    "    # Adjust val_size relative to remaining train_val set\n",
    "    val_adjusted = val_size / (1 - test_size)\n",
    "\n",
    "    # Second split: train and val with stratification\n",
    "    X_train, X_val, y_train, y_val = train_test_split(\n",
    "        X_train_val, y_train_val, test_size=val_adjusted,\n",
    "        stratify=strat_train_val,\n",
    "        random_state=random_state, shuffle=shuffle\n",
    "    )\n",
    "\n",
    "    return X_train, X_val, X_test, y_train, y_val, y_test\n",
    "\n",
    "X_train, X_val, X_test, y_train, y_val, y_test = split_df(\n",
    "    df, label_cols=['Sale_MF', 'Sale_CC', 'Sale_CL'], test_size=0.1, val_size=0.1, random_state=42\n",
    ")\n",
    "print(X_train.shape, X_test.shape, X_val.shape)\n",
    "X_train.head()"
   ]
  },
  {
   "cell_type": "code",
   "execution_count": 11,
   "id": "473f49d9",
   "metadata": {},
   "outputs": [
    {
     "data": {
      "text/html": [
       "<div>\n",
       "<style scoped>\n",
       "    .dataframe tbody tr th:only-of-type {\n",
       "        vertical-align: middle;\n",
       "    }\n",
       "\n",
       "    .dataframe tbody tr th {\n",
       "        vertical-align: top;\n",
       "    }\n",
       "\n",
       "    .dataframe thead th {\n",
       "        text-align: right;\n",
       "    }\n",
       "</style>\n",
       "<table border=\"1\" class=\"dataframe\">\n",
       "  <thead>\n",
       "    <tr style=\"text-align: right;\">\n",
       "      <th></th>\n",
       "      <th>ActBal_CA</th>\n",
       "      <th>ActBal_SA</th>\n",
       "      <th>ActBal_MF</th>\n",
       "      <th>ActBal_OVD</th>\n",
       "      <th>ActBal_CC</th>\n",
       "      <th>ActBal_CL</th>\n",
       "    </tr>\n",
       "  </thead>\n",
       "  <tbody>\n",
       "    <tr>\n",
       "      <th>194</th>\n",
       "      <td>0.002918</td>\n",
       "      <td>0.071552</td>\n",
       "      <td>0.000000</td>\n",
       "      <td>0.315210</td>\n",
       "      <td>0.004664</td>\n",
       "      <td>0.000000</td>\n",
       "    </tr>\n",
       "    <tr>\n",
       "      <th>120</th>\n",
       "      <td>0.000000</td>\n",
       "      <td>0.000000</td>\n",
       "      <td>0.000000</td>\n",
       "      <td>0.000000</td>\n",
       "      <td>0.004664</td>\n",
       "      <td>0.000000</td>\n",
       "    </tr>\n",
       "    <tr>\n",
       "      <th>859</th>\n",
       "      <td>0.005701</td>\n",
       "      <td>0.022042</td>\n",
       "      <td>0.000000</td>\n",
       "      <td>0.000000</td>\n",
       "      <td>0.004664</td>\n",
       "      <td>0.000000</td>\n",
       "    </tr>\n",
       "    <tr>\n",
       "      <th>705</th>\n",
       "      <td>0.077216</td>\n",
       "      <td>0.000000</td>\n",
       "      <td>0.010122</td>\n",
       "      <td>0.000000</td>\n",
       "      <td>0.004664</td>\n",
       "      <td>0.000000</td>\n",
       "    </tr>\n",
       "    <tr>\n",
       "      <th>762</th>\n",
       "      <td>0.118556</td>\n",
       "      <td>0.000000</td>\n",
       "      <td>0.000000</td>\n",
       "      <td>0.000000</td>\n",
       "      <td>0.004664</td>\n",
       "      <td>0.000000</td>\n",
       "    </tr>\n",
       "    <tr>\n",
       "      <th>...</th>\n",
       "      <td>...</td>\n",
       "      <td>...</td>\n",
       "      <td>...</td>\n",
       "      <td>...</td>\n",
       "      <td>...</td>\n",
       "      <td>...</td>\n",
       "    </tr>\n",
       "    <tr>\n",
       "      <th>827</th>\n",
       "      <td>0.000516</td>\n",
       "      <td>0.000000</td>\n",
       "      <td>0.000000</td>\n",
       "      <td>0.000000</td>\n",
       "      <td>0.004664</td>\n",
       "      <td>0.000000</td>\n",
       "    </tr>\n",
       "    <tr>\n",
       "      <th>799</th>\n",
       "      <td>0.122318</td>\n",
       "      <td>0.000000</td>\n",
       "      <td>0.000000</td>\n",
       "      <td>0.420828</td>\n",
       "      <td>0.004664</td>\n",
       "      <td>0.000000</td>\n",
       "    </tr>\n",
       "    <tr>\n",
       "      <th>589</th>\n",
       "      <td>0.003368</td>\n",
       "      <td>0.000000</td>\n",
       "      <td>0.000000</td>\n",
       "      <td>0.000000</td>\n",
       "      <td>0.004664</td>\n",
       "      <td>0.016971</td>\n",
       "    </tr>\n",
       "    <tr>\n",
       "      <th>222</th>\n",
       "      <td>0.424263</td>\n",
       "      <td>0.032371</td>\n",
       "      <td>0.000000</td>\n",
       "      <td>0.000000</td>\n",
       "      <td>0.004664</td>\n",
       "      <td>0.000000</td>\n",
       "    </tr>\n",
       "    <tr>\n",
       "      <th>842</th>\n",
       "      <td>0.003169</td>\n",
       "      <td>0.000000</td>\n",
       "      <td>0.000000</td>\n",
       "      <td>0.000000</td>\n",
       "      <td>0.004664</td>\n",
       "      <td>0.412870</td>\n",
       "    </tr>\n",
       "  </tbody>\n",
       "</table>\n",
       "<p>745 rows × 6 columns</p>\n",
       "</div>"
      ],
      "text/plain": [
       "     ActBal_CA  ActBal_SA  ActBal_MF  ActBal_OVD  ActBal_CC  ActBal_CL\n",
       "194   0.002918   0.071552   0.000000    0.315210   0.004664   0.000000\n",
       "120   0.000000   0.000000   0.000000    0.000000   0.004664   0.000000\n",
       "859   0.005701   0.022042   0.000000    0.000000   0.004664   0.000000\n",
       "705   0.077216   0.000000   0.010122    0.000000   0.004664   0.000000\n",
       "762   0.118556   0.000000   0.000000    0.000000   0.004664   0.000000\n",
       "..         ...        ...        ...         ...        ...        ...\n",
       "827   0.000516   0.000000   0.000000    0.000000   0.004664   0.000000\n",
       "799   0.122318   0.000000   0.000000    0.420828   0.004664   0.000000\n",
       "589   0.003368   0.000000   0.000000    0.000000   0.004664   0.016971\n",
       "222   0.424263   0.032371   0.000000    0.000000   0.004664   0.000000\n",
       "842   0.003169   0.000000   0.000000    0.000000   0.004664   0.412870\n",
       "\n",
       "[745 rows x 6 columns]"
      ]
     },
     "execution_count": 11,
     "metadata": {},
     "output_type": "execute_result"
    }
   ],
   "source": [
    "from sklearn.preprocessing import MinMaxScaler\n",
    "\n",
    "col_trans = [col for col in X_train.columns if col.startswith('Act')]\n",
    "\n",
    "scaler = MinMaxScaler()\n",
    "\n",
    "# Fit scaler on X_train only \n",
    "scaler.fit(X_train[col_trans])\n",
    "\n",
    "# Transform all sets with the fitted scaler\n",
    "X_train[col_trans] = scaler.transform(X_train[col_trans])\n",
    "X_test[col_trans] = scaler.transform(X_test[col_trans])\n",
    "X_val[col_trans] = scaler.transform(X_val[col_trans])\n",
    "X_train[col_trans]"
   ]
  },
  {
   "cell_type": "markdown",
   "id": "14c4bdd9",
   "metadata": {},
   "source": [
    "# Modelling and Analysis"
   ]
  },
  {
   "cell_type": "code",
   "execution_count": 12,
   "id": "ea8ccd0b",
   "metadata": {},
   "outputs": [],
   "source": [
    "import numpy as np\n",
    "import pandas as pd\n",
    "import yaml\n",
    "from typing import List, Optional, Dict, Any, Union\n",
    "from pydantic import BaseModel, Field\n",
    "from sklearn.ensemble import RandomForestClassifier\n",
    "from xgboost import XGBClassifier\n",
    "from sklearn.metrics import (\n",
    "    f1_score, precision_score, recall_score, roc_auc_score, roc_curve\n",
    ")\n",
    "from sklearn.model_selection import GridSearchCV\n",
    "import wandb\n",
    "import warnings\n",
    "import os\n",
    "import joblib\n",
    "import itertools\n",
    "import matplotlib.pyplot as plt\n",
    "\n",
    "warnings.filterwarnings(\"ignore\")\n",
    "\n",
    "class ModelHyperparams(BaseModel):\n",
    "    random_forest: dict = Field(default_factory=dict)\n",
    "    xgboost: dict = Field(default_factory=dict)\n",
    "\n",
    "\n",
    "class WandbConfig(BaseModel):\n",
    "    project_name: str\n",
    "    run_name: str = None\n",
    "    hyperparameters: ModelHyperparams\n",
    "\n",
    "\n",
    "def load_wandb_config(yaml_path: str) -> WandbConfig:\n",
    "    with open(yaml_path, \"r\") as f:\n",
    "        cfg = yaml.safe_load(f)\n",
    "    return WandbConfig.parse_obj(cfg)\n",
    "\n",
    "\n",
    "class ClassifierTrainer:\n",
    "    def __init__(\n",
    "        self,\n",
    "        model_name: str,\n",
    "        config: ModelHyperparams,\n",
    "        feature_cols: List[str],\n",
    "        label_col: str,\n",
    "        wandb_config: WandbConfig,\n",
    "    ):\n",
    "        self.model_name = model_name\n",
    "        self.config = config\n",
    "        self.feature_cols = feature_cols\n",
    "        self.label_col = label_col\n",
    "        self.best_threshold = 0.5\n",
    "        self.model = self._init_model()\n",
    "\n",
    "        self.wandb_run = wandb.init(\n",
    "            project=wandb_config.project_name,\n",
    "            name=wandb_config.run_name,\n",
    "            config=config.dict(),\n",
    "        )\n",
    "        wandb.config.update({\"model_name\": model_name})\n",
    "\n",
    "    def _init_model(self):\n",
    "        if self.model_name == \"random_forest\":\n",
    "            return RandomForestClassifier(random_state=42)\n",
    "        elif self.model_name == \"xgboost\":\n",
    "            return XGBClassifier(\n",
    "                use_label_encoder=False,\n",
    "                eval_metric=\"logloss\",\n",
    "                random_state=42,\n",
    "                n_estimators=80,\n",
    "                learning_rate=0.001,\n",
    "            )\n",
    "        else:\n",
    "            raise ValueError(f\"Unsupported model_name: {self.model_name}\")\n",
    "    def tune_hyperparameters(\n",
    "        self,\n",
    "        X_train: pd.DataFrame,\n",
    "        y_train: Union[pd.Series, np.ndarray],\n",
    "        X_val: pd.DataFrame,\n",
    "        y_val: Union[pd.Series, np.ndarray],\n",
    "    ):\n",
    "        X_train_filtered = X_train[self.feature_cols]\n",
    "        X_val_filtered = X_val[self.feature_cols]\n",
    "        y_train = y_train[self.label_col]\n",
    "        y_val = y_val[self.label_col]\n",
    "\n",
    "        param_grid = getattr(self.config, self.model_name, {})\n",
    "        if not param_grid:\n",
    "            raise ValueError(f\"No hyperparameter grid provided for {self.model_name}.\")\n",
    "\n",
    "        best_f1 = -1\n",
    "        best_params = None\n",
    "        best_model = None\n",
    "        best_threshold = 0.5\n",
    "\n",
    "        keys, values = zip(*param_grid.items())\n",
    "        for v in itertools.product(*values):\n",
    "            params = dict(zip(keys, v))\n",
    "            model = self.model.__class__(**params)\n",
    "            model.fit(X_train_filtered, y_train)\n",
    "\n",
    "            val_probs = model.predict_proba(X_val_filtered)[:, 1]\n",
    "            threshold = self._tune_threshold(np.array(y_val), val_probs)\n",
    "            val_preds = (val_probs >= threshold).astype(int)\n",
    "\n",
    "            f1 = f1_score(y_val, val_preds)\n",
    "            if f1 > best_f1:\n",
    "                best_f1 = f1\n",
    "                best_params = params\n",
    "                best_model = model\n",
    "                best_threshold = threshold\n",
    "\n",
    "        # Save best model and threshold\n",
    "        self.model = best_model\n",
    "        self.best_threshold = best_threshold\n",
    "\n",
    "        print(f\"\\nBest hyperparameters for {self.model_name}: {best_params}\")\n",
    "        print(f\"Best threshold tuned on validation set: {best_threshold:.3f}\")\n",
    "        print(f\"Best validation F1: {best_f1:.4f}\\n\")\n",
    "\n",
    "        # Evaluate best model on train and val set\n",
    "        train_probs = best_model.predict_proba(X_train_filtered)[:, 1]\n",
    "        val_probs = best_model.predict_proba(X_val_filtered)[:, 1]\n",
    "\n",
    "        train_preds = (train_probs >= best_threshold).astype(int)\n",
    "        val_preds = (val_probs >= best_threshold).astype(int)\n",
    "\n",
    "        train_f1 = f1_score(y_train, train_preds)\n",
    "        val_f1 = f1_score(y_val, val_preds)\n",
    "\n",
    "        train_precision = precision_score(y_train, train_preds)\n",
    "        val_precision = precision_score(y_val, val_preds)\n",
    "\n",
    "        train_recall = recall_score(y_train, train_preds)\n",
    "        val_recall = recall_score(y_val, val_preds)\n",
    "\n",
    "        train_auc = roc_auc_score(y_train, train_probs)\n",
    "        val_auc = roc_auc_score(y_val, val_probs)\n",
    "\n",
    "        print(\"Metrics using Best Model BEFORE Retraining:\")\n",
    "        print(f\"Train F1: {train_f1:.4f} | Precision: {train_precision:.4f} | Recall: {train_recall:.4f} | ROC AUC: {train_auc:.4f}\")\n",
    "        print(f\"Val   F1: {val_f1:.4f} | Precision: {val_precision:.4f} | Recall: {val_recall:.4f} | ROC AUC: {val_auc:.4f}\\n\")\n",
    "\n",
    "        wandb.log({\n",
    "            \"best_hyperparameters\": best_params,\n",
    "            \"best_threshold\": best_threshold,\n",
    "            \"train_f1\": train_f1,\n",
    "            \"train_precision\": train_precision,\n",
    "            \"train_recall\": train_recall,\n",
    "            \"train_auc\": train_auc,\n",
    "            \"val_f1\": val_f1,\n",
    "            \"val_precision\": val_precision,\n",
    "            \"val_recall\": val_recall,\n",
    "            \"val_auc\": val_auc,\n",
    "        })\n",
    "\n",
    "        # Retrain on combined train + val set with best params\n",
    "        X_combined = pd.concat([X_train_filtered, X_val_filtered], axis=0)\n",
    "        y_combined = pd.concat([y_train, y_val], axis=0)\n",
    "\n",
    "        final_model = self.model.__class__(**best_params)\n",
    "        final_model.fit(X_combined, y_combined)\n",
    "        self.model = final_model  # Update final model\n",
    "\n",
    "    def _tune_threshold(self, y_true: np.ndarray, y_probs: np.ndarray) -> float:\n",
    "        thresholds = np.linspace(0.1, 0.9, 81)\n",
    "        f1_scores = [(f1_score(y_true, (y_probs >= t).astype(int))) for t in thresholds]\n",
    "        return thresholds[np.argmax(f1_scores)]\n",
    "\n",
    "    def evaluate(\n",
    "        self,\n",
    "        X_test: pd.DataFrame,\n",
    "        y_test: Union[pd.Series, np.ndarray],\n",
    "    ) -> dict:\n",
    "        \n",
    "        X_test_filtered = X_test[self.feature_cols]\n",
    "        y_test = y_test[self.label_col]\n",
    "        \n",
    "        probs = self.model.predict_proba(X_test_filtered)[:, 1]\n",
    "        preds = (probs >= self.best_threshold).astype(int)\n",
    "\n",
    "        # Original threshold-based metrics\n",
    "        metrics = {\n",
    "            \"f1\": f1_score(y_test, preds),\n",
    "            \"precision\": precision_score(y_test, preds, zero_division=0),\n",
    "            \"recall\": recall_score(y_test, preds),\n",
    "            \"auc\": roc_auc_score(y_test, probs),\n",
    "            \"threshold\": self.best_threshold,\n",
    "        }\n",
    "\n",
    "        # Top 15% targeting logic\n",
    "        top_k_percent = 0.15\n",
    "        n_top = int(len(probs) * top_k_percent)\n",
    "        sorted_indices = probs.argsort()[::-1]\n",
    "\n",
    "        top_indices = sorted_indices[:n_top]\n",
    "        top_y = y_test.iloc[top_indices].values\n",
    "\n",
    "        positives_in_top = top_y.sum()\n",
    "        total_positives = y_test.sum()\n",
    "\n",
    "        top15_precision = positives_in_top / n_top if n_top > 0 else 0\n",
    "        top15_recall = positives_in_top / total_positives if total_positives > 0 else 0\n",
    "        baseline_positive_rate = total_positives / len(y_test) if len(y_test) > 0 else 0\n",
    "        lift = (top15_precision / baseline_positive_rate) if baseline_positive_rate > 0 else 0\n",
    "\n",
    "        metrics.update({\n",
    "            \"top15_precision\": top15_precision,\n",
    "            \"top15_recall\": top15_recall,\n",
    "            \"top15_lift\": lift,\n",
    "        })\n",
    "\n",
    "        # ROC Curve plotting\n",
    "        fpr, tpr, thresholds = roc_curve(y_test, probs)\n",
    "        auc_score = metrics[\"auc\"]\n",
    "\n",
    "        plt.figure(figsize=(6, 6))\n",
    "        plt.plot(fpr, tpr, label=f'ROC Curve (AUC = {auc_score:.4f})')\n",
    "        plt.plot([0, 1], [0, 1], linestyle='--', color='gray')\n",
    "        plt.xlabel('False Positive Rate')\n",
    "        plt.ylabel('True Positive Rate')\n",
    "        plt.title('ROC Curve')\n",
    "        plt.legend()\n",
    "        plt.grid()\n",
    "\n",
    "        # Save plot to file if needed\n",
    "        plt.savefig(\"roc_curve.png\", bbox_inches=\"tight\")\n",
    "        plt.show()\n",
    "\n",
    "        # Optionally log to wandb\n",
    "        wandb.log({\"roc_curve\": wandb.Image(\"roc_curve.png\")})\n",
    "        wandb.log(metrics)\n",
    "\n",
    "        print(\"\\nEvaluation Metrics:\")\n",
    "        for k, v in metrics.items():\n",
    "            print(f\"{k}: {v:.4f}\" if isinstance(v, float) else f\"{k}: {v}\")\n",
    "\n",
    "        return metrics\n",
    "    def predict(\n",
    "        self,\n",
    "        X: pd.DataFrame,\n",
    "    ) -> (np.ndarray, np.ndarray):\n",
    "        X_filtered = X[self.feature_cols]\n",
    "        probs = self.model.predict_proba(X_filtered)[:, 1]\n",
    "        preds = (probs >= self.best_threshold).astype(int)\n",
    "        return preds, probs\n",
    "    \n",
    "    def save_model(self, output_folder: str):\n",
    "        os.makedirs(output_folder, exist_ok=True)\n",
    "        \n",
    "        model_path = os.path.join(output_folder, f\"{self.model_name}_model.joblib\")\n",
    "        threshold_path = os.path.join(output_folder, f\"{self.model_name}_threshold.txt\")\n",
    "        \n",
    "        # Save the model\n",
    "        joblib.dump(self.model, model_path)\n",
    "        \n",
    "        # Save the threshold as a text file\n",
    "        with open(threshold_path, \"w\") as f:\n",
    "            f.write(str(self.best_threshold))\n",
    "        \n",
    "        print(f\"Model saved to {model_path}\")\n",
    "        print(f\"Threshold saved to {threshold_path}\")\n",
    "\n",
    "    def close(self):\n",
    "        wandb.finish()"
   ]
  },
  {
   "cell_type": "code",
   "execution_count": 13,
   "id": "84bf3c1f",
   "metadata": {},
   "outputs": [],
   "source": [
    "def analyze_feature_importance(\n",
    "    model,\n",
    "    X_test: Union[pd.DataFrame, np.ndarray],\n",
    "    feature_names: Optional[List[str]] = None,\n",
    "    top_n: Optional[int] = None,\n",
    "    plot: bool = True,\n",
    ") -> pd.DataFrame:\n",
    "    \"\"\"\n",
    "    Analyze and rank feature importance for Random Forest or XGBoost.\n",
    "\n",
    "    Parameters:\n",
    "    - model: Trained model (RandomForestClassifier or XGBClassifier)\n",
    "    - X_test: Test dataset features (DataFrame or array)\n",
    "    - feature_names: Optional list of feature names (if X_test is array)\n",
    "    - top_n: Show top N most relevant features (None = show all)\n",
    "    - plot: Whether to show bar plot of feature importance\n",
    "\n",
    "    Returns:\n",
    "    - Pandas DataFrame with columns: [\"feature\", \"importance\"], sorted descending\n",
    "    \"\"\"\n",
    "\n",
    "    import matplotlib.pyplot as plt\n",
    "    import seaborn as sns\n",
    "    X_test = X_test[feature_names]\n",
    "    if feature_names is None:\n",
    "        if isinstance(X_test, pd.DataFrame):\n",
    "            feature_names = X_test.columns.tolist()\n",
    "        else:\n",
    "            raise ValueError(\"Provide feature_names if X_test is not a DataFrame\")\n",
    "\n",
    "    # Get importance scores\n",
    "    if hasattr(model, \"feature_importances_\"):\n",
    "        importance = model.feature_importances_\n",
    "    elif hasattr(model, \"get_booster\"):\n",
    "        importance_dict = model.get_booster().get_score(importance_type=\"gain\")\n",
    "        importance = np.array(\n",
    "            [importance_dict.get(f\"f{i}\", 0.0) for i in range(len(feature_names))]\n",
    "        )\n",
    "    else:\n",
    "        raise ValueError(\"Model does not provide feature importance\")\n",
    "\n",
    "    importance_df = (\n",
    "        pd.DataFrame({\"feature\": feature_names, \"importance\": importance})\n",
    "        .sort_values(by=\"importance\", ascending=False)\n",
    "        .reset_index(drop=True)\n",
    "    )\n",
    "\n",
    "    if top_n:\n",
    "        importance_df = importance_df.head(top_n)\n",
    "\n",
    "    if plot:\n",
    "        plt.figure(figsize=(10, max(4, 0.4 * len(importance_df))))\n",
    "        sns.barplot(x=\"importance\", y=\"feature\", data=importance_df, palette=\"viridis\")\n",
    "        plt.title(\"Feature Importance (Most to Least Relevant)\")\n",
    "        plt.show()\n",
    "\n",
    "    return importance_df"
   ]
  },
  {
   "cell_type": "code",
   "execution_count": 14,
   "id": "ed3d95b3",
   "metadata": {},
   "outputs": [],
   "source": [
    "from typing import List, Optional\n",
    "from pydantic import BaseModel, Field\n",
    "import numpy as np\n",
    "import pandas as pd\n",
    "from sklearn.decomposition import PCA\n",
    "import joblib\n",
    "import os\n",
    "\n",
    "class PCATransformer(BaseModel):\n",
    "    cat_columns: List[str] = Field(default_factory=list)\n",
    "    variance_threshold: float = 0.99995\n",
    "    pca: Optional[PCA] = None\n",
    "    non_cat_columns_: Optional[List[str]] = None\n",
    "\n",
    "    model_config = {\"arbitrary_types_allowed\": True}\n",
    "\n",
    "    def fit(self, df: pd.DataFrame):\n",
    "        # Identify numeric columns to apply PCA\n",
    "        self.non_cat_columns_ = [col for col in df.columns if col not in self.cat_columns]\n",
    "        numeric_data = df[self.non_cat_columns_].select_dtypes(include=[np.number])\n",
    "\n",
    "        # Fit PCA with enough components to explain variance_threshold\n",
    "        pca_full = PCA(n_components=min(len(numeric_data.columns), len(numeric_data)))\n",
    "        pca_full.fit(numeric_data)\n",
    "        \n",
    "        # Find the number of components needed for variance_threshold\n",
    "        cumulative_variance = np.cumsum(pca_full.explained_variance_ratio_)\n",
    "        n_components = np.searchsorted(cumulative_variance, self.variance_threshold) + 1\n",
    "\n",
    "        # Fit PCA again with n_components\n",
    "        self.pca = PCA(n_components=n_components)\n",
    "        self.pca.fit(numeric_data)\n",
    "        return self\n",
    "\n",
    "    def transform(self, df: pd.DataFrame) -> pd.DataFrame:\n",
    "        if self.pca is None or self.non_cat_columns_ is None:\n",
    "            raise RuntimeError(\"PCATransformer must be fitted before calling transform.\")\n",
    "\n",
    "        # Separate cat and numeric columns\n",
    "        cat_df = df[self.cat_columns].copy()\n",
    "        numeric_df = df[self.non_cat_columns_].select_dtypes(include=[np.number]).copy()\n",
    "\n",
    "        # Transform numeric features using PCA\n",
    "        pca_components = self.pca.transform(numeric_df)\n",
    "\n",
    "        # Create dataframe for PCA components with names PC1, PC2, ...\n",
    "        pca_cols = [f\"PC{i+1}\" for i in range(pca_components.shape[1])]\n",
    "        pca_df = pd.DataFrame(pca_components, columns=pca_cols, index=df.index)\n",
    "\n",
    "        # Concatenate categorical columns untouched with PCA components\n",
    "        transformed_df = pd.concat([cat_df, pca_df], axis=1)\n",
    "        return transformed_df\n",
    "\n",
    "    def fit_transform(self, df: pd.DataFrame) -> pd.DataFrame:\n",
    "        self.fit(df)\n",
    "        return self.transform(df)\n",
    "\n",
    "    def save(self, path: str):\n",
    "        os.makedirs(path, exist_ok=True)\n",
    "        joblib.dump(self.pca, os.path.join(path, \"pca.joblib\"))\n",
    "        joblib.dump(self.cat_columns, os.path.join(path, \"cat_columns.joblib\"))\n",
    "        joblib.dump(self.non_cat_columns_, os.path.join(path, \"non_cat_columns.joblib\"))\n",
    "\n",
    "    def load(self, path: str):\n",
    "        self.pca = joblib.load(os.path.join(path, \"pca.joblib\"))\n",
    "        self.cat_columns = joblib.load(os.path.join(path, \"cat_columns.joblib\"))\n",
    "        self.non_cat_columns_ = joblib.load(os.path.join(path, \"non_cat_columns.joblib\"))\n",
    "        return self"
   ]
  },
  {
   "cell_type": "code",
   "execution_count": 15,
   "id": "2f958612",
   "metadata": {},
   "outputs": [
    {
     "name": "stderr",
     "output_type": "stream",
     "text": [
      "\u001b[34m\u001b[1mwandb\u001b[0m: \u001b[32m\u001b[41mERROR\u001b[0m Failed to detect the name of this notebook. You can set it manually with the WANDB_NOTEBOOK_NAME environment variable to enable code saving.\n",
      "\u001b[34m\u001b[1mwandb\u001b[0m: \u001b[33mWARNING\u001b[0m If you're specifying your api key in code, ensure this code is not shared publicly.\n",
      "\u001b[34m\u001b[1mwandb\u001b[0m: \u001b[33mWARNING\u001b[0m Consider setting the WANDB_API_KEY environment variable, or running `wandb login` from the command line.\n",
      "\u001b[34m\u001b[1mwandb\u001b[0m: Appending key for api.wandb.ai to your netrc file: C:\\Users\\Ng Wei Xuan\\_netrc\n",
      "\u001b[34m\u001b[1mwandb\u001b[0m: Currently logged in as: \u001b[33mweixuan\u001b[0m to \u001b[32mhttps://api.wandb.ai\u001b[0m. Use \u001b[1m`wandb login --relogin`\u001b[0m to force relogin\n"
     ]
    }
   ],
   "source": [
    "import os\n",
    "from dotenv import load_dotenv\n",
    "import wandb\n",
    "\n",
    "# Load .env variables\n",
    "load_dotenv()\n",
    "\n",
    "# Login to Weights & Biases\n",
    "wandb_api_key = os.getenv(\"WANDB_API_KEY\")\n",
    "if wandb_api_key:\n",
    "    wandb.login(key=wandb_api_key)\n",
    "else:\n",
    "    raise EnvironmentError(\"WANDB_API_KEY not found in .env file\")"
   ]
  },
  {
   "cell_type": "markdown",
   "id": "15a18d83",
   "metadata": {},
   "source": [
    "## Sale_MF"
   ]
  },
  {
   "cell_type": "code",
   "execution_count": 16,
   "id": "75543fae",
   "metadata": {},
   "outputs": [
    {
     "name": "stdout",
     "output_type": "stream",
     "text": [
      "Index(['Client', 'Revenue_MF', 'Revenue_CC', 'Revenue_CL', 'Count_CA',\n",
      "       'Count_SA', 'Count_MF', 'Count_OVD', 'Count_CC', 'Count_CL',\n",
      "       'ActBal_CA', 'ActBal_SA', 'ActBal_MF', 'ActBal_OVD', 'ActBal_CC',\n",
      "       'ActBal_CL', 'VolumeCred', 'VolumeCred_CA', 'TransactionsCred',\n",
      "       'TransactionsCred_CA', 'VolumeDeb', 'VolumeDeb_CA',\n",
      "       'VolumeDebCash_Card', 'VolumeDebCashless_Card',\n",
      "       'VolumeDeb_PaymentOrder', 'TransactionsDeb', 'TransactionsDeb_CA',\n",
      "       'TransactionsDebCash_Card', 'TransactionsDebCashless_Card',\n",
      "       'TransactionsDeb_PaymentOrder', 'Age', 'Tenure', 'Sex_M'],\n",
      "      dtype='object')\n"
     ]
    }
   ],
   "source": [
    "print(X_train.columns)\n",
    "feature_cols = ['ActBal_CA', 'ActBal_SA', 'ActBal_MF', 'ActBal_OVD', 'ActBal_CC',\n",
    "       'ActBal_CL', 'VolumeCred', 'VolumeCred_CA', 'TransactionsCred',\n",
    "       'TransactionsCred_CA', 'VolumeDeb', 'VolumeDeb_CA',\n",
    "       'VolumeDebCash_Card', 'VolumeDebCashless_Card',\n",
    "       'VolumeDeb_PaymentOrder', 'TransactionsDeb', 'TransactionsDeb_CA',\n",
    "       'TransactionsDebCash_Card', 'TransactionsDebCashless_Card',\n",
    "       'TransactionsDeb_PaymentOrder', 'Age', 'Tenure', 'Sex_M']  \n",
    "\n",
    "# X_train_filtered = X_train[feature_cols]\n",
    "# X_test_filtered = X_test[feature_cols]\n",
    "# X_val_filtered = X_val[feature_cols]\n",
    "\n",
    "# y_train_MF, y_test_MF, y_val_MF = y_train[\"Sale_MF\"], y_test[\"Sale_MF\"], y_val[\"Sale_MF\"]\n",
    "# y_train_CC, y_test_CC, y_val_CC = y_train[\"Sale_CC\"], y_test[\"Sale_CC\"], y_val[\"Sale_CC\"]\n",
    "# y_train_CL, y_test_CL, y_val_CL = y_train[\"Sale_CL\"], y_test[\"Sale_CL\"], y_val[\"Sale_CL\"]  "
   ]
  },
  {
   "cell_type": "code",
   "execution_count": 17,
   "id": "74e92c3b",
   "metadata": {},
   "outputs": [],
   "source": [
    "wandb_cfg = load_wandb_config(\"../configs/config.yaml\")\n",
    "wandb_cfg.run_name = \"sale_mf_rf\""
   ]
  },
  {
   "cell_type": "code",
   "execution_count": 18,
   "id": "5b8965e5",
   "metadata": {},
   "outputs": [
    {
     "data": {
      "text/html": [
       "Tracking run with wandb version 0.21.0"
      ],
      "text/plain": [
       "<IPython.core.display.HTML object>"
      ]
     },
     "metadata": {},
     "output_type": "display_data"
    },
    {
     "data": {
      "text/html": [
       "Run data is saved locally in <code>c:\\Users\\Ng Wei Xuan\\Desktop\\Others\\Singlife\\propensity_prediction\\training\\notebooks\\wandb\\run-20250707_162321-lvcwlxzy</code>"
      ],
      "text/plain": [
       "<IPython.core.display.HTML object>"
      ]
     },
     "metadata": {},
     "output_type": "display_data"
    },
    {
     "data": {
      "text/html": [
       "Syncing run <strong><a href='https://wandb.ai/weixuan/classifcation/runs/lvcwlxzy' target=\"_blank\">sale_mf_rf</a></strong> to <a href='https://wandb.ai/weixuan/classifcation' target=\"_blank\">Weights & Biases</a> (<a href='https://wandb.me/developer-guide' target=\"_blank\">docs</a>)<br>"
      ],
      "text/plain": [
       "<IPython.core.display.HTML object>"
      ]
     },
     "metadata": {},
     "output_type": "display_data"
    },
    {
     "data": {
      "text/html": [
       " View project at <a href='https://wandb.ai/weixuan/classifcation' target=\"_blank\">https://wandb.ai/weixuan/classifcation</a>"
      ],
      "text/plain": [
       "<IPython.core.display.HTML object>"
      ]
     },
     "metadata": {},
     "output_type": "display_data"
    },
    {
     "data": {
      "text/html": [
       " View run at <a href='https://wandb.ai/weixuan/classifcation/runs/lvcwlxzy' target=\"_blank\">https://wandb.ai/weixuan/classifcation/runs/lvcwlxzy</a>"
      ],
      "text/plain": [
       "<IPython.core.display.HTML object>"
      ]
     },
     "metadata": {},
     "output_type": "display_data"
    },
    {
     "name": "stdout",
     "output_type": "stream",
     "text": [
      "\n",
      "Best hyperparameters for random_forest: {'max_depth': 3, 'min_samples_split': 5}\n",
      "Best threshold tuned on validation set: 0.200\n",
      "Best validation F1: 0.4681\n",
      "\n",
      "Metrics using Best Model BEFORE Retraining:\n",
      "Train F1: 0.4650 | Precision: 0.4294 | Recall: 0.5069 | ROC AUC: 0.7875\n",
      "Val   F1: 0.4681 | Precision: 0.3793 | Recall: 0.6111 | ROC AUC: 0.6842\n",
      "\n"
     ]
    },
    {
     "data": {
      "image/png": "[encoded data removed]",
      "text/plain": [
       "<Figure size 600x600 with 1 Axes>"
      ]
     },
     "metadata": {},
     "output_type": "display_data"
    },
    {
     "name": "stdout",
     "output_type": "stream",
     "text": [
      "\n",
      "Evaluation Metrics:\n",
      "f1: 0.2692\n",
      "precision: 0.2800\n",
      "recall: 0.2593\n",
      "auc: 0.5815\n",
      "threshold: 0.2000\n",
      "top15_precision: 0.2143\n",
      "top15_recall: 0.1111\n",
      "top15_lift: 0.7460\n",
      "Test Metrics: {'f1': 0.2692307692307692, 'precision': 0.28, 'recall': 0.25925925925925924, 'auc': 0.5815367606412383, 'threshold': 0.2, 'top15_precision': 0.21428571428571427, 'top15_recall': 0.1111111111111111, 'top15_lift': 0.7460317460317459}\n",
      "Model saved to model/sale_mf/rf/random_forest_model.joblib\n",
      "Threshold saved to model/sale_mf/rf/random_forest_threshold.txt\n"
     ]
    },
    {
     "data": {
      "image/png": "[encoded data removed]",
      "text/plain": [
       "<Figure size 1000x920 with 1 Axes>"
      ]
     },
     "metadata": {},
     "output_type": "display_data"
    },
    {
     "name": "stdout",
     "output_type": "stream",
     "text": [
      "                         feature  importance\n",
      "0   TransactionsDebCashless_Card    0.124646\n",
      "1                     VolumeCred    0.087640\n",
      "2                  VolumeCred_CA    0.081207\n",
      "3                TransactionsDeb    0.064209\n",
      "4               TransactionsCred    0.062438\n",
      "5                      ActBal_CA    0.061754\n",
      "6                      VolumeDeb    0.055179\n",
      "7                   VolumeDeb_CA    0.054258\n",
      "8             TransactionsDeb_CA    0.049227\n",
      "9            TransactionsCred_CA    0.045336\n",
      "10            VolumeDebCash_Card    0.043825\n",
      "11                           Age    0.043375\n",
      "12        VolumeDeb_PaymentOrder    0.041744\n",
      "13                        Tenure    0.036783\n",
      "14        VolumeDebCashless_Card    0.032798\n",
      "15                     ActBal_MF    0.025515\n",
      "16                     ActBal_CC    0.022675\n",
      "17  TransactionsDeb_PaymentOrder    0.020051\n",
      "18                     ActBal_SA    0.015595\n",
      "19      TransactionsDebCash_Card    0.014748\n",
      "20                         Sex_M    0.008136\n",
      "21                    ActBal_OVD    0.005312\n",
      "22                     ActBal_CL    0.003549\n"
     ]
    },
    {
     "data": {
      "text/html": [],
      "text/plain": [
       "<IPython.core.display.HTML object>"
      ]
     },
     "metadata": {},
     "output_type": "display_data"
    },
    {
     "data": {
      "text/html": [
       "<br>    <style><br>        .wandb-row {<br>            display: flex;<br>            flex-direction: row;<br>            flex-wrap: wrap;<br>            justify-content: flex-start;<br>            width: 100%;<br>        }<br>        .wandb-col {<br>            display: flex;<br>            flex-direction: column;<br>            flex-basis: 100%;<br>            flex: 1;<br>            padding: 10px;<br>        }<br>    </style><br><div class=\"wandb-row\"><div class=\"wandb-col\"><h3>Run history:</h3><br/><table class=\"wandb\"><tr><td>auc</td><td>▁</td></tr><tr><td>best_threshold</td><td>▁</td></tr><tr><td>f1</td><td>▁</td></tr><tr><td>precision</td><td>▁</td></tr><tr><td>recall</td><td>▁</td></tr><tr><td>threshold</td><td>▁</td></tr><tr><td>top15_lift</td><td>▁</td></tr><tr><td>top15_precision</td><td>▁</td></tr><tr><td>top15_recall</td><td>▁</td></tr><tr><td>train_auc</td><td>▁</td></tr><tr><td>train_f1</td><td>▁</td></tr><tr><td>train_precision</td><td>▁</td></tr><tr><td>train_recall</td><td>▁</td></tr><tr><td>val_auc</td><td>▁</td></tr><tr><td>val_f1</td><td>▁</td></tr><tr><td>val_precision</td><td>▁</td></tr><tr><td>val_recall</td><td>▁</td></tr></table><br/></div><div class=\"wandb-col\"><h3>Run summary:</h3><br/><table class=\"wandb\"><tr><td>auc</td><td>0.58154</td></tr><tr><td>best_threshold</td><td>0.2</td></tr><tr><td>f1</td><td>0.26923</td></tr><tr><td>precision</td><td>0.28</td></tr><tr><td>recall</td><td>0.25926</td></tr><tr><td>threshold</td><td>0.2</td></tr><tr><td>top15_lift</td><td>0.74603</td></tr><tr><td>top15_precision</td><td>0.21429</td></tr><tr><td>top15_recall</td><td>0.11111</td></tr><tr><td>train_auc</td><td>0.78753</td></tr><tr><td>train_f1</td><td>0.46497</td></tr><tr><td>train_precision</td><td>0.42941</td></tr><tr><td>train_recall</td><td>0.50694</td></tr><tr><td>val_auc</td><td>0.68421</td></tr><tr><td>val_f1</td><td>0.46809</td></tr><tr><td>val_precision</td><td>0.37931</td></tr><tr><td>val_recall</td><td>0.61111</td></tr></table><br/></div></div>"
      ],
      "text/plain": [
       "<IPython.core.display.HTML object>"
      ]
     },
     "metadata": {},
     "output_type": "display_data"
    },
    {
     "data": {
      "text/html": [
       " View run <strong style=\"color:#cdcd00\">sale_mf_rf</strong> at: <a href='https://wandb.ai/weixuan/classifcation/runs/lvcwlxzy' target=\"_blank\">https://wandb.ai/weixuan/classifcation/runs/lvcwlxzy</a><br> View project at: <a href='https://wandb.ai/weixuan/classifcation' target=\"_blank\">https://wandb.ai/weixuan/classifcation</a><br>Synced 5 W&B file(s), 1 media file(s), 0 artifact file(s) and 0 other file(s)"
      ],
      "text/plain": [
       "<IPython.core.display.HTML object>"
      ]
     },
     "metadata": {},
     "output_type": "display_data"
    },
    {
     "data": {
      "text/html": [
       "Find logs at: <code>.\\wandb\\run-20250707_162321-lvcwlxzy\\logs</code>"
      ],
      "text/plain": [
       "<IPython.core.display.HTML object>"
      ]
     },
     "metadata": {},
     "output_type": "display_data"
    }
   ],
   "source": [
    "# Initialize trainer\n",
    "trainer = ClassifierTrainer(\n",
    "    model_name=\"random_forest\",\n",
    "    config=wandb_cfg.hyperparameters,\n",
    "    feature_cols=feature_cols,\n",
    "    label_col = \"Sale_MF\",\n",
    "    wandb_config=wandb_cfg,\n",
    ")\n",
    "\n",
    "# Tune hyperparameters\n",
    "trainer.tune_hyperparameters(X_train, y_train, X_val, y_val)\n",
    "\n",
    "# Evaluate on test set\n",
    "metrics = trainer.evaluate(X_test, y_test)\n",
    "print(\"Test Metrics:\", metrics)\n",
    "\n",
    "trainer.save_model(\"model/sale_mf/rf/\")\n",
    "\n",
    "feature_importance = analyze_feature_importance(\n",
    "    trainer.model,\n",
    "    X_test,\n",
    "    feature_cols\n",
    ")\n",
    "print(feature_importance)\n",
    "\n",
    "# Close wandb run\n",
    "trainer.close()"
   ]
  },
  {
   "cell_type": "code",
   "execution_count": 19,
   "id": "9d9cc0fb",
   "metadata": {},
   "outputs": [
    {
     "data": {
      "text/html": [
       "Tracking run with wandb version 0.21.0"
      ],
      "text/plain": [
       "<IPython.core.display.HTML object>"
      ]
     },
     "metadata": {},
     "output_type": "display_data"
    },
    {
     "data": {
      "text/html": [
       "Run data is saved locally in <code>c:\\Users\\Ng Wei Xuan\\Desktop\\Others\\Singlife\\propensity_prediction\\training\\notebooks\\wandb\\run-20250707_162335-qrga8c04</code>"
      ],
      "text/plain": [
       "<IPython.core.display.HTML object>"
      ]
     },
     "metadata": {},
     "output_type": "display_data"
    },
    {
     "data": {
      "text/html": [
       "Syncing run <strong><a href='https://wandb.ai/weixuan/classifcation/runs/qrga8c04' target=\"_blank\">sale_mf_xgboost</a></strong> to <a href='https://wandb.ai/weixuan/classifcation' target=\"_blank\">Weights & Biases</a> (<a href='https://wandb.me/developer-guide' target=\"_blank\">docs</a>)<br>"
      ],
      "text/plain": [
       "<IPython.core.display.HTML object>"
      ]
     },
     "metadata": {},
     "output_type": "display_data"
    },
    {
     "data": {
      "text/html": [
       " View project at <a href='https://wandb.ai/weixuan/classifcation' target=\"_blank\">https://wandb.ai/weixuan/classifcation</a>"
      ],
      "text/plain": [
       "<IPython.core.display.HTML object>"
      ]
     },
     "metadata": {},
     "output_type": "display_data"
    },
    {
     "data": {
      "text/html": [
       " View run at <a href='https://wandb.ai/weixuan/classifcation/runs/qrga8c04' target=\"_blank\">https://wandb.ai/weixuan/classifcation/runs/qrga8c04</a>"
      ],
      "text/plain": [
       "<IPython.core.display.HTML object>"
      ]
     },
     "metadata": {},
     "output_type": "display_data"
    },
    {
     "name": "stdout",
     "output_type": "stream",
     "text": [
      "\n",
      "Best hyperparameters for xgboost: {'max_depth': 10, 'min_child_weight': 1}\n",
      "Best threshold tuned on validation set: 0.370\n",
      "Best validation F1: 0.4848\n",
      "\n",
      "Metrics using Best Model BEFORE Retraining:\n",
      "Train F1: 1.0000 | Precision: 1.0000 | Recall: 1.0000 | ROC AUC: 1.0000\n",
      "Val   F1: 0.4848 | Precision: 0.5333 | Recall: 0.4444 | ROC AUC: 0.6630\n",
      "\n"
     ]
    },
    {
     "data": {
      "image/png": "[encoded data removed]",
      "text/plain": [
       "<Figure size 600x600 with 1 Axes>"
      ]
     },
     "metadata": {},
     "output_type": "display_data"
    },
    {
     "name": "stdout",
     "output_type": "stream",
     "text": [
      "\n",
      "Evaluation Metrics:\n",
      "f1: 0.0500\n",
      "precision: 0.0769\n",
      "recall: 0.0370\n",
      "auc: 0.4953\n",
      "threshold: 0.3700\n",
      "top15_precision: 0.0714\n",
      "top15_recall: 0.0370\n",
      "top15_lift: 0.2487\n",
      "Test Metrics: {'f1': 0.05, 'precision': 0.07692307692307693, 'recall': 0.037037037037037035, 'auc': 0.49530127142067437, 'threshold': 0.37, 'top15_precision': 0.07142857142857142, 'top15_recall': 0.037037037037037035, 'top15_lift': 0.24867724867724864}\n",
      "Model saved to model/sale_mf/xgboost/xgboost_model.joblib\n",
      "Threshold saved to model/sale_mf/xgboost/xgboost_threshold.txt\n"
     ]
    },
    {
     "data": {
      "image/png": "[encoded data removed]",
      "text/plain": [
       "<Figure size 1000x920 with 1 Axes>"
      ]
     },
     "metadata": {},
     "output_type": "display_data"
    },
    {
     "name": "stdout",
     "output_type": "stream",
     "text": [
      "                         feature  importance\n",
      "0                      ActBal_CL    0.104669\n",
      "1                      ActBal_MF    0.064038\n",
      "2   TransactionsDebCashless_Card    0.059561\n",
      "3                   VolumeDeb_CA    0.058345\n",
      "4            TransactionsCred_CA    0.058006\n",
      "5               TransactionsCred    0.052274\n",
      "6                TransactionsDeb    0.050508\n",
      "7             TransactionsDeb_CA    0.043239\n",
      "8                      VolumeDeb    0.042920\n",
      "9             VolumeDebCash_Card    0.042006\n",
      "10        VolumeDebCashless_Card    0.041811\n",
      "11                 VolumeCred_CA    0.041221\n",
      "12  TransactionsDeb_PaymentOrder    0.039823\n",
      "13                         Sex_M    0.039097\n",
      "14                    VolumeCred    0.038449\n",
      "15                           Age    0.035647\n",
      "16        VolumeDeb_PaymentOrder    0.035624\n",
      "17                     ActBal_CA    0.033861\n",
      "18                     ActBal_SA    0.033661\n",
      "19                        Tenure    0.030348\n",
      "20                    ActBal_OVD    0.026395\n",
      "21      TransactionsDebCash_Card    0.021225\n",
      "22                     ActBal_CC    0.007272\n"
     ]
    },
    {
     "data": {
      "text/html": [],
      "text/plain": [
       "<IPython.core.display.HTML object>"
      ]
     },
     "metadata": {},
     "output_type": "display_data"
    },
    {
     "data": {
      "text/html": [
       "<br>    <style><br>        .wandb-row {<br>            display: flex;<br>            flex-direction: row;<br>            flex-wrap: wrap;<br>            justify-content: flex-start;<br>            width: 100%;<br>        }<br>        .wandb-col {<br>            display: flex;<br>            flex-direction: column;<br>            flex-basis: 100%;<br>            flex: 1;<br>            padding: 10px;<br>        }<br>    </style><br><div class=\"wandb-row\"><div class=\"wandb-col\"><h3>Run history:</h3><br/><table class=\"wandb\"><tr><td>auc</td><td>▁</td></tr><tr><td>best_threshold</td><td>▁</td></tr><tr><td>f1</td><td>▁</td></tr><tr><td>precision</td><td>▁</td></tr><tr><td>recall</td><td>▁</td></tr><tr><td>threshold</td><td>▁</td></tr><tr><td>top15_lift</td><td>▁</td></tr><tr><td>top15_precision</td><td>▁</td></tr><tr><td>top15_recall</td><td>▁</td></tr><tr><td>train_auc</td><td>▁</td></tr><tr><td>train_f1</td><td>▁</td></tr><tr><td>train_precision</td><td>▁</td></tr><tr><td>train_recall</td><td>▁</td></tr><tr><td>val_auc</td><td>▁</td></tr><tr><td>val_f1</td><td>▁</td></tr><tr><td>val_precision</td><td>▁</td></tr><tr><td>val_recall</td><td>▁</td></tr></table><br/></div><div class=\"wandb-col\"><h3>Run summary:</h3><br/><table class=\"wandb\"><tr><td>auc</td><td>0.4953</td></tr><tr><td>best_threshold</td><td>0.37</td></tr><tr><td>f1</td><td>0.05</td></tr><tr><td>precision</td><td>0.07692</td></tr><tr><td>recall</td><td>0.03704</td></tr><tr><td>threshold</td><td>0.37</td></tr><tr><td>top15_lift</td><td>0.24868</td></tr><tr><td>top15_precision</td><td>0.07143</td></tr><tr><td>top15_recall</td><td>0.03704</td></tr><tr><td>train_auc</td><td>1</td></tr><tr><td>train_f1</td><td>1</td></tr><tr><td>train_precision</td><td>1</td></tr><tr><td>train_recall</td><td>1</td></tr><tr><td>val_auc</td><td>0.66301</td></tr><tr><td>val_f1</td><td>0.48485</td></tr><tr><td>val_precision</td><td>0.53333</td></tr><tr><td>val_recall</td><td>0.44444</td></tr></table><br/></div></div>"
      ],
      "text/plain": [
       "<IPython.core.display.HTML object>"
      ]
     },
     "metadata": {},
     "output_type": "display_data"
    },
    {
     "data": {
      "text/html": [
       " View run <strong style=\"color:#cdcd00\">sale_mf_xgboost</strong> at: <a href='https://wandb.ai/weixuan/classifcation/runs/qrga8c04' target=\"_blank\">https://wandb.ai/weixuan/classifcation/runs/qrga8c04</a><br> View project at: <a href='https://wandb.ai/weixuan/classifcation' target=\"_blank\">https://wandb.ai/weixuan/classifcation</a><br>Synced 5 W&B file(s), 1 media file(s), 0 artifact file(s) and 0 other file(s)"
      ],
      "text/plain": [
       "<IPython.core.display.HTML object>"
      ]
     },
     "metadata": {},
     "output_type": "display_data"
    },
    {
     "data": {
      "text/html": [
       "Find logs at: <code>.\\wandb\\run-20250707_162335-qrga8c04\\logs</code>"
      ],
      "text/plain": [
       "<IPython.core.display.HTML object>"
      ]
     },
     "metadata": {},
     "output_type": "display_data"
    }
   ],
   "source": [
    "wandb_cfg = load_wandb_config(\"../configs/config.yaml\")\n",
    "wandb_cfg.run_name = \"sale_mf_xgboost\"\n",
    "\n",
    "# Initialize trainer\n",
    "trainer = ClassifierTrainer(\n",
    "    model_name=\"xgboost\",\n",
    "    config=wandb_cfg.hyperparameters,\n",
    "    feature_cols=feature_cols,\n",
    "    label_col = \"Sale_MF\",\n",
    "    wandb_config=wandb_cfg,\n",
    ")\n",
    "\n",
    "# Tune hyperparameters\n",
    "trainer.tune_hyperparameters(X_train, y_train, X_val, y_val)\n",
    "\n",
    "# Evaluate on test set\n",
    "metrics = trainer.evaluate(X_test, y_test)\n",
    "print(\"Test Metrics:\", metrics)\n",
    "\n",
    "trainer.save_model(\"model/sale_mf/xgboost/\")\n",
    "\n",
    "feature_importance = analyze_feature_importance(\n",
    "    trainer.model,\n",
    "    X_test,\n",
    "    feature_cols\n",
    ")\n",
    "print(feature_importance)\n",
    "\n",
    "# Close wandb run\n",
    "trainer.close()"
   ]
  },
  {
   "cell_type": "code",
   "execution_count": 20,
   "id": "1eddd306",
   "metadata": {},
   "outputs": [],
   "source": [
    "# Assume you know your categorical columns, e.g.:\n",
    "categorical_cols = [\"Sex_M\"]\n",
    "\n",
    "# Instantiate the transformer\n",
    "pca_transformer = PCATransformer(cat_columns=categorical_cols)\n",
    "\n",
    "# Fit PCA on training data and transform\n",
    "X_train_pca = pca_transformer.fit_transform(X_train[feature_cols])\n",
    "\n",
    "# Transform validation and test sets with the same transformer\n",
    "X_val_pca = pca_transformer.transform(X_val[feature_cols])\n",
    "X_test_pca = pca_transformer.transform(X_test[feature_cols])\n",
    "pca_transformer.save(\"model/pca/\")"
   ]
  },
  {
   "cell_type": "code",
   "execution_count": 21,
   "id": "f217520c",
   "metadata": {},
   "outputs": [
    {
     "data": {
      "text/html": [
       "Tracking run with wandb version 0.21.0"
      ],
      "text/plain": [
       "<IPython.core.display.HTML object>"
      ]
     },
     "metadata": {},
     "output_type": "display_data"
    },
    {
     "data": {
      "text/html": [
       "Run data is saved locally in <code>c:\\Users\\Ng Wei Xuan\\Desktop\\Others\\Singlife\\propensity_prediction\\training\\notebooks\\wandb\\run-20250707_162347-0nklbfbr</code>"
      ],
      "text/plain": [
       "<IPython.core.display.HTML object>"
      ]
     },
     "metadata": {},
     "output_type": "display_data"
    },
    {
     "data": {
      "text/html": [
       "Syncing run <strong><a href='https://wandb.ai/weixuan/classifcation/runs/0nklbfbr' target=\"_blank\">sale_mf_rf_pca</a></strong> to <a href='https://wandb.ai/weixuan/classifcation' target=\"_blank\">Weights & Biases</a> (<a href='https://wandb.me/developer-guide' target=\"_blank\">docs</a>)<br>"
      ],
      "text/plain": [
       "<IPython.core.display.HTML object>"
      ]
     },
     "metadata": {},
     "output_type": "display_data"
    },
    {
     "data": {
      "text/html": [
       " View project at <a href='https://wandb.ai/weixuan/classifcation' target=\"_blank\">https://wandb.ai/weixuan/classifcation</a>"
      ],
      "text/plain": [
       "<IPython.core.display.HTML object>"
      ]
     },
     "metadata": {},
     "output_type": "display_data"
    },
    {
     "data": {
      "text/html": [
       " View run at <a href='https://wandb.ai/weixuan/classifcation/runs/0nklbfbr' target=\"_blank\">https://wandb.ai/weixuan/classifcation/runs/0nklbfbr</a>"
      ],
      "text/plain": [
       "<IPython.core.display.HTML object>"
      ]
     },
     "metadata": {},
     "output_type": "display_data"
    },
    {
     "name": "stdout",
     "output_type": "stream",
     "text": [
      "\n",
      "Best hyperparameters for random_forest: {'max_depth': 3, 'min_samples_split': 8}\n",
      "Best threshold tuned on validation set: 0.180\n",
      "Best validation F1: 0.3478\n",
      "\n",
      "Metrics using Best Model BEFORE Retraining:\n",
      "Train F1: 0.4649 | Precision: 0.3166 | Recall: 0.8750 | ROC AUC: 0.8259\n",
      "Val   F1: 0.3478 | Precision: 0.2353 | Recall: 0.6667 | ROC AUC: 0.5665\n",
      "\n"
     ]
    },
    {
     "data": {
      "image/png": "[encoded data removed]",
      "text/plain": [
       "<Figure size 600x600 with 1 Axes>"
      ]
     },
     "metadata": {},
     "output_type": "display_data"
    },
    {
     "name": "stdout",
     "output_type": "stream",
     "text": [
      "\n",
      "Evaluation Metrics:\n",
      "f1: 0.4500\n",
      "precision: 0.3396\n",
      "recall: 0.6667\n",
      "auc: 0.6158\n",
      "threshold: 0.1800\n",
      "top15_precision: 0.4286\n",
      "top15_recall: 0.2222\n",
      "top15_lift: 1.4921\n",
      "Test Metrics: {'f1': 0.45, 'precision': 0.33962264150943394, 'recall': 0.6666666666666666, 'auc': 0.6158098396904367, 'threshold': 0.18, 'top15_precision': 0.42857142857142855, 'top15_recall': 0.2222222222222222, 'top15_lift': 1.4920634920634919}\n",
      "Model saved to model/sale_mf/rf/random_forest_model.joblib\n",
      "Threshold saved to model/sale_mf/rf/random_forest_threshold.txt\n"
     ]
    },
    {
     "data": {
      "text/html": [],
      "text/plain": [
       "<IPython.core.display.HTML object>"
      ]
     },
     "metadata": {},
     "output_type": "display_data"
    },
    {
     "data": {
      "text/html": [
       "<br>    <style><br>        .wandb-row {<br>            display: flex;<br>            flex-direction: row;<br>            flex-wrap: wrap;<br>            justify-content: flex-start;<br>            width: 100%;<br>        }<br>        .wandb-col {<br>            display: flex;<br>            flex-direction: column;<br>            flex-basis: 100%;<br>            flex: 1;<br>            padding: 10px;<br>        }<br>    </style><br><div class=\"wandb-row\"><div class=\"wandb-col\"><h3>Run history:</h3><br/><table class=\"wandb\"><tr><td>auc</td><td>▁</td></tr><tr><td>best_threshold</td><td>▁</td></tr><tr><td>f1</td><td>▁</td></tr><tr><td>precision</td><td>▁</td></tr><tr><td>recall</td><td>▁</td></tr><tr><td>threshold</td><td>▁</td></tr><tr><td>top15_lift</td><td>▁</td></tr><tr><td>top15_precision</td><td>▁</td></tr><tr><td>top15_recall</td><td>▁</td></tr><tr><td>train_auc</td><td>▁</td></tr><tr><td>train_f1</td><td>▁</td></tr><tr><td>train_precision</td><td>▁</td></tr><tr><td>train_recall</td><td>▁</td></tr><tr><td>val_auc</td><td>▁</td></tr><tr><td>val_f1</td><td>▁</td></tr><tr><td>val_precision</td><td>▁</td></tr><tr><td>val_recall</td><td>▁</td></tr></table><br/></div><div class=\"wandb-col\"><h3>Run summary:</h3><br/><table class=\"wandb\"><tr><td>auc</td><td>0.61581</td></tr><tr><td>best_threshold</td><td>0.18</td></tr><tr><td>f1</td><td>0.45</td></tr><tr><td>precision</td><td>0.33962</td></tr><tr><td>recall</td><td>0.66667</td></tr><tr><td>threshold</td><td>0.18</td></tr><tr><td>top15_lift</td><td>1.49206</td></tr><tr><td>top15_precision</td><td>0.42857</td></tr><tr><td>top15_recall</td><td>0.22222</td></tr><tr><td>train_auc</td><td>0.82586</td></tr><tr><td>train_f1</td><td>0.46494</td></tr><tr><td>train_precision</td><td>0.31658</td></tr><tr><td>train_recall</td><td>0.875</td></tr><tr><td>val_auc</td><td>0.56652</td></tr><tr><td>val_f1</td><td>0.34783</td></tr><tr><td>val_precision</td><td>0.23529</td></tr><tr><td>val_recall</td><td>0.66667</td></tr></table><br/></div></div>"
      ],
      "text/plain": [
       "<IPython.core.display.HTML object>"
      ]
     },
     "metadata": {},
     "output_type": "display_data"
    },
    {
     "data": {
      "text/html": [
       " View run <strong style=\"color:#cdcd00\">sale_mf_rf_pca</strong> at: <a href='https://wandb.ai/weixuan/classifcation/runs/0nklbfbr' target=\"_blank\">https://wandb.ai/weixuan/classifcation/runs/0nklbfbr</a><br> View project at: <a href='https://wandb.ai/weixuan/classifcation' target=\"_blank\">https://wandb.ai/weixuan/classifcation</a><br>Synced 5 W&B file(s), 1 media file(s), 0 artifact file(s) and 0 other file(s)"
      ],
      "text/plain": [
       "<IPython.core.display.HTML object>"
      ]
     },
     "metadata": {},
     "output_type": "display_data"
    },
    {
     "data": {
      "text/html": [
       "Find logs at: <code>.\\wandb\\run-20250707_162347-0nklbfbr\\logs</code>"
      ],
      "text/plain": [
       "<IPython.core.display.HTML object>"
      ]
     },
     "metadata": {},
     "output_type": "display_data"
    }
   ],
   "source": [
    "wandb_cfg = load_wandb_config(\"../configs/config.yaml\")\n",
    "wandb_cfg.run_name = \"sale_mf_rf_pca\"\n",
    "\n",
    "# Initialize trainer\n",
    "trainer = ClassifierTrainer(\n",
    "    model_name=\"random_forest\",\n",
    "    config=wandb_cfg.hyperparameters,\n",
    "    feature_cols=X_train_pca.columns,\n",
    "    label_col = \"Sale_MF\",\n",
    "    wandb_config=wandb_cfg,\n",
    ")\n",
    "\n",
    "# Tune hyperparameters\n",
    "trainer.tune_hyperparameters(X_train_pca, y_train, X_val_pca, y_val)\n",
    "\n",
    "# Evaluate on test set\n",
    "metrics = trainer.evaluate(X_test_pca, y_test)\n",
    "print(\"Test Metrics:\", metrics)\n",
    "\n",
    "trainer.save_model(\"model/sale_mf/rf/\")\n",
    "\n",
    "\n",
    "# Close wandb run\n",
    "trainer.close()"
   ]
  },
  {
   "cell_type": "code",
   "execution_count": 22,
   "id": "3dda025c",
   "metadata": {},
   "outputs": [
    {
     "data": {
      "text/html": [
       "Tracking run with wandb version 0.21.0"
      ],
      "text/plain": [
       "<IPython.core.display.HTML object>"
      ]
     },
     "metadata": {},
     "output_type": "display_data"
    },
    {
     "data": {
      "text/html": [
       "Run data is saved locally in <code>c:\\Users\\Ng Wei Xuan\\Desktop\\Others\\Singlife\\propensity_prediction\\training\\notebooks\\wandb\\run-20250707_162353-1qqmd87w</code>"
      ],
      "text/plain": [
       "<IPython.core.display.HTML object>"
      ]
     },
     "metadata": {},
     "output_type": "display_data"
    },
    {
     "data": {
      "text/html": [
       "Syncing run <strong><a href='https://wandb.ai/weixuan/classifcation/runs/1qqmd87w' target=\"_blank\">sale_mf_xgboost_pca</a></strong> to <a href='https://wandb.ai/weixuan/classifcation' target=\"_blank\">Weights & Biases</a> (<a href='https://wandb.me/developer-guide' target=\"_blank\">docs</a>)<br>"
      ],
      "text/plain": [
       "<IPython.core.display.HTML object>"
      ]
     },
     "metadata": {},
     "output_type": "display_data"
    },
    {
     "data": {
      "text/html": [
       " View project at <a href='https://wandb.ai/weixuan/classifcation' target=\"_blank\">https://wandb.ai/weixuan/classifcation</a>"
      ],
      "text/plain": [
       "<IPython.core.display.HTML object>"
      ]
     },
     "metadata": {},
     "output_type": "display_data"
    },
    {
     "data": {
      "text/html": [
       " View run at <a href='https://wandb.ai/weixuan/classifcation/runs/1qqmd87w' target=\"_blank\">https://wandb.ai/weixuan/classifcation/runs/1qqmd87w</a>"
      ],
      "text/plain": [
       "<IPython.core.display.HTML object>"
      ]
     },
     "metadata": {},
     "output_type": "display_data"
    },
    {
     "name": "stdout",
     "output_type": "stream",
     "text": [
      "\n",
      "Best hyperparameters for xgboost: {'max_depth': 10, 'min_child_weight': 8}\n",
      "Best threshold tuned on validation set: 0.100\n",
      "Best validation F1: 0.3438\n",
      "\n",
      "Metrics using Best Model BEFORE Retraining:\n",
      "Train F1: 0.7310 | Precision: 0.5760 | Recall: 1.0000 | ROC AUC: 1.0000\n",
      "Val   F1: 0.3438 | Precision: 0.2391 | Recall: 0.6111 | ROC AUC: 0.4978\n",
      "\n"
     ]
    },
    {
     "data": {
      "image/png": "[encoded data removed]",
      "text/plain": [
       "<Figure size 600x600 with 1 Axes>"
      ]
     },
     "metadata": {},
     "output_type": "display_data"
    },
    {
     "name": "stdout",
     "output_type": "stream",
     "text": [
      "\n",
      "Evaluation Metrics:\n",
      "f1: 0.3750\n",
      "precision: 0.3243\n",
      "recall: 0.4444\n",
      "auc: 0.5550\n",
      "threshold: 0.1000\n",
      "top15_precision: 0.4286\n",
      "top15_recall: 0.2222\n",
      "top15_lift: 1.4921\n",
      "Test Metrics: {'f1': 0.375, 'precision': 0.32432432432432434, 'recall': 0.4444444444444444, 'auc': 0.5550027639579879, 'threshold': 0.1, 'top15_precision': 0.42857142857142855, 'top15_recall': 0.2222222222222222, 'top15_lift': 1.4920634920634919}\n",
      "Model saved to model/sale_mf/xgboost/xgboost_model.joblib\n",
      "Threshold saved to model/sale_mf/xgboost/xgboost_threshold.txt\n"
     ]
    },
    {
     "data": {
      "text/html": [],
      "text/plain": [
       "<IPython.core.display.HTML object>"
      ]
     },
     "metadata": {},
     "output_type": "display_data"
    },
    {
     "data": {
      "text/html": [
       "<br>    <style><br>        .wandb-row {<br>            display: flex;<br>            flex-direction: row;<br>            flex-wrap: wrap;<br>            justify-content: flex-start;<br>            width: 100%;<br>        }<br>        .wandb-col {<br>            display: flex;<br>            flex-direction: column;<br>            flex-basis: 100%;<br>            flex: 1;<br>            padding: 10px;<br>        }<br>    </style><br><div class=\"wandb-row\"><div class=\"wandb-col\"><h3>Run history:</h3><br/><table class=\"wandb\"><tr><td>auc</td><td>▁</td></tr><tr><td>best_threshold</td><td>▁</td></tr><tr><td>f1</td><td>▁</td></tr><tr><td>precision</td><td>▁</td></tr><tr><td>recall</td><td>▁</td></tr><tr><td>threshold</td><td>▁</td></tr><tr><td>top15_lift</td><td>▁</td></tr><tr><td>top15_precision</td><td>▁</td></tr><tr><td>top15_recall</td><td>▁</td></tr><tr><td>train_auc</td><td>▁</td></tr><tr><td>train_f1</td><td>▁</td></tr><tr><td>train_precision</td><td>▁</td></tr><tr><td>train_recall</td><td>▁</td></tr><tr><td>val_auc</td><td>▁</td></tr><tr><td>val_f1</td><td>▁</td></tr><tr><td>val_precision</td><td>▁</td></tr><tr><td>val_recall</td><td>▁</td></tr></table><br/></div><div class=\"wandb-col\"><h3>Run summary:</h3><br/><table class=\"wandb\"><tr><td>auc</td><td>0.555</td></tr><tr><td>best_threshold</td><td>0.1</td></tr><tr><td>f1</td><td>0.375</td></tr><tr><td>precision</td><td>0.32432</td></tr><tr><td>recall</td><td>0.44444</td></tr><tr><td>threshold</td><td>0.1</td></tr><tr><td>top15_lift</td><td>1.49206</td></tr><tr><td>top15_precision</td><td>0.42857</td></tr><tr><td>top15_recall</td><td>0.22222</td></tr><tr><td>train_auc</td><td>1</td></tr><tr><td>train_f1</td><td>0.73096</td></tr><tr><td>train_precision</td><td>0.576</td></tr><tr><td>train_recall</td><td>1</td></tr><tr><td>val_auc</td><td>0.49781</td></tr><tr><td>val_f1</td><td>0.34375</td></tr><tr><td>val_precision</td><td>0.23913</td></tr><tr><td>val_recall</td><td>0.61111</td></tr></table><br/></div></div>"
      ],
      "text/plain": [
       "<IPython.core.display.HTML object>"
      ]
     },
     "metadata": {},
     "output_type": "display_data"
    },
    {
     "data": {
      "text/html": [
       " View run <strong style=\"color:#cdcd00\">sale_mf_xgboost_pca</strong> at: <a href='https://wandb.ai/weixuan/classifcation/runs/1qqmd87w' target=\"_blank\">https://wandb.ai/weixuan/classifcation/runs/1qqmd87w</a><br> View project at: <a href='https://wandb.ai/weixuan/classifcation' target=\"_blank\">https://wandb.ai/weixuan/classifcation</a><br>Synced 5 W&B file(s), 1 media file(s), 0 artifact file(s) and 0 other file(s)"
      ],
      "text/plain": [
       "<IPython.core.display.HTML object>"
      ]
     },
     "metadata": {},
     "output_type": "display_data"
    },
    {
     "data": {
      "text/html": [
       "Find logs at: <code>.\\wandb\\run-20250707_162353-1qqmd87w\\logs</code>"
      ],
      "text/plain": [
       "<IPython.core.display.HTML object>"
      ]
     },
     "metadata": {},
     "output_type": "display_data"
    }
   ],
   "source": [
    "wandb_cfg = load_wandb_config(\"../configs/config.yaml\")\n",
    "wandb_cfg.run_name = \"sale_mf_xgboost_pca\"\n",
    "\n",
    "# Initialize trainer\n",
    "trainer = ClassifierTrainer(\n",
    "    model_name=\"xgboost\",\n",
    "    config=wandb_cfg.hyperparameters,\n",
    "    feature_cols=X_train_pca.columns,\n",
    "    label_col = \"Sale_MF\",\n",
    "    wandb_config=wandb_cfg,\n",
    ")\n",
    "\n",
    "# Tune hyperparameters\n",
    "trainer.tune_hyperparameters(X_train_pca, y_train, X_val_pca, y_val)\n",
    "\n",
    "# Evaluate on test set\n",
    "metrics = trainer.evaluate(X_test_pca, y_test)\n",
    "print(\"Test Metrics:\", metrics)\n",
    "\n",
    "trainer.save_model(\"model/sale_mf/xgboost/\")\n",
    "\n",
    "\n",
    "# Close wandb run\n",
    "trainer.close()"
   ]
  },
  {
   "cell_type": "markdown",
   "id": "3dd6bdc8",
   "metadata": {},
   "source": [
    "## Sale_CC"
   ]
  },
  {
   "cell_type": "code",
   "execution_count": 23,
   "id": "fa400e0b",
   "metadata": {},
   "outputs": [
    {
     "data": {
      "text/html": [
       "Tracking run with wandb version 0.21.0"
      ],
      "text/plain": [
       "<IPython.core.display.HTML object>"
      ]
     },
     "metadata": {},
     "output_type": "display_data"
    },
    {
     "data": {
      "text/html": [
       "Run data is saved locally in <code>c:\\Users\\Ng Wei Xuan\\Desktop\\Others\\Singlife\\propensity_prediction\\training\\notebooks\\wandb\\run-20250707_162400-ma37htm4</code>"
      ],
      "text/plain": [
       "<IPython.core.display.HTML object>"
      ]
     },
     "metadata": {},
     "output_type": "display_data"
    },
    {
     "data": {
      "text/html": [
       "Syncing run <strong><a href='https://wandb.ai/weixuan/classifcation/runs/ma37htm4' target=\"_blank\">sale_mf_cc_pca</a></strong> to <a href='https://wandb.ai/weixuan/classifcation' target=\"_blank\">Weights & Biases</a> (<a href='https://wandb.me/developer-guide' target=\"_blank\">docs</a>)<br>"
      ],
      "text/plain": [
       "<IPython.core.display.HTML object>"
      ]
     },
     "metadata": {},
     "output_type": "display_data"
    },
    {
     "data": {
      "text/html": [
       " View project at <a href='https://wandb.ai/weixuan/classifcation' target=\"_blank\">https://wandb.ai/weixuan/classifcation</a>"
      ],
      "text/plain": [
       "<IPython.core.display.HTML object>"
      ]
     },
     "metadata": {},
     "output_type": "display_data"
    },
    {
     "data": {
      "text/html": [
       " View run at <a href='https://wandb.ai/weixuan/classifcation/runs/ma37htm4' target=\"_blank\">https://wandb.ai/weixuan/classifcation/runs/ma37htm4</a>"
      ],
      "text/plain": [
       "<IPython.core.display.HTML object>"
      ]
     },
     "metadata": {},
     "output_type": "display_data"
    },
    {
     "name": "stdout",
     "output_type": "stream",
     "text": [
      "\n",
      "Best hyperparameters for random_forest: {'max_depth': 7, 'min_samples_split': 8}\n",
      "Best threshold tuned on validation set: 0.210\n",
      "Best validation F1: 0.4043\n",
      "\n",
      "Metrics using Best Model BEFORE Retraining:\n",
      "Train F1: 0.6211 | Precision: 0.4505 | Recall: 1.0000 | ROC AUC: 0.9701\n",
      "Val   F1: 0.4043 | Precision: 0.2676 | Recall: 0.8261 | ROC AUC: 0.5383\n",
      "\n"
     ]
    },
    {
     "data": {
      "image/png": "[encoded data removed]",
      "text/plain": [
       "<Figure size 600x600 with 1 Axes>"
      ]
     },
     "metadata": {},
     "output_type": "display_data"
    },
    {
     "name": "stdout",
     "output_type": "stream",
     "text": [
      "\n",
      "Evaluation Metrics:\n",
      "f1: 0.3488\n",
      "precision: 0.2273\n",
      "recall: 0.7500\n",
      "auc: 0.5642\n",
      "threshold: 0.2100\n",
      "top15_precision: 0.4286\n",
      "top15_recall: 0.3000\n",
      "top15_lift: 2.0143\n",
      "Test Metrics: {'f1': 0.3488372093023256, 'precision': 0.22727272727272727, 'recall': 0.75, 'auc': 0.5641891891891893, 'threshold': 0.21000000000000002, 'top15_precision': 0.42857142857142855, 'top15_recall': 0.3, 'top15_lift': 2.0142857142857142}\n",
      "Model saved to model/sale_cc/rf/random_forest_model.joblib\n",
      "Threshold saved to model/sale_cc/rf/random_forest_threshold.txt\n"
     ]
    },
    {
     "data": {
      "text/html": [],
      "text/plain": [
       "<IPython.core.display.HTML object>"
      ]
     },
     "metadata": {},
     "output_type": "display_data"
    },
    {
     "data": {
      "text/html": [
       "<br>    <style><br>        .wandb-row {<br>            display: flex;<br>            flex-direction: row;<br>            flex-wrap: wrap;<br>            justify-content: flex-start;<br>            width: 100%;<br>        }<br>        .wandb-col {<br>            display: flex;<br>            flex-direction: column;<br>            flex-basis: 100%;<br>            flex: 1;<br>            padding: 10px;<br>        }<br>    </style><br><div class=\"wandb-row\"><div class=\"wandb-col\"><h3>Run history:</h3><br/><table class=\"wandb\"><tr><td>auc</td><td>▁</td></tr><tr><td>best_threshold</td><td>▁</td></tr><tr><td>f1</td><td>▁</td></tr><tr><td>precision</td><td>▁</td></tr><tr><td>recall</td><td>▁</td></tr><tr><td>threshold</td><td>▁</td></tr><tr><td>top15_lift</td><td>▁</td></tr><tr><td>top15_precision</td><td>▁</td></tr><tr><td>top15_recall</td><td>▁</td></tr><tr><td>train_auc</td><td>▁</td></tr><tr><td>train_f1</td><td>▁</td></tr><tr><td>train_precision</td><td>▁</td></tr><tr><td>train_recall</td><td>▁</td></tr><tr><td>val_auc</td><td>▁</td></tr><tr><td>val_f1</td><td>▁</td></tr><tr><td>val_precision</td><td>▁</td></tr><tr><td>val_recall</td><td>▁</td></tr></table><br/></div><div class=\"wandb-col\"><h3>Run summary:</h3><br/><table class=\"wandb\"><tr><td>auc</td><td>0.56419</td></tr><tr><td>best_threshold</td><td>0.21</td></tr><tr><td>f1</td><td>0.34884</td></tr><tr><td>precision</td><td>0.22727</td></tr><tr><td>recall</td><td>0.75</td></tr><tr><td>threshold</td><td>0.21</td></tr><tr><td>top15_lift</td><td>2.01429</td></tr><tr><td>top15_precision</td><td>0.42857</td></tr><tr><td>top15_recall</td><td>0.3</td></tr><tr><td>train_auc</td><td>0.9701</td></tr><tr><td>train_f1</td><td>0.62114</td></tr><tr><td>train_precision</td><td>0.45047</td></tr><tr><td>train_recall</td><td>1</td></tr><tr><td>val_auc</td><td>0.53827</td></tr><tr><td>val_f1</td><td>0.40426</td></tr><tr><td>val_precision</td><td>0.26761</td></tr><tr><td>val_recall</td><td>0.82609</td></tr></table><br/></div></div>"
      ],
      "text/plain": [
       "<IPython.core.display.HTML object>"
      ]
     },
     "metadata": {},
     "output_type": "display_data"
    },
    {
     "data": {
      "text/html": [
       " View run <strong style=\"color:#cdcd00\">sale_mf_cc_pca</strong> at: <a href='https://wandb.ai/weixuan/classifcation/runs/ma37htm4' target=\"_blank\">https://wandb.ai/weixuan/classifcation/runs/ma37htm4</a><br> View project at: <a href='https://wandb.ai/weixuan/classifcation' target=\"_blank\">https://wandb.ai/weixuan/classifcation</a><br>Synced 5 W&B file(s), 1 media file(s), 0 artifact file(s) and 0 other file(s)"
      ],
      "text/plain": [
       "<IPython.core.display.HTML object>"
      ]
     },
     "metadata": {},
     "output_type": "display_data"
    },
    {
     "data": {
      "text/html": [
       "Find logs at: <code>.\\wandb\\run-20250707_162400-ma37htm4\\logs</code>"
      ],
      "text/plain": [
       "<IPython.core.display.HTML object>"
      ]
     },
     "metadata": {},
     "output_type": "display_data"
    }
   ],
   "source": [
    "wandb_cfg = load_wandb_config(\"../configs/config.yaml\")\n",
    "wandb_cfg.run_name = \"sale_mf_cc_pca\"\n",
    "\n",
    "# Initialize trainer\n",
    "trainer = ClassifierTrainer(\n",
    "    model_name=\"random_forest\",\n",
    "    config=wandb_cfg.hyperparameters,\n",
    "    feature_cols=X_train_pca.columns,\n",
    "    label_col = \"Sale_CC\",\n",
    "    wandb_config=wandb_cfg,\n",
    ")\n",
    "\n",
    "# Tune hyperparameters\n",
    "trainer.tune_hyperparameters(X_train_pca, y_train, X_val_pca, y_val)\n",
    "\n",
    "# Evaluate on test set\n",
    "metrics = trainer.evaluate(X_test_pca, y_test)\n",
    "print(\"Test Metrics:\", metrics)\n",
    "\n",
    "trainer.save_model(\"model/sale_cc/rf/\")\n",
    "\n",
    "\n",
    "# Close wandb run\n",
    "trainer.close()"
   ]
  },
  {
   "cell_type": "code",
   "execution_count": 24,
   "id": "f68f0ef8",
   "metadata": {},
   "outputs": [
    {
     "data": {
      "text/html": [
       "Tracking run with wandb version 0.21.0"
      ],
      "text/plain": [
       "<IPython.core.display.HTML object>"
      ]
     },
     "metadata": {},
     "output_type": "display_data"
    },
    {
     "data": {
      "text/html": [
       "Run data is saved locally in <code>c:\\Users\\Ng Wei Xuan\\Desktop\\Others\\Singlife\\propensity_prediction\\training\\notebooks\\wandb\\run-20250707_162404-g7bmk681</code>"
      ],
      "text/plain": [
       "<IPython.core.display.HTML object>"
      ]
     },
     "metadata": {},
     "output_type": "display_data"
    },
    {
     "data": {
      "text/html": [
       "Syncing run <strong><a href='https://wandb.ai/weixuan/classifcation/runs/g7bmk681' target=\"_blank\">sale_cc_xgboost_pca</a></strong> to <a href='https://wandb.ai/weixuan/classifcation' target=\"_blank\">Weights & Biases</a> (<a href='https://wandb.me/developer-guide' target=\"_blank\">docs</a>)<br>"
      ],
      "text/plain": [
       "<IPython.core.display.HTML object>"
      ]
     },
     "metadata": {},
     "output_type": "display_data"
    },
    {
     "data": {
      "text/html": [
       " View project at <a href='https://wandb.ai/weixuan/classifcation' target=\"_blank\">https://wandb.ai/weixuan/classifcation</a>"
      ],
      "text/plain": [
       "<IPython.core.display.HTML object>"
      ]
     },
     "metadata": {},
     "output_type": "display_data"
    },
    {
     "data": {
      "text/html": [
       " View run at <a href='https://wandb.ai/weixuan/classifcation/runs/g7bmk681' target=\"_blank\">https://wandb.ai/weixuan/classifcation/runs/g7bmk681</a>"
      ],
      "text/plain": [
       "<IPython.core.display.HTML object>"
      ]
     },
     "metadata": {},
     "output_type": "display_data"
    },
    {
     "name": "stdout",
     "output_type": "stream",
     "text": [
      "\n",
      "Best hyperparameters for xgboost: {'max_depth': 6, 'min_child_weight': 8}\n",
      "Best threshold tuned on validation set: 0.280\n",
      "Best validation F1: 0.5306\n",
      "\n",
      "Metrics using Best Model BEFORE Retraining:\n",
      "Train F1: 0.9845 | Precision: 0.9695 | Recall: 1.0000 | ROC AUC: 0.9999\n",
      "Val   F1: 0.5306 | Precision: 0.5000 | Recall: 0.5652 | ROC AUC: 0.6859\n",
      "\n"
     ]
    },
    {
     "data": {
      "image/png": "[encoded data removed]",
      "text/plain": [
       "<Figure size 600x600 with 1 Axes>"
      ]
     },
     "metadata": {},
     "output_type": "display_data"
    },
    {
     "name": "stdout",
     "output_type": "stream",
     "text": [
      "\n",
      "Evaluation Metrics:\n",
      "f1: 0.2308\n",
      "precision: 0.1875\n",
      "recall: 0.3000\n",
      "auc: 0.4865\n",
      "threshold: 0.2800\n",
      "top15_precision: 0.2857\n",
      "top15_recall: 0.2000\n",
      "top15_lift: 1.3429\n",
      "Test Metrics: {'f1': 0.23076923076923078, 'precision': 0.1875, 'recall': 0.3, 'auc': 0.4864864864864865, 'threshold': 0.28, 'top15_precision': 0.2857142857142857, 'top15_recall': 0.2, 'top15_lift': 1.3428571428571427}\n",
      "Model saved to model/sale_cc/xgboost/xgboost_model.joblib\n",
      "Threshold saved to model/sale_cc/xgboost/xgboost_threshold.txt\n"
     ]
    },
    {
     "data": {
      "text/html": [],
      "text/plain": [
       "<IPython.core.display.HTML object>"
      ]
     },
     "metadata": {},
     "output_type": "display_data"
    },
    {
     "data": {
      "text/html": [
       "<br>    <style><br>        .wandb-row {<br>            display: flex;<br>            flex-direction: row;<br>            flex-wrap: wrap;<br>            justify-content: flex-start;<br>            width: 100%;<br>        }<br>        .wandb-col {<br>            display: flex;<br>            flex-direction: column;<br>            flex-basis: 100%;<br>            flex: 1;<br>            padding: 10px;<br>        }<br>    </style><br><div class=\"wandb-row\"><div class=\"wandb-col\"><h3>Run history:</h3><br/><table class=\"wandb\"><tr><td>auc</td><td>▁</td></tr><tr><td>best_threshold</td><td>▁</td></tr><tr><td>f1</td><td>▁</td></tr><tr><td>precision</td><td>▁</td></tr><tr><td>recall</td><td>▁</td></tr><tr><td>threshold</td><td>▁</td></tr><tr><td>top15_lift</td><td>▁</td></tr><tr><td>top15_precision</td><td>▁</td></tr><tr><td>top15_recall</td><td>▁</td></tr><tr><td>train_auc</td><td>▁</td></tr><tr><td>train_f1</td><td>▁</td></tr><tr><td>train_precision</td><td>▁</td></tr><tr><td>train_recall</td><td>▁</td></tr><tr><td>val_auc</td><td>▁</td></tr><tr><td>val_f1</td><td>▁</td></tr><tr><td>val_precision</td><td>▁</td></tr><tr><td>val_recall</td><td>▁</td></tr></table><br/></div><div class=\"wandb-col\"><h3>Run summary:</h3><br/><table class=\"wandb\"><tr><td>auc</td><td>0.48649</td></tr><tr><td>best_threshold</td><td>0.28</td></tr><tr><td>f1</td><td>0.23077</td></tr><tr><td>precision</td><td>0.1875</td></tr><tr><td>recall</td><td>0.3</td></tr><tr><td>threshold</td><td>0.28</td></tr><tr><td>top15_lift</td><td>1.34286</td></tr><tr><td>top15_precision</td><td>0.28571</td></tr><tr><td>top15_recall</td><td>0.2</td></tr><tr><td>train_auc</td><td>0.99994</td></tr><tr><td>train_f1</td><td>0.98454</td></tr><tr><td>train_precision</td><td>0.96954</td></tr><tr><td>train_recall</td><td>1</td></tr><tr><td>val_auc</td><td>0.68585</td></tr><tr><td>val_f1</td><td>0.53061</td></tr><tr><td>val_precision</td><td>0.5</td></tr><tr><td>val_recall</td><td>0.56522</td></tr></table><br/></div></div>"
      ],
      "text/plain": [
       "<IPython.core.display.HTML object>"
      ]
     },
     "metadata": {},
     "output_type": "display_data"
    },
    {
     "data": {
      "text/html": [
       " View run <strong style=\"color:#cdcd00\">sale_cc_xgboost_pca</strong> at: <a href='https://wandb.ai/weixuan/classifcation/runs/g7bmk681' target=\"_blank\">https://wandb.ai/weixuan/classifcation/runs/g7bmk681</a><br> View project at: <a href='https://wandb.ai/weixuan/classifcation' target=\"_blank\">https://wandb.ai/weixuan/classifcation</a><br>Synced 5 W&B file(s), 1 media file(s), 0 artifact file(s) and 0 other file(s)"
      ],
      "text/plain": [
       "<IPython.core.display.HTML object>"
      ]
     },
     "metadata": {},
     "output_type": "display_data"
    },
    {
     "data": {
      "text/html": [
       "Find logs at: <code>.\\wandb\\run-20250707_162404-g7bmk681\\logs</code>"
      ],
      "text/plain": [
       "<IPython.core.display.HTML object>"
      ]
     },
     "metadata": {},
     "output_type": "display_data"
    }
   ],
   "source": [
    "wandb_cfg = load_wandb_config(\"../configs/config.yaml\")\n",
    "wandb_cfg.run_name = \"sale_cc_xgboost_pca\"\n",
    "\n",
    "# Initialize trainer\n",
    "trainer = ClassifierTrainer(\n",
    "    model_name=\"xgboost\",\n",
    "    config=wandb_cfg.hyperparameters,\n",
    "    feature_cols=X_train_pca.columns,\n",
    "    label_col = \"Sale_CC\",\n",
    "    wandb_config=wandb_cfg,\n",
    ")\n",
    "\n",
    "# Tune hyperparameters\n",
    "trainer.tune_hyperparameters(X_train_pca, y_train, X_val_pca, y_val)\n",
    "\n",
    "# Evaluate on test set\n",
    "metrics = trainer.evaluate(X_test_pca, y_test)\n",
    "print(\"Test Metrics:\", metrics)\n",
    "\n",
    "trainer.save_model(\"model/sale_cc/xgboost/\")\n",
    "\n",
    "\n",
    "# Close wandb run\n",
    "trainer.close()"
   ]
  },
  {
   "cell_type": "markdown",
   "id": "c1521675",
   "metadata": {},
   "source": [
    "## CL"
   ]
  },
  {
   "cell_type": "code",
   "execution_count": 25,
   "id": "efd0a67a",
   "metadata": {},
   "outputs": [
    {
     "data": {
      "text/html": [
       "Tracking run with wandb version 0.21.0"
      ],
      "text/plain": [
       "<IPython.core.display.HTML object>"
      ]
     },
     "metadata": {},
     "output_type": "display_data"
    },
    {
     "data": {
      "text/html": [
       "Run data is saved locally in <code>c:\\Users\\Ng Wei Xuan\\Desktop\\Others\\Singlife\\propensity_prediction\\training\\notebooks\\wandb\\run-20250707_162410-8oqkcmj1</code>"
      ],
      "text/plain": [
       "<IPython.core.display.HTML object>"
      ]
     },
     "metadata": {},
     "output_type": "display_data"
    },
    {
     "data": {
      "text/html": [
       "Syncing run <strong><a href='https://wandb.ai/weixuan/classifcation/runs/8oqkcmj1' target=\"_blank\">sale_mf_cl_pca</a></strong> to <a href='https://wandb.ai/weixuan/classifcation' target=\"_blank\">Weights & Biases</a> (<a href='https://wandb.me/developer-guide' target=\"_blank\">docs</a>)<br>"
      ],
      "text/plain": [
       "<IPython.core.display.HTML object>"
      ]
     },
     "metadata": {},
     "output_type": "display_data"
    },
    {
     "data": {
      "text/html": [
       " View project at <a href='https://wandb.ai/weixuan/classifcation' target=\"_blank\">https://wandb.ai/weixuan/classifcation</a>"
      ],
      "text/plain": [
       "<IPython.core.display.HTML object>"
      ]
     },
     "metadata": {},
     "output_type": "display_data"
    },
    {
     "data": {
      "text/html": [
       " View run at <a href='https://wandb.ai/weixuan/classifcation/runs/8oqkcmj1' target=\"_blank\">https://wandb.ai/weixuan/classifcation/runs/8oqkcmj1</a>"
      ],
      "text/plain": [
       "<IPython.core.display.HTML object>"
      ]
     },
     "metadata": {},
     "output_type": "display_data"
    },
    {
     "name": "stdout",
     "output_type": "stream",
     "text": [
      "\n",
      "Best hyperparameters for random_forest: {'max_depth': 7, 'min_samples_split': 8}\n",
      "Best threshold tuned on validation set: 0.310\n",
      "Best validation F1: 0.5424\n",
      "\n",
      "Metrics using Best Model BEFORE Retraining:\n",
      "Train F1: 0.8485 | Precision: 0.8465 | Recall: 0.8505 | ROC AUC: 0.9690\n",
      "Val   F1: 0.5424 | Precision: 0.5000 | Recall: 0.5926 | ROC AUC: 0.6346\n",
      "\n"
     ]
    },
    {
     "data": {
      "image/png": "[encoded data removed]",
      "text/plain": [
       "<Figure size 600x600 with 1 Axes>"
      ]
     },
     "metadata": {},
     "output_type": "display_data"
    },
    {
     "name": "stdout",
     "output_type": "stream",
     "text": [
      "\n",
      "Evaluation Metrics:\n",
      "f1: 0.4231\n",
      "precision: 0.4231\n",
      "recall: 0.4231\n",
      "auc: 0.6804\n",
      "threshold: 0.3100\n",
      "top15_precision: 0.5714\n",
      "top15_recall: 0.3077\n",
      "top15_lift: 2.0659\n",
      "Test Metrics: {'f1': 0.4230769230769231, 'precision': 0.4230769230769231, 'recall': 0.4230769230769231, 'auc': 0.6804298642533937, 'threshold': 0.31, 'top15_precision': 0.5714285714285714, 'top15_recall': 0.3076923076923077, 'top15_lift': 2.0659340659340657}\n",
      "Model saved to model/sale_cl/rf/random_forest_model.joblib\n",
      "Threshold saved to model/sale_cl/rf/random_forest_threshold.txt\n"
     ]
    },
    {
     "data": {
      "text/html": [],
      "text/plain": [
       "<IPython.core.display.HTML object>"
      ]
     },
     "metadata": {},
     "output_type": "display_data"
    },
    {
     "data": {
      "text/html": [
       "<br>    <style><br>        .wandb-row {<br>            display: flex;<br>            flex-direction: row;<br>            flex-wrap: wrap;<br>            justify-content: flex-start;<br>            width: 100%;<br>        }<br>        .wandb-col {<br>            display: flex;<br>            flex-direction: column;<br>            flex-basis: 100%;<br>            flex: 1;<br>            padding: 10px;<br>        }<br>    </style><br><div class=\"wandb-row\"><div class=\"wandb-col\"><h3>Run history:</h3><br/><table class=\"wandb\"><tr><td>auc</td><td>▁</td></tr><tr><td>best_threshold</td><td>▁</td></tr><tr><td>f1</td><td>▁</td></tr><tr><td>precision</td><td>▁</td></tr><tr><td>recall</td><td>▁</td></tr><tr><td>threshold</td><td>▁</td></tr><tr><td>top15_lift</td><td>▁</td></tr><tr><td>top15_precision</td><td>▁</td></tr><tr><td>top15_recall</td><td>▁</td></tr><tr><td>train_auc</td><td>▁</td></tr><tr><td>train_f1</td><td>▁</td></tr><tr><td>train_precision</td><td>▁</td></tr><tr><td>train_recall</td><td>▁</td></tr><tr><td>val_auc</td><td>▁</td></tr><tr><td>val_f1</td><td>▁</td></tr><tr><td>val_precision</td><td>▁</td></tr><tr><td>val_recall</td><td>▁</td></tr></table><br/></div><div class=\"wandb-col\"><h3>Run summary:</h3><br/><table class=\"wandb\"><tr><td>auc</td><td>0.68043</td></tr><tr><td>best_threshold</td><td>0.31</td></tr><tr><td>f1</td><td>0.42308</td></tr><tr><td>precision</td><td>0.42308</td></tr><tr><td>recall</td><td>0.42308</td></tr><tr><td>threshold</td><td>0.31</td></tr><tr><td>top15_lift</td><td>2.06593</td></tr><tr><td>top15_precision</td><td>0.57143</td></tr><tr><td>top15_recall</td><td>0.30769</td></tr><tr><td>train_auc</td><td>0.96896</td></tr><tr><td>train_f1</td><td>0.84848</td></tr><tr><td>train_precision</td><td>0.84651</td></tr><tr><td>train_recall</td><td>0.85047</td></tr><tr><td>val_auc</td><td>0.6346</td></tr><tr><td>val_f1</td><td>0.54237</td></tr><tr><td>val_precision</td><td>0.5</td></tr><tr><td>val_recall</td><td>0.59259</td></tr></table><br/></div></div>"
      ],
      "text/plain": [
       "<IPython.core.display.HTML object>"
      ]
     },
     "metadata": {},
     "output_type": "display_data"
    },
    {
     "data": {
      "text/html": [
       " View run <strong style=\"color:#cdcd00\">sale_mf_cl_pca</strong> at: <a href='https://wandb.ai/weixuan/classifcation/runs/8oqkcmj1' target=\"_blank\">https://wandb.ai/weixuan/classifcation/runs/8oqkcmj1</a><br> View project at: <a href='https://wandb.ai/weixuan/classifcation' target=\"_blank\">https://wandb.ai/weixuan/classifcation</a><br>Synced 5 W&B file(s), 1 media file(s), 0 artifact file(s) and 0 other file(s)"
      ],
      "text/plain": [
       "<IPython.core.display.HTML object>"
      ]
     },
     "metadata": {},
     "output_type": "display_data"
    },
    {
     "data": {
      "text/html": [
       "Find logs at: <code>.\\wandb\\run-20250707_162410-8oqkcmj1\\logs</code>"
      ],
      "text/plain": [
       "<IPython.core.display.HTML object>"
      ]
     },
     "metadata": {},
     "output_type": "display_data"
    }
   ],
   "source": [
    "wandb_cfg = load_wandb_config(\"../configs/config.yaml\")\n",
    "wandb_cfg.run_name = \"sale_mf_cl_pca\"\n",
    "\n",
    "# Initialize trainer\n",
    "trainer = ClassifierTrainer(\n",
    "    model_name=\"random_forest\",\n",
    "    config=wandb_cfg.hyperparameters,\n",
    "    feature_cols=X_train_pca.columns,\n",
    "    label_col = \"Sale_CL\",\n",
    "    wandb_config=wandb_cfg,\n",
    ")\n",
    "\n",
    "# Tune hyperparameters\n",
    "trainer.tune_hyperparameters(X_train_pca, y_train, X_val_pca, y_val)\n",
    "\n",
    "# Evaluate on test set\n",
    "metrics = trainer.evaluate(X_test_pca, y_test)\n",
    "print(\"Test Metrics:\", metrics)\n",
    "\n",
    "trainer.save_model(\"model/sale_cl/rf/\")\n",
    "\n",
    "\n",
    "# Close wandb run\n",
    "trainer.close()"
   ]
  },
  {
   "cell_type": "code",
   "execution_count": 26,
   "id": "76e6fac9",
   "metadata": {},
   "outputs": [
    {
     "data": {
      "text/html": [
       "Tracking run with wandb version 0.21.0"
      ],
      "text/plain": [
       "<IPython.core.display.HTML object>"
      ]
     },
     "metadata": {},
     "output_type": "display_data"
    },
    {
     "data": {
      "text/html": [
       "Run data is saved locally in <code>c:\\Users\\Ng Wei Xuan\\Desktop\\Others\\Singlife\\propensity_prediction\\training\\notebooks\\wandb\\run-20250707_162416-14asn7kq</code>"
      ],
      "text/plain": [
       "<IPython.core.display.HTML object>"
      ]
     },
     "metadata": {},
     "output_type": "display_data"
    },
    {
     "data": {
      "text/html": [
       "Syncing run <strong><a href='https://wandb.ai/weixuan/classifcation/runs/14asn7kq' target=\"_blank\">sale_cl_xgboost_pca</a></strong> to <a href='https://wandb.ai/weixuan/classifcation' target=\"_blank\">Weights & Biases</a> (<a href='https://wandb.me/developer-guide' target=\"_blank\">docs</a>)<br>"
      ],
      "text/plain": [
       "<IPython.core.display.HTML object>"
      ]
     },
     "metadata": {},
     "output_type": "display_data"
    },
    {
     "data": {
      "text/html": [
       " View project at <a href='https://wandb.ai/weixuan/classifcation' target=\"_blank\">https://wandb.ai/weixuan/classifcation</a>"
      ],
      "text/plain": [
       "<IPython.core.display.HTML object>"
      ]
     },
     "metadata": {},
     "output_type": "display_data"
    },
    {
     "data": {
      "text/html": [
       " View run at <a href='https://wandb.ai/weixuan/classifcation/runs/14asn7kq' target=\"_blank\">https://wandb.ai/weixuan/classifcation/runs/14asn7kq</a>"
      ],
      "text/plain": [
       "<IPython.core.display.HTML object>"
      ]
     },
     "metadata": {},
     "output_type": "display_data"
    },
    {
     "name": "stdout",
     "output_type": "stream",
     "text": [
      "\n",
      "Best hyperparameters for xgboost: {'max_depth': 3, 'min_child_weight': 8}\n",
      "Best threshold tuned on validation set: 0.110\n",
      "Best validation F1: 0.4898\n",
      "\n",
      "Metrics using Best Model BEFORE Retraining:\n",
      "Train F1: 0.6071 | Precision: 0.4358 | Recall: 1.0000 | ROC AUC: 0.9907\n",
      "Val   F1: 0.4898 | Precision: 0.3380 | Recall: 0.8889 | ROC AUC: 0.5937\n",
      "\n"
     ]
    },
    {
     "data": {
      "image/png": "[encoded data removed]",
      "text/plain": [
       "<Figure size 600x600 with 1 Axes>"
      ]
     },
     "metadata": {},
     "output_type": "display_data"
    },
    {
     "name": "stdout",
     "output_type": "stream",
     "text": [
      "\n",
      "Evaluation Metrics:\n",
      "f1: 0.4301\n",
      "precision: 0.2985\n",
      "recall: 0.7692\n",
      "auc: 0.6069\n",
      "threshold: 0.1100\n",
      "top15_precision: 0.4286\n",
      "top15_recall: 0.2308\n",
      "top15_lift: 1.5495\n",
      "Test Metrics: {'f1': 0.43010752688172044, 'precision': 0.29850746268656714, 'recall': 0.7692307692307693, 'auc': 0.6069004524886877, 'threshold': 0.11, 'top15_precision': 0.42857142857142855, 'top15_recall': 0.23076923076923078, 'top15_lift': 1.5494505494505493}\n",
      "Model saved to model/sale_cl/xgboost/xgboost_model.joblib\n",
      "Threshold saved to model/sale_cl/xgboost/xgboost_threshold.txt\n"
     ]
    },
    {
     "data": {
      "text/html": [],
      "text/plain": [
       "<IPython.core.display.HTML object>"
      ]
     },
     "metadata": {},
     "output_type": "display_data"
    },
    {
     "data": {
      "text/html": [
       "<br>    <style><br>        .wandb-row {<br>            display: flex;<br>            flex-direction: row;<br>            flex-wrap: wrap;<br>            justify-content: flex-start;<br>            width: 100%;<br>        }<br>        .wandb-col {<br>            display: flex;<br>            flex-direction: column;<br>            flex-basis: 100%;<br>            flex: 1;<br>            padding: 10px;<br>        }<br>    </style><br><div class=\"wandb-row\"><div class=\"wandb-col\"><h3>Run history:</h3><br/><table class=\"wandb\"><tr><td>auc</td><td>▁</td></tr><tr><td>best_threshold</td><td>▁</td></tr><tr><td>f1</td><td>▁</td></tr><tr><td>precision</td><td>▁</td></tr><tr><td>recall</td><td>▁</td></tr><tr><td>threshold</td><td>▁</td></tr><tr><td>top15_lift</td><td>▁</td></tr><tr><td>top15_precision</td><td>▁</td></tr><tr><td>top15_recall</td><td>▁</td></tr><tr><td>train_auc</td><td>▁</td></tr><tr><td>train_f1</td><td>▁</td></tr><tr><td>train_precision</td><td>▁</td></tr><tr><td>train_recall</td><td>▁</td></tr><tr><td>val_auc</td><td>▁</td></tr><tr><td>val_f1</td><td>▁</td></tr><tr><td>val_precision</td><td>▁</td></tr><tr><td>val_recall</td><td>▁</td></tr></table><br/></div><div class=\"wandb-col\"><h3>Run summary:</h3><br/><table class=\"wandb\"><tr><td>auc</td><td>0.6069</td></tr><tr><td>best_threshold</td><td>0.11</td></tr><tr><td>f1</td><td>0.43011</td></tr><tr><td>precision</td><td>0.29851</td></tr><tr><td>recall</td><td>0.76923</td></tr><tr><td>threshold</td><td>0.11</td></tr><tr><td>top15_lift</td><td>1.54945</td></tr><tr><td>top15_precision</td><td>0.42857</td></tr><tr><td>top15_recall</td><td>0.23077</td></tr><tr><td>train_auc</td><td>0.9907</td></tr><tr><td>train_f1</td><td>0.60709</td></tr><tr><td>train_precision</td><td>0.43585</td></tr><tr><td>train_recall</td><td>1</td></tr><tr><td>val_auc</td><td>0.5937</td></tr><tr><td>val_f1</td><td>0.4898</td></tr><tr><td>val_precision</td><td>0.33803</td></tr><tr><td>val_recall</td><td>0.88889</td></tr></table><br/></div></div>"
      ],
      "text/plain": [
       "<IPython.core.display.HTML object>"
      ]
     },
     "metadata": {},
     "output_type": "display_data"
    },
    {
     "data": {
      "text/html": [
       " View run <strong style=\"color:#cdcd00\">sale_cl_xgboost_pca</strong> at: <a href='https://wandb.ai/weixuan/classifcation/runs/14asn7kq' target=\"_blank\">https://wandb.ai/weixuan/classifcation/runs/14asn7kq</a><br> View project at: <a href='https://wandb.ai/weixuan/classifcation' target=\"_blank\">https://wandb.ai/weixuan/classifcation</a><br>Synced 5 W&B file(s), 1 media file(s), 0 artifact file(s) and 0 other file(s)"
      ],
      "text/plain": [
       "<IPython.core.display.HTML object>"
      ]
     },
     "metadata": {},
     "output_type": "display_data"
    },
    {
     "data": {
      "text/html": [
       "Find logs at: <code>.\\wandb\\run-20250707_162416-14asn7kq\\logs</code>"
      ],
      "text/plain": [
       "<IPython.core.display.HTML object>"
      ]
     },
     "metadata": {},
     "output_type": "display_data"
    }
   ],
   "source": [
    "wandb_cfg = load_wandb_config(\"../configs/config.yaml\")\n",
    "wandb_cfg.run_name = \"sale_cl_xgboost_pca\"\n",
    "\n",
    "# Initialize trainer\n",
    "trainer = ClassifierTrainer(\n",
    "    model_name=\"xgboost\",\n",
    "    config=wandb_cfg.hyperparameters,\n",
    "    feature_cols=X_train_pca.columns,\n",
    "    label_col = \"Sale_CL\",\n",
    "    wandb_config=wandb_cfg,\n",
    ")\n",
    "\n",
    "# Tune hyperparameters\n",
    "trainer.tune_hyperparameters(X_train_pca, y_train, X_val_pca, y_val)\n",
    "\n",
    "# Evaluate on test set\n",
    "metrics = trainer.evaluate(X_test_pca, y_test)\n",
    "print(\"Test Metrics:\", metrics)\n",
    "\n",
    "trainer.save_model(\"model/sale_cl/xgboost/\")\n",
    "\n",
    "\n",
    "# Close wandb run\n",
    "trainer.close()"
   ]
  },
  {
   "cell_type": "markdown",
   "id": "b3f13904",
   "metadata": {},
   "source": [
    "# Optimization"
   ]
  },
  {
   "cell_type": "code",
   "execution_count": 41,
   "id": "58486667",
   "metadata": {},
   "outputs": [
    {
     "data": {
      "text/plain": [
       "(933, 13)"
      ]
     },
     "execution_count": 41,
     "metadata": {},
     "output_type": "execute_result"
    }
   ],
   "source": [
    "# Assume you know your categorical columns, e.g.:\n",
    "categorical_cols = [\"Sex_M\"]\n",
    "\n",
    "# Instantiate the transformer\n",
    "pca_transformer = PCATransformer(cat_columns=categorical_cols)\n",
    "\n",
    "# Fit PCA on training data and transform\n",
    "pca_loaded = pca_transformer.load(\"model/pca/\")\n",
    "\n",
    "# Load all data\n",
    "X = df[feature_cols]\n",
    "X_transformed = pca_loaded.transform(X)\n",
    "X_transformed.shape"
   ]
  },
  {
   "cell_type": "code",
   "execution_count": 42,
   "id": "2b7a1ec8",
   "metadata": {},
   "outputs": [],
   "source": [
    "import joblib\n",
    "import os\n",
    "import pandas as pd\n",
    "import numpy as np\n",
    "\n",
    "class ModelPredictor:\n",
    "    def __init__(self, model_name: str, model_folder: str, feature_cols: list):\n",
    "        \"\"\"\n",
    "        Load saved model and threshold from the given folder.\n",
    "        \n",
    "        Args:\n",
    "            model_name (str): Name of the model (e.g., \"random_forest\", \"xgboost\").\n",
    "            model_folder (str): Folder path where model and threshold are saved.\n",
    "            feature_cols (list): List of feature column names expected by the model.\n",
    "        \"\"\"\n",
    "        self.model_name = model_name\n",
    "        self.feature_cols = feature_cols\n",
    "        \n",
    "        model_path = os.path.join(model_folder, f\"{model_name}_model.joblib\")\n",
    "        threshold_path = os.path.join(model_folder, f\"{model_name}_threshold.txt\")\n",
    "        \n",
    "        if not os.path.exists(model_path):\n",
    "            raise FileNotFoundError(f\"Model file not found: {model_path}\")\n",
    "        if not os.path.exists(threshold_path):\n",
    "            raise FileNotFoundError(f\"Threshold file not found: {threshold_path}\")\n",
    "        \n",
    "        self.model = joblib.load(model_path)\n",
    "        \n",
    "        with open(threshold_path, \"r\") as f:\n",
    "            self.best_threshold = float(f.read().strip())\n",
    "        \n",
    "        print(f\"Loaded model from {model_path}\")\n",
    "        print(f\"Loaded threshold: {self.best_threshold:.3f}\")\n",
    "\n",
    "        if hasattr(self.model, \"feature_names_in_\"):\n",
    "            print(f\"Model trained with features: {self.model.feature_names_in_.tolist()}\")\n",
    "\n",
    "    def validate_features(self, X: pd.DataFrame):\n",
    "        \"\"\"\n",
    "        Validate if prediction dataset matches expected features.\n",
    "        Raises clear errors if mismatches found.\n",
    "        \"\"\"\n",
    "        missing = [col for col in self.feature_cols if col not in X.columns]\n",
    "        extra = [col for col in X.columns if col not in self.feature_cols]\n",
    "\n",
    "        if missing:\n",
    "            raise ValueError(f\"Missing columns for prediction: {missing}\")\n",
    "        if extra:\n",
    "            print(f\"Warning: Extra columns present in prediction data (ignored during filtering): {extra}\")\n",
    "\n",
    "    def predict(self, X: pd.DataFrame) -> (np.ndarray, np.ndarray):\n",
    "        \"\"\"\n",
    "        Predict binary labels and probabilities for input features.\n",
    "        \n",
    "        Args:\n",
    "            X (pd.DataFrame): DataFrame containing feature columns.\n",
    "            \n",
    "        Returns:\n",
    "            preds (np.ndarray): Binary predictions based on threshold.\n",
    "            probs (np.ndarray): Predicted probabilities (positive class).\n",
    "        \"\"\"\n",
    "        self.validate_features(X)\n",
    "        \n",
    "        X_filtered = X[self.feature_cols]\n",
    "        \n",
    "        print(f\"Using columns for prediction: {X_filtered.columns.tolist()}\")\n",
    "\n",
    "        probs = self.model.predict_proba(X_filtered)[:, 1]\n",
    "        preds = (probs >= self.best_threshold).astype(int)\n",
    "        \n",
    "        return preds, probs"
   ]
  },
  {
   "cell_type": "code",
   "execution_count": 44,
   "id": "0f8ca0d8",
   "metadata": {},
   "outputs": [
    {
     "name": "stdout",
     "output_type": "stream",
     "text": [
      "Loaded model from model/sale_mf/rf/random_forest_model.joblib\n",
      "Loaded threshold: 0.180\n",
      "Model trained with features: ['Sex_M', 'PC1', 'PC2', 'PC3', 'PC4', 'PC5', 'PC6', 'PC7', 'PC8', 'PC9', 'PC10', 'PC11', 'PC12']\n",
      "Using columns for prediction: ['Sex_M', 'PC1', 'PC2', 'PC3', 'PC4', 'PC5', 'PC6', 'PC7', 'PC8', 'PC9', 'PC10', 'PC11', 'PC12']\n"
     ]
    },
    {
     "data": {
      "text/plain": [
       "0      0.290830\n",
       "1      0.320395\n",
       "2      0.472037\n",
       "3      0.544566\n",
       "4      0.383942\n",
       "         ...   \n",
       "964    0.383049\n",
       "965    0.522829\n",
       "966    0.447345\n",
       "967    0.387990\n",
       "968    0.468530\n",
       "Name: prob_mf, Length: 933, dtype: float64"
      ]
     },
     "execution_count": 44,
     "metadata": {},
     "output_type": "execute_result"
    }
   ],
   "source": [
    "# Perform prediction for all clients MF\n",
    "model_name = \"random_forest\"\n",
    "model_folder = \"model/sale_mf/rf/\"\n",
    "predictor = ModelPredictor(model_name=model_name, model_folder=model_folder, feature_cols=X_transformed.columns)\n",
    "preds, probs = predictor.predict(X_transformed)\n",
    "df['prob_mf'] = probs\n",
    "df['prob_mf']"
   ]
  },
  {
   "cell_type": "code",
   "execution_count": 45,
   "id": "81a5c60e",
   "metadata": {},
   "outputs": [
    {
     "name": "stdout",
     "output_type": "stream",
     "text": [
      "Loaded model from model/sale_cc/rf/random_forest_model.joblib\n",
      "Loaded threshold: 0.210\n",
      "Model trained with features: ['Sex_M', 'PC1', 'PC2', 'PC3', 'PC4', 'PC5', 'PC6', 'PC7', 'PC8', 'PC9', 'PC10', 'PC11', 'PC12']\n",
      "Using columns for prediction: ['Sex_M', 'PC1', 'PC2', 'PC3', 'PC4', 'PC5', 'PC6', 'PC7', 'PC8', 'PC9', 'PC10', 'PC11', 'PC12']\n"
     ]
    },
    {
     "data": {
      "text/plain": [
       "0      0.510608\n",
       "1      0.171062\n",
       "2      0.747698\n",
       "3      0.476027\n",
       "4      0.411835\n",
       "         ...   \n",
       "964    0.694932\n",
       "965    0.483320\n",
       "966    0.694299\n",
       "967    0.391142\n",
       "968    0.660353\n",
       "Name: prob_cc, Length: 933, dtype: float64"
      ]
     },
     "execution_count": 45,
     "metadata": {},
     "output_type": "execute_result"
    }
   ],
   "source": [
    "# Perform prediction for all clients CC\n",
    "model_name = \"random_forest\"\n",
    "model_folder = \"model/sale_cc/rf/\"\n",
    "predictor = ModelPredictor(model_name=model_name, model_folder=model_folder, feature_cols=X_transformed.columns)\n",
    "preds, probs = predictor.predict(X_transformed)\n",
    "df['prob_cc'] = probs\n",
    "df['prob_cc']\n"
   ]
  },
  {
   "cell_type": "code",
   "execution_count": 46,
   "id": "8601aaa1",
   "metadata": {},
   "outputs": [
    {
     "name": "stdout",
     "output_type": "stream",
     "text": [
      "Loaded model from model/sale_cl/rf/random_forest_model.joblib\n",
      "Loaded threshold: 0.310\n",
      "Model trained with features: ['Sex_M', 'PC1', 'PC2', 'PC3', 'PC4', 'PC5', 'PC6', 'PC7', 'PC8', 'PC9', 'PC10', 'PC11', 'PC12']\n",
      "Using columns for prediction: ['Sex_M', 'PC1', 'PC2', 'PC3', 'PC4', 'PC5', 'PC6', 'PC7', 'PC8', 'PC9', 'PC10', 'PC11', 'PC12']\n"
     ]
    },
    {
     "data": {
      "text/plain": [
       "0      0.304955\n",
       "1      0.387454\n",
       "2      0.619980\n",
       "3      0.559023\n",
       "4      0.659398\n",
       "         ...   \n",
       "964    0.586611\n",
       "965    0.566415\n",
       "966    0.551922\n",
       "967    0.505101\n",
       "968    0.505060\n",
       "Name: prob_cl, Length: 933, dtype: float64"
      ]
     },
     "execution_count": 46,
     "metadata": {},
     "output_type": "execute_result"
    }
   ],
   "source": [
    "# Perform prediction for all clients CL\n",
    "model_name = \"random_forest\"\n",
    "model_folder = \"model/sale_cl/rf/\"\n",
    "predictor = ModelPredictor(model_name=model_name, model_folder=model_folder, feature_cols=X_transformed.columns)\n",
    "preds, probs = predictor.predict(X_transformed)\n",
    "df['prob_cl'] = probs\n",
    "df['prob_cl']\n"
   ]
  },
  {
   "cell_type": "code",
   "execution_count": 48,
   "id": "2f8d6639",
   "metadata": {},
   "outputs": [],
   "source": [
    "# Create Strategy\n",
    "\n",
    "def greedy_selection(df):\n",
    "    # Calculate expected revenue per product\n",
    "    df['exp_rev_mf'] = df['prob_mf'] * df['Revenue_MF']\n",
    "    df['exp_rev_cc'] = df['prob_cc'] * df['Revenue_CC']\n",
    "    df['exp_rev_cl'] = df['prob_cl'] * df['Revenue_CL']\n",
    "\n",
    "    # Find best product per client and its expected revenue\n",
    "    exp_rev_cols = ['exp_rev_mf', 'exp_rev_cc', 'exp_rev_cl']\n",
    "    df['best_exp_rev'] = df[exp_rev_cols].max(axis=1)\n",
    "    df['best_product'] = df[exp_rev_cols].idxmax(axis=1)\n",
    "\n",
    "    # Select top 15% clients by best expected revenue\n",
    "    n_select = int(0.15 * len(df))\n",
    "    df_selected = df.nlargest(n_select, 'best_exp_rev').copy()\n",
    "\n",
    "    # Map product column names to simplified product names\n",
    "    product_map = {\n",
    "        'exp_rev_mf': 'MF',\n",
    "        'exp_rev_cc': 'CC',\n",
    "        'exp_rev_cl': 'CL'\n",
    "    }\n",
    "    df_selected['offer_product'] = df_selected['best_product'].map(product_map)\n",
    "\n",
    "    # Final output\n",
    "    return df_selected[['Client', 'offer_product', 'best_exp_rev']]\n"
   ]
  },
  {
   "cell_type": "code",
   "execution_count": 54,
   "id": "b1e6724d",
   "metadata": {},
   "outputs": [
    {
     "name": "stdout",
     "output_type": "stream",
     "text": [
      "Total_Revenue: 2155.808867783992\n"
     ]
    },
    {
     "data": {
      "text/plain": [
       "(139, 3)"
      ]
     },
     "execution_count": 54,
     "metadata": {},
     "output_type": "execute_result"
    }
   ],
   "source": [
    "df_selected = greedy_selection(df)\n",
    "print(f\"Total_Revenue: {sum(df_selected['best_exp_rev'])}\")\n",
    "df_selected.shape"
   ]
  },
  {
   "cell_type": "code",
   "execution_count": 60,
   "id": "daf9a8f3",
   "metadata": {},
   "outputs": [],
   "source": [
    "from scipy.optimize import linprog\n",
    "\n",
    "def optimization_selection(df):\n",
    "    n = len(df)\n",
    "    products = ['mf', 'cc', 'cl']\n",
    "\n",
    "    # Prepare expected revenue vector (length 3*n)\n",
    "    exp_revs = np.zeros(3 * n)\n",
    "    for i, p in enumerate(products):\n",
    "        exp_revs[i*n:(i+1)*n] = df[f'prob_{p}'] * df[f'Revenue_{p.upper()}']\n",
    "\n",
    "    # Objective: maximize expected revenue -> minimize negative for linprog\n",
    "    c = -exp_revs\n",
    "\n",
    "    # Constraints:\n",
    "\n",
    "    # 1) Each customer gets at most one offer:\n",
    "    A_ub = np.zeros((n + 1, 3*n))\n",
    "    b_ub = np.zeros(n + 1)\n",
    "\n",
    "    for i in range(n):\n",
    "        # sum of products assigned to customer i <= 1\n",
    "        A_ub[i, i] = 1          # mf variable\n",
    "        A_ub[i, i + n] = 1      # cc variable\n",
    "        A_ub[i, i + 2*n] = 1    # cl variable\n",
    "        b_ub[i] = 1\n",
    "\n",
    "    # 2) Total offers ≤ 15% of all customers\n",
    "    A_ub[n, :] = 1\n",
    "    b_ub[n] = 0.15 * n\n",
    "\n",
    "    # Bounds: variables between 0 and 1 (relaxed)\n",
    "    bounds = [(0, 1)] * (3 * n)\n",
    "\n",
    "    # Solve LP\n",
    "    res = linprog(c, A_ub=A_ub, b_ub=b_ub, bounds=bounds, method='highs')\n",
    "\n",
    "    if not res.success:\n",
    "        raise RuntimeError(\"Optimization failed:\", res.message)\n",
    "\n",
    "    x = res.x\n",
    "\n",
    "    # Post-process results: pick product with max fractional value for each customer\n",
    "    offers = []\n",
    "    for i in range(n):\n",
    "        vals = [x[i], x[i + n], x[i + 2*n]]\n",
    "        max_val = max(vals)\n",
    "        if max_val > 0:\n",
    "            prod_idx = vals.index(max_val)\n",
    "            prod = products[prod_idx].upper()\n",
    "            expected_revenue = exp_revs[prod_idx * n + i]\n",
    "            offers.append({\n",
    "                'Client': df.iloc[i]['Client'],        # Use iloc to avoid KeyError\n",
    "                'Product': prod,\n",
    "                'Expected_Revenue': expected_revenue\n",
    "            })\n",
    "\n",
    "    # Enforce offer cap by sorting and selecting top 15%\n",
    "    offers_df = pd.DataFrame(offers)\n",
    "    offers_df = offers_df.sort_values('Expected_Revenue', ascending=False).head(int(0.15 * n)).reset_index(drop=True)\n",
    "\n",
    "    return offers_df\n",
    "\n"
   ]
  },
  {
   "cell_type": "code",
   "execution_count": 62,
   "id": "92046077",
   "metadata": {},
   "outputs": [
    {
     "name": "stdout",
     "output_type": "stream",
     "text": [
      "Total_Revenue: 2155.808867783992\n"
     ]
    },
    {
     "data": {
      "text/plain": [
       "(139, 3)"
      ]
     },
     "execution_count": 62,
     "metadata": {},
     "output_type": "execute_result"
    }
   ],
   "source": [
    "df_selected = optimization_selection(df)\n",
    "print(f\"Total_Revenue: {sum(df_selected['Expected_Revenue'])}\")\n",
    "df_selected.shape"
   ]
  },
  {
   "cell_type": "code",
   "execution_count": 64,
   "id": "e6a879f5",
   "metadata": {},
   "outputs": [],
   "source": [
    "df_selected[[\"Client\", \"Product\"]].to_csv(\"../results/target_customers.csv\", index=0)"
   ]
  }
 ],
 "metadata": {
  "kernelspec": {
   "display_name": "myenv",
   "language": "python",
   "name": "python3"
  },
  "language_info": {
   "codemirror_mode": {
    "name": "ipython",
    "version": 3
   },
   "file_extension": ".py",
   "mimetype": "text/x-python",
   "name": "python",
   "nbconvert_exporter": "python",
   "pygments_lexer": "ipython3",
   "version": "3.9.16"
  }
 },
 "nbformat": 4,
 "nbformat_minor": 5
}
